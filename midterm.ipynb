{
 "cells": [
  {
   "attachments": {},
   "cell_type": "markdown",
   "metadata": {},
   "source": [
    "## download the data "
   ]
  },
  {
   "cell_type": "code",
   "execution_count": 144,
   "metadata": {},
   "outputs": [],
   "source": [
    "import numpy as np\n",
    "import pandas as pd\n",
    "from scipy import stats\n",
    "import seaborn as sns\n",
    "import matplotlib.pyplot as plt\n"
   ]
  },
  {
   "cell_type": "code",
   "execution_count": 145,
   "metadata": {},
   "outputs": [
    {
     "data": {
      "text/html": [
       "<div>\n",
       "<style scoped>\n",
       "    .dataframe tbody tr th:only-of-type {\n",
       "        vertical-align: middle;\n",
       "    }\n",
       "\n",
       "    .dataframe tbody tr th {\n",
       "        vertical-align: top;\n",
       "    }\n",
       "\n",
       "    .dataframe thead th {\n",
       "        text-align: right;\n",
       "    }\n",
       "</style>\n",
       "<table border=\"1\" class=\"dataframe\">\n",
       "  <thead>\n",
       "    <tr style=\"text-align: right;\">\n",
       "      <th></th>\n",
       "      <th>userID</th>\n",
       "      <th>age</th>\n",
       "      <th>sessions</th>\n",
       "      <th>time_spent</th>\n",
       "      <th>pages_visited</th>\n",
       "      <th>cart_items</th>\n",
       "      <th>cart_value</th>\n",
       "      <th>checkout_status</th>\n",
       "      <th>device</th>\n",
       "      <th>location</th>\n",
       "    </tr>\n",
       "  </thead>\n",
       "  <tbody>\n",
       "    <tr>\n",
       "      <th>0</th>\n",
       "      <td>1</td>\n",
       "      <td>62</td>\n",
       "      <td>3</td>\n",
       "      <td>13.295129</td>\n",
       "      <td>2</td>\n",
       "      <td>20</td>\n",
       "      <td>199.21</td>\n",
       "      <td>0</td>\n",
       "      <td>Desktop</td>\n",
       "      <td>Location 1</td>\n",
       "    </tr>\n",
       "    <tr>\n",
       "      <th>1</th>\n",
       "      <td>2</td>\n",
       "      <td>65</td>\n",
       "      <td>2</td>\n",
       "      <td>21.686405</td>\n",
       "      <td>3</td>\n",
       "      <td>21</td>\n",
       "      <td>294.82</td>\n",
       "      <td>0</td>\n",
       "      <td>Desktop</td>\n",
       "      <td>Location 3</td>\n",
       "    </tr>\n",
       "    <tr>\n",
       "      <th>2</th>\n",
       "      <td>3</td>\n",
       "      <td>18</td>\n",
       "      <td>7</td>\n",
       "      <td>17.135220</td>\n",
       "      <td>4</td>\n",
       "      <td>23</td>\n",
       "      <td>240.87</td>\n",
       "      <td>0</td>\n",
       "      <td>Desktop</td>\n",
       "      <td>Location 4</td>\n",
       "    </tr>\n",
       "    <tr>\n",
       "      <th>3</th>\n",
       "      <td>4</td>\n",
       "      <td>21</td>\n",
       "      <td>9</td>\n",
       "      <td>29.589311</td>\n",
       "      <td>8</td>\n",
       "      <td>16</td>\n",
       "      <td>183.78</td>\n",
       "      <td>1</td>\n",
       "      <td>Desktop</td>\n",
       "      <td>Location 2</td>\n",
       "    </tr>\n",
       "    <tr>\n",
       "      <th>4</th>\n",
       "      <td>5</td>\n",
       "      <td>21</td>\n",
       "      <td>3</td>\n",
       "      <td>25.948584</td>\n",
       "      <td>4</td>\n",
       "      <td>10</td>\n",
       "      <td>59.51</td>\n",
       "      <td>1</td>\n",
       "      <td>Tablet</td>\n",
       "      <td>Location 4</td>\n",
       "    </tr>\n",
       "    <tr>\n",
       "      <th>5</th>\n",
       "      <td>6</td>\n",
       "      <td>57</td>\n",
       "      <td>9</td>\n",
       "      <td>36.061679</td>\n",
       "      <td>9</td>\n",
       "      <td>16</td>\n",
       "      <td>195.40</td>\n",
       "      <td>1</td>\n",
       "      <td>Desktop</td>\n",
       "      <td>Location 5</td>\n",
       "    </tr>\n",
       "    <tr>\n",
       "      <th>6</th>\n",
       "      <td>7</td>\n",
       "      <td>27</td>\n",
       "      <td>2</td>\n",
       "      <td>6.259057</td>\n",
       "      <td>1</td>\n",
       "      <td>14</td>\n",
       "      <td>116.28</td>\n",
       "      <td>0</td>\n",
       "      <td>Mobile</td>\n",
       "      <td>Location 2</td>\n",
       "    </tr>\n",
       "    <tr>\n",
       "      <th>7</th>\n",
       "      <td>8</td>\n",
       "      <td>37</td>\n",
       "      <td>8</td>\n",
       "      <td>28.509460</td>\n",
       "      <td>7</td>\n",
       "      <td>16</td>\n",
       "      <td>118.14</td>\n",
       "      <td>1</td>\n",
       "      <td>Desktop</td>\n",
       "      <td>Location 1</td>\n",
       "    </tr>\n",
       "    <tr>\n",
       "      <th>8</th>\n",
       "      <td>9</td>\n",
       "      <td>39</td>\n",
       "      <td>5</td>\n",
       "      <td>21.073814</td>\n",
       "      <td>7</td>\n",
       "      <td>25</td>\n",
       "      <td>175.00</td>\n",
       "      <td>0</td>\n",
       "      <td>Tablet</td>\n",
       "      <td>Location 1</td>\n",
       "    </tr>\n",
       "    <tr>\n",
       "      <th>9</th>\n",
       "      <td>10</td>\n",
       "      <td>54</td>\n",
       "      <td>5</td>\n",
       "      <td>28.689260</td>\n",
       "      <td>6</td>\n",
       "      <td>22</td>\n",
       "      <td>196.29</td>\n",
       "      <td>0</td>\n",
       "      <td>Desktop</td>\n",
       "      <td>Location 2</td>\n",
       "    </tr>\n",
       "    <tr>\n",
       "      <th>10</th>\n",
       "      <td>11</td>\n",
       "      <td>41</td>\n",
       "      <td>3</td>\n",
       "      <td>5.000000</td>\n",
       "      <td>2</td>\n",
       "      <td>14</td>\n",
       "      <td>159.23</td>\n",
       "      <td>0</td>\n",
       "      <td>Desktop</td>\n",
       "      <td>Location 4</td>\n",
       "    </tr>\n",
       "    <tr>\n",
       "      <th>11</th>\n",
       "      <td>12</td>\n",
       "      <td>24</td>\n",
       "      <td>5</td>\n",
       "      <td>6.566889</td>\n",
       "      <td>1</td>\n",
       "      <td>19</td>\n",
       "      <td>250.59</td>\n",
       "      <td>0</td>\n",
       "      <td>Desktop</td>\n",
       "      <td>Location 5</td>\n",
       "    </tr>\n",
       "    <tr>\n",
       "      <th>12</th>\n",
       "      <td>13</td>\n",
       "      <td>42</td>\n",
       "      <td>8</td>\n",
       "      <td>37.063535</td>\n",
       "      <td>9</td>\n",
       "      <td>9</td>\n",
       "      <td>88.41</td>\n",
       "      <td>1</td>\n",
       "      <td>Tablet</td>\n",
       "      <td>Location 2</td>\n",
       "    </tr>\n",
       "    <tr>\n",
       "      <th>13</th>\n",
       "      <td>14</td>\n",
       "      <td>42</td>\n",
       "      <td>4</td>\n",
       "      <td>45.000000</td>\n",
       "      <td>11</td>\n",
       "      <td>24</td>\n",
       "      <td>316.20</td>\n",
       "      <td>0</td>\n",
       "      <td>Mobile</td>\n",
       "      <td>Location 5</td>\n",
       "    </tr>\n",
       "    <tr>\n",
       "      <th>14</th>\n",
       "      <td>15</td>\n",
       "      <td>30</td>\n",
       "      <td>5</td>\n",
       "      <td>10.763021</td>\n",
       "      <td>3</td>\n",
       "      <td>16</td>\n",
       "      <td>184.16</td>\n",
       "      <td>0</td>\n",
       "      <td>Desktop</td>\n",
       "      <td>Location 2</td>\n",
       "    </tr>\n",
       "    <tr>\n",
       "      <th>15</th>\n",
       "      <td>16</td>\n",
       "      <td>19</td>\n",
       "      <td>8</td>\n",
       "      <td>20.669281</td>\n",
       "      <td>5</td>\n",
       "      <td>24</td>\n",
       "      <td>313.47</td>\n",
       "      <td>0</td>\n",
       "      <td>Mobile</td>\n",
       "      <td>Location 1</td>\n",
       "    </tr>\n",
       "    <tr>\n",
       "      <th>16</th>\n",
       "      <td>17</td>\n",
       "      <td>56</td>\n",
       "      <td>1</td>\n",
       "      <td>31.820417</td>\n",
       "      <td>6</td>\n",
       "      <td>25</td>\n",
       "      <td>249.95</td>\n",
       "      <td>0</td>\n",
       "      <td>Desktop</td>\n",
       "      <td>Location 2</td>\n",
       "    </tr>\n",
       "    <tr>\n",
       "      <th>17</th>\n",
       "      <td>18</td>\n",
       "      <td>57</td>\n",
       "      <td>5</td>\n",
       "      <td>13.744229</td>\n",
       "      <td>3</td>\n",
       "      <td>10</td>\n",
       "      <td>77.91</td>\n",
       "      <td>0</td>\n",
       "      <td>Desktop</td>\n",
       "      <td>Location 5</td>\n",
       "    </tr>\n",
       "    <tr>\n",
       "      <th>18</th>\n",
       "      <td>19</td>\n",
       "      <td>41</td>\n",
       "      <td>5</td>\n",
       "      <td>19.061363</td>\n",
       "      <td>4</td>\n",
       "      <td>10</td>\n",
       "      <td>62.69</td>\n",
       "      <td>0</td>\n",
       "      <td>Desktop</td>\n",
       "      <td>Location 1</td>\n",
       "    </tr>\n",
       "    <tr>\n",
       "      <th>19</th>\n",
       "      <td>20</td>\n",
       "      <td>64</td>\n",
       "      <td>9</td>\n",
       "      <td>24.752207</td>\n",
       "      <td>5</td>\n",
       "      <td>21</td>\n",
       "      <td>186.52</td>\n",
       "      <td>0</td>\n",
       "      <td>Desktop</td>\n",
       "      <td>Location 2</td>\n",
       "    </tr>\n",
       "  </tbody>\n",
       "</table>\n",
       "</div>"
      ],
      "text/plain": [
       "    userID  age  sessions  time_spent  pages_visited  cart_items  cart_value  \\\n",
       "0        1   62         3   13.295129              2          20      199.21   \n",
       "1        2   65         2   21.686405              3          21      294.82   \n",
       "2        3   18         7   17.135220              4          23      240.87   \n",
       "3        4   21         9   29.589311              8          16      183.78   \n",
       "4        5   21         3   25.948584              4          10       59.51   \n",
       "5        6   57         9   36.061679              9          16      195.40   \n",
       "6        7   27         2    6.259057              1          14      116.28   \n",
       "7        8   37         8   28.509460              7          16      118.14   \n",
       "8        9   39         5   21.073814              7          25      175.00   \n",
       "9       10   54         5   28.689260              6          22      196.29   \n",
       "10      11   41         3    5.000000              2          14      159.23   \n",
       "11      12   24         5    6.566889              1          19      250.59   \n",
       "12      13   42         8   37.063535              9           9       88.41   \n",
       "13      14   42         4   45.000000             11          24      316.20   \n",
       "14      15   30         5   10.763021              3          16      184.16   \n",
       "15      16   19         8   20.669281              5          24      313.47   \n",
       "16      17   56         1   31.820417              6          25      249.95   \n",
       "17      18   57         5   13.744229              3          10       77.91   \n",
       "18      19   41         5   19.061363              4          10       62.69   \n",
       "19      20   64         9   24.752207              5          21      186.52   \n",
       "\n",
       "    checkout_status   device    location  \n",
       "0                 0  Desktop  Location 1  \n",
       "1                 0  Desktop  Location 3  \n",
       "2                 0  Desktop  Location 4  \n",
       "3                 1  Desktop  Location 2  \n",
       "4                 1   Tablet  Location 4  \n",
       "5                 1  Desktop  Location 5  \n",
       "6                 0   Mobile  Location 2  \n",
       "7                 1  Desktop  Location 1  \n",
       "8                 0   Tablet  Location 1  \n",
       "9                 0  Desktop  Location 2  \n",
       "10                0  Desktop  Location 4  \n",
       "11                0  Desktop  Location 5  \n",
       "12                1   Tablet  Location 2  \n",
       "13                0   Mobile  Location 5  \n",
       "14                0  Desktop  Location 2  \n",
       "15                0   Mobile  Location 1  \n",
       "16                0  Desktop  Location 2  \n",
       "17                0  Desktop  Location 5  \n",
       "18                0  Desktop  Location 1  \n",
       "19                0  Desktop  Location 2  "
      ]
     },
     "execution_count": 145,
     "metadata": {},
     "output_type": "execute_result"
    }
   ],
   "source": [
    "df=pd.read_csv('/Users/xinyuanliang/Desktop/midterm_data.csv')\n",
    "df.head(20)"
   ]
  },
  {
   "attachments": {},
   "cell_type": "markdown",
   "metadata": {},
   "source": [
    "# Data cleaning process"
   ]
  },
  {
   "attachments": {},
   "cell_type": "markdown",
   "metadata": {},
   "source": [
    "### How did you prepare your data for analysis? Describe your data cleaning and preparation approaches, and why these were the best choices.\n",
    "\n",
    "Importing the Data: The data was imported using the pandas library, and the DataFrame was created.\n",
    "\n",
    "Initial Data Exploration: Descriptive statistics (df.describe()) and data information (df.info()) were used to get an overview of the dataset, including the number of columns, data types, and summary statistics.\n",
    "\n",
    "Data Visualization: Data visualization techniques were used to gain insights into the distribution and potential outliers in the 'time_spent' variable. A histogram (sns.histplot()) and a boxplot (sns.boxplot()) were created to visualize the distribution and identify any potential outliers.\n",
    "\n",
    "Identifying and Handling Outliers: An outlier was identified in the 'time_spent' variable based on its maximum value. The outlier was considered an anomaly and was removed from the dataset using the drop() function. The same process was repeated for other identified outliers.\n",
    "\n",
    "Handling Missing Values: The presence of missing values in the 'device' and 'location' columns was checked using isnull().sum(). To handle missing values, the 'device' column was filled with the value 'Unknown' using the fillna() method. Similarly, the 'location' column was filled with 'Unknown' to replace missing values. This choice was made because there is no information available to impute missing values, and assigning a unique category ('Unknown') allows for the inclusion of these records in subsequent analysis.\n",
    "\n",
    "Final Check for Missing Values: After handling missing values, a final check was performed using isnull().sum() to ensure that no missing values remained in the dataset."
   ]
  },
  {
   "cell_type": "code",
   "execution_count": 146,
   "metadata": {},
   "outputs": [
    {
     "data": {
      "text/html": [
       "<div>\n",
       "<style scoped>\n",
       "    .dataframe tbody tr th:only-of-type {\n",
       "        vertical-align: middle;\n",
       "    }\n",
       "\n",
       "    .dataframe tbody tr th {\n",
       "        vertical-align: top;\n",
       "    }\n",
       "\n",
       "    .dataframe thead th {\n",
       "        text-align: right;\n",
       "    }\n",
       "</style>\n",
       "<table border=\"1\" class=\"dataframe\">\n",
       "  <thead>\n",
       "    <tr style=\"text-align: right;\">\n",
       "      <th></th>\n",
       "      <th>userID</th>\n",
       "      <th>age</th>\n",
       "      <th>sessions</th>\n",
       "      <th>time_spent</th>\n",
       "      <th>pages_visited</th>\n",
       "      <th>cart_items</th>\n",
       "      <th>cart_value</th>\n",
       "      <th>checkout_status</th>\n",
       "    </tr>\n",
       "  </thead>\n",
       "  <tbody>\n",
       "    <tr>\n",
       "      <th>count</th>\n",
       "      <td>5000.000000</td>\n",
       "      <td>5000.000000</td>\n",
       "      <td>5000.000000</td>\n",
       "      <td>5000.000000</td>\n",
       "      <td>5000.000000</td>\n",
       "      <td>5000.000000</td>\n",
       "      <td>5000.000000</td>\n",
       "      <td>5000.000000</td>\n",
       "    </tr>\n",
       "    <tr>\n",
       "      <th>mean</th>\n",
       "      <td>2500.500000</td>\n",
       "      <td>41.538200</td>\n",
       "      <td>5.027200</td>\n",
       "      <td>25.158496</td>\n",
       "      <td>5.774400</td>\n",
       "      <td>14.966400</td>\n",
       "      <td>149.443146</td>\n",
       "      <td>0.272400</td>\n",
       "    </tr>\n",
       "    <tr>\n",
       "      <th>std</th>\n",
       "      <td>1443.520003</td>\n",
       "      <td>14.042734</td>\n",
       "      <td>2.594958</td>\n",
       "      <td>9.825536</td>\n",
       "      <td>2.570842</td>\n",
       "      <td>6.046336</td>\n",
       "      <td>68.711683</td>\n",
       "      <td>0.445239</td>\n",
       "    </tr>\n",
       "    <tr>\n",
       "      <th>min</th>\n",
       "      <td>1.000000</td>\n",
       "      <td>18.000000</td>\n",
       "      <td>1.000000</td>\n",
       "      <td>1.000000</td>\n",
       "      <td>1.000000</td>\n",
       "      <td>5.000000</td>\n",
       "      <td>20.410000</td>\n",
       "      <td>0.000000</td>\n",
       "    </tr>\n",
       "    <tr>\n",
       "      <th>25%</th>\n",
       "      <td>1250.750000</td>\n",
       "      <td>29.000000</td>\n",
       "      <td>3.000000</td>\n",
       "      <td>18.268862</td>\n",
       "      <td>4.000000</td>\n",
       "      <td>10.000000</td>\n",
       "      <td>92.482500</td>\n",
       "      <td>0.000000</td>\n",
       "    </tr>\n",
       "    <tr>\n",
       "      <th>50%</th>\n",
       "      <td>2500.500000</td>\n",
       "      <td>42.000000</td>\n",
       "      <td>5.000000</td>\n",
       "      <td>25.035361</td>\n",
       "      <td>6.000000</td>\n",
       "      <td>15.000000</td>\n",
       "      <td>143.440000</td>\n",
       "      <td>0.000000</td>\n",
       "    </tr>\n",
       "    <tr>\n",
       "      <th>75%</th>\n",
       "      <td>3750.250000</td>\n",
       "      <td>54.000000</td>\n",
       "      <td>7.000000</td>\n",
       "      <td>32.000361</td>\n",
       "      <td>8.000000</td>\n",
       "      <td>20.000000</td>\n",
       "      <td>198.380000</td>\n",
       "      <td>1.000000</td>\n",
       "    </tr>\n",
       "    <tr>\n",
       "      <th>max</th>\n",
       "      <td>5000.000000</td>\n",
       "      <td>65.000000</td>\n",
       "      <td>9.000000</td>\n",
       "      <td>90.000000</td>\n",
       "      <td>12.000000</td>\n",
       "      <td>25.000000</td>\n",
       "      <td>427.400000</td>\n",
       "      <td>1.000000</td>\n",
       "    </tr>\n",
       "  </tbody>\n",
       "</table>\n",
       "</div>"
      ],
      "text/plain": [
       "            userID          age     sessions   time_spent  pages_visited  \\\n",
       "count  5000.000000  5000.000000  5000.000000  5000.000000    5000.000000   \n",
       "mean   2500.500000    41.538200     5.027200    25.158496       5.774400   \n",
       "std    1443.520003    14.042734     2.594958     9.825536       2.570842   \n",
       "min       1.000000    18.000000     1.000000     1.000000       1.000000   \n",
       "25%    1250.750000    29.000000     3.000000    18.268862       4.000000   \n",
       "50%    2500.500000    42.000000     5.000000    25.035361       6.000000   \n",
       "75%    3750.250000    54.000000     7.000000    32.000361       8.000000   \n",
       "max    5000.000000    65.000000     9.000000    90.000000      12.000000   \n",
       "\n",
       "        cart_items   cart_value  checkout_status  \n",
       "count  5000.000000  5000.000000      5000.000000  \n",
       "mean     14.966400   149.443146         0.272400  \n",
       "std       6.046336    68.711683         0.445239  \n",
       "min       5.000000    20.410000         0.000000  \n",
       "25%      10.000000    92.482500         0.000000  \n",
       "50%      15.000000   143.440000         0.000000  \n",
       "75%      20.000000   198.380000         1.000000  \n",
       "max      25.000000   427.400000         1.000000  "
      ]
     },
     "execution_count": 146,
     "metadata": {},
     "output_type": "execute_result"
    }
   ],
   "source": [
    "df.describe()"
   ]
  },
  {
   "cell_type": "code",
   "execution_count": 147,
   "metadata": {},
   "outputs": [
    {
     "name": "stdout",
     "output_type": "stream",
     "text": [
      "<class 'pandas.core.frame.DataFrame'>\n",
      "RangeIndex: 5000 entries, 0 to 4999\n",
      "Data columns (total 10 columns):\n",
      " #   Column           Non-Null Count  Dtype  \n",
      "---  ------           --------------  -----  \n",
      " 0   userID           5000 non-null   int64  \n",
      " 1   age              5000 non-null   int64  \n",
      " 2   sessions         5000 non-null   int64  \n",
      " 3   time_spent       5000 non-null   float64\n",
      " 4   pages_visited    5000 non-null   int64  \n",
      " 5   cart_items       5000 non-null   int64  \n",
      " 6   cart_value       5000 non-null   float64\n",
      " 7   checkout_status  5000 non-null   int64  \n",
      " 8   device           4900 non-null   object \n",
      " 9   location         4970 non-null   object \n",
      "dtypes: float64(2), int64(6), object(2)\n",
      "memory usage: 390.8+ KB\n"
     ]
    }
   ],
   "source": [
    "df.info()"
   ]
  },
  {
   "cell_type": "code",
   "execution_count": 148,
   "metadata": {},
   "outputs": [
    {
     "data": {
      "text/plain": [
       "<Axes: xlabel='time_spent', ylabel='Count'>"
      ]
     },
     "execution_count": 148,
     "metadata": {},
     "output_type": "execute_result"
    },
    {
     "data": {
      "image/png": "[encoded data removed]",
      "text/plain": [
       "<Figure size 640x480 with 1 Axes>"
      ]
     },
     "metadata": {},
     "output_type": "display_data"
    }
   ],
   "source": [
    "sns.histplot(df['time_spent'], kde=True)"
   ]
  },
  {
   "cell_type": "code",
   "execution_count": 149,
   "metadata": {},
   "outputs": [
    {
     "data": {
      "text/plain": [
       "<Axes: >"
      ]
     },
     "execution_count": 149,
     "metadata": {},
     "output_type": "execute_result"
    },
    {
     "data": {
      "image/png": "[encoded data removed]",
      "text/plain": [
       "<Figure size 640x480 with 1 Axes>"
      ]
     },
     "metadata": {},
     "output_type": "display_data"
    }
   ],
   "source": [
    "sns.boxplot(df['time_spent'])"
   ]
  },
  {
   "cell_type": "code",
   "execution_count": 150,
   "metadata": {},
   "outputs": [
    {
     "data": {
      "text/html": [
       "<div>\n",
       "<style scoped>\n",
       "    .dataframe tbody tr th:only-of-type {\n",
       "        vertical-align: middle;\n",
       "    }\n",
       "\n",
       "    .dataframe tbody tr th {\n",
       "        vertical-align: top;\n",
       "    }\n",
       "\n",
       "    .dataframe thead th {\n",
       "        text-align: right;\n",
       "    }\n",
       "</style>\n",
       "<table border=\"1\" class=\"dataframe\">\n",
       "  <thead>\n",
       "    <tr style=\"text-align: right;\">\n",
       "      <th></th>\n",
       "      <th>userID</th>\n",
       "      <th>age</th>\n",
       "      <th>sessions</th>\n",
       "      <th>time_spent</th>\n",
       "      <th>pages_visited</th>\n",
       "      <th>cart_items</th>\n",
       "      <th>cart_value</th>\n",
       "      <th>checkout_status</th>\n",
       "      <th>device</th>\n",
       "      <th>location</th>\n",
       "    </tr>\n",
       "  </thead>\n",
       "  <tbody>\n",
       "    <tr>\n",
       "      <th>284</th>\n",
       "      <td>285</td>\n",
       "      <td>47</td>\n",
       "      <td>5</td>\n",
       "      <td>90.0</td>\n",
       "      <td>12</td>\n",
       "      <td>14</td>\n",
       "      <td>148.45</td>\n",
       "      <td>0</td>\n",
       "      <td>Desktop</td>\n",
       "      <td>Location 4</td>\n",
       "    </tr>\n",
       "    <tr>\n",
       "      <th>2494</th>\n",
       "      <td>2495</td>\n",
       "      <td>28</td>\n",
       "      <td>2</td>\n",
       "      <td>90.0</td>\n",
       "      <td>12</td>\n",
       "      <td>18</td>\n",
       "      <td>151.35</td>\n",
       "      <td>0</td>\n",
       "      <td>Desktop</td>\n",
       "      <td>Location 1</td>\n",
       "    </tr>\n",
       "    <tr>\n",
       "      <th>2833</th>\n",
       "      <td>2834</td>\n",
       "      <td>30</td>\n",
       "      <td>8</td>\n",
       "      <td>90.0</td>\n",
       "      <td>12</td>\n",
       "      <td>7</td>\n",
       "      <td>88.32</td>\n",
       "      <td>0</td>\n",
       "      <td>Desktop</td>\n",
       "      <td>Location 1</td>\n",
       "    </tr>\n",
       "    <tr>\n",
       "      <th>3957</th>\n",
       "      <td>3958</td>\n",
       "      <td>19</td>\n",
       "      <td>1</td>\n",
       "      <td>90.0</td>\n",
       "      <td>12</td>\n",
       "      <td>20</td>\n",
       "      <td>228.70</td>\n",
       "      <td>0</td>\n",
       "      <td>Desktop</td>\n",
       "      <td>Location 4</td>\n",
       "    </tr>\n",
       "  </tbody>\n",
       "</table>\n",
       "</div>"
      ],
      "text/plain": [
       "      userID  age  sessions  time_spent  pages_visited  cart_items  \\\n",
       "284      285   47         5        90.0             12          14   \n",
       "2494    2495   28         2        90.0             12          18   \n",
       "2833    2834   30         8        90.0             12           7   \n",
       "3957    3958   19         1        90.0             12          20   \n",
       "\n",
       "      cart_value  checkout_status   device    location  \n",
       "284       148.45                0  Desktop  Location 4  \n",
       "2494      151.35                0  Desktop  Location 1  \n",
       "2833       88.32                0  Desktop  Location 1  \n",
       "3957      228.70                0  Desktop  Location 4  "
      ]
     },
     "execution_count": 150,
     "metadata": {},
     "output_type": "execute_result"
    }
   ],
   "source": [
    "# write a statement to filter the data set and identify the outlier\n",
    "df[df['time_spent'] == df['time_spent'].max()]"
   ]
  },
  {
   "cell_type": "code",
   "execution_count": 151,
   "metadata": {},
   "outputs": [],
   "source": [
    "# drop the outlier\n",
    "df.drop(284, axis=0, inplace=True )\n",
    "df.drop(2494, axis=0, inplace=True )\n",
    "df.drop(2833, axis=0, inplace=True )\n",
    "df.drop(3957, axis=0, inplace=True )"
   ]
  },
  {
   "cell_type": "code",
   "execution_count": 152,
   "metadata": {},
   "outputs": [
    {
     "data": {
      "text/plain": [
       "<Axes: >"
      ]
     },
     "execution_count": 152,
     "metadata": {},
     "output_type": "execute_result"
    },
    {
     "data": {
      "image/png": "[encoded data removed]",
      "text/plain": [
       "<Figure size 640x480 with 1 Axes>"
      ]
     },
     "metadata": {},
     "output_type": "display_data"
    }
   ],
   "source": [
    "sns.boxplot(df['time_spent'])"
   ]
  },
  {
   "cell_type": "code",
   "execution_count": 153,
   "metadata": {},
   "outputs": [
    {
     "data": {
      "text/plain": [
       "userID               0\n",
       "age                  0\n",
       "sessions             0\n",
       "time_spent           0\n",
       "pages_visited        0\n",
       "cart_items           0\n",
       "cart_value           0\n",
       "checkout_status      0\n",
       "device             100\n",
       "location            30\n",
       "dtype: int64"
      ]
     },
     "execution_count": 153,
     "metadata": {},
     "output_type": "execute_result"
    }
   ],
   "source": [
    "# find the missing values\n",
    "df.isnull().sum()"
   ]
  },
  {
   "attachments": {},
   "cell_type": "markdown",
   "metadata": {},
   "source": [
    "There a 100 missing value in device, 30 in location"
   ]
  },
  {
   "cell_type": "code",
   "execution_count": 154,
   "metadata": {},
   "outputs": [
    {
     "name": "stdout",
     "output_type": "stream",
     "text": [
      "userID             0\n",
      "age                0\n",
      "sessions           0\n",
      "time_spent         0\n",
      "pages_visited      0\n",
      "cart_items         0\n",
      "cart_value         0\n",
      "checkout_status    0\n",
      "device             0\n",
      "location           0\n",
      "dtype: int64\n"
     ]
    }
   ],
   "source": [
    "# Handling missing values in the 'device' column\n",
    "df['device'].fillna('Unknown', inplace=True)\n",
    "\n",
    "# Handling missing values in the 'location' column\n",
    "df['location'].fillna('Unknown', inplace=True)\n",
    "\n",
    "missing_values_after_cleaning = df.isnull().sum()\n",
    "print(missing_values_after_cleaning)"
   ]
  },
  {
   "cell_type": "code",
   "execution_count": 155,
   "metadata": {},
   "outputs": [
    {
     "name": "stdout",
     "output_type": "stream",
     "text": [
      "0.27261809447558044\n"
     ]
    }
   ],
   "source": [
    "# Calculate the checkout rate\n",
    "checkout_rate = df['checkout_status'].mean()\n",
    "print(checkout_rate)\n"
   ]
  },
  {
   "attachments": {},
   "cell_type": "markdown",
   "metadata": {},
   "source": [
    "now we make sure the checkout rate is 27.24%, less than 30%"
   ]
  },
  {
   "attachments": {},
   "cell_type": "markdown",
   "metadata": {},
   "source": [
    "## Analysis the data "
   ]
  },
  {
   "cell_type": "code",
   "execution_count": 156,
   "metadata": {},
   "outputs": [],
   "source": [
    "# Analyze characteristics of users who check out\n",
    "checkout_users = df[df['checkout_status'] == 1]\n",
    "\n"
   ]
  },
  {
   "cell_type": "code",
   "execution_count": 157,
   "metadata": {},
   "outputs": [],
   "source": [
    "# Analyze characteristics of users who do not check out\n",
    "no_checkout_users = df[df['checkout_status'] == 0]\n",
    "\n",
    "\n"
   ]
  },
  {
   "cell_type": "code",
   "execution_count": 168,
   "metadata": {},
   "outputs": [
    {
     "name": "stdout",
     "output_type": "stream",
     "text": [
      "check out users average age: 41.32599118942731\n",
      "non check out users average age: 41.629334067143645\n"
     ]
    }
   ],
   "source": [
    "# Calculate average age for checkout and no checkout users\n",
    "checkout_age = checkout_users['age'].mean()\n",
    "no_checkout_age = no_checkout_users['age'].mean()\n",
    "print('check out users average age:', checkout_age)\n",
    "print('non check out users average age:', no_checkout_age)\n",
    "\n"
   ]
  },
  {
   "cell_type": "code",
   "execution_count": 169,
   "metadata": {},
   "outputs": [
    {
     "name": "stdout",
     "output_type": "stream",
     "text": [
      "check out users average pages visited: 7.2878120411160054\n",
      "non check out users average pages visited: 5.200330214639516\n"
     ]
    }
   ],
   "source": [
    "#  Calculate average number of pages visited for checkout and no checkout users\n",
    "checkout_pages = checkout_users['pages_visited'].mean()\n",
    "no_checkout_pages = no_checkout_users['pages_visited'].mean()\n",
    "print('check out users average pages visited:', checkout_pages)\n",
    "print('non check out users average pages visited:', no_checkout_pages)\n"
   ]
  },
  {
   "cell_type": "code",
   "execution_count": 160,
   "metadata": {},
   "outputs": [
    {
     "name": "stdout",
     "output_type": "stream",
     "text": [
      "check out users average time spent on website: 31.317918168193827\n",
      "non check out users average time spent on website: 22.778612179365165\n"
     ]
    }
   ],
   "source": [
    "#  Calculate average time spent on website for checkout and no checkout users\n",
    "checkout_time = checkout_users['time_spent'].mean()\n",
    "no_checkout_time = no_checkout_users['time_spent'].mean()\n",
    "print('check out users average time spent on website:', checkout_time)\n",
    "print('non check out users average time spent on website:', no_checkout_time)\n",
    "\n"
   ]
  },
  {
   "cell_type": "code",
   "execution_count": 170,
   "metadata": {},
   "outputs": [
    {
     "name": "stdout",
     "output_type": "stream",
     "text": [
      "check out users average cart value: 140.82421439060207\n",
      "non check out users average cart value: 152.66822509631263\n"
     ]
    }
   ],
   "source": [
    "#  calculate average cart value for checkout and no checkout users\n",
    "checkout_cart = checkout_users['cart_value'].mean()\n",
    "no_checkout_cart = no_checkout_users['cart_value'].mean()\n",
    "print('check out users average cart value:', checkout_cart)\n",
    "print('non check out users average cart value:', no_checkout_cart)\n"
   ]
  },
  {
   "cell_type": "code",
   "execution_count": 162,
   "metadata": {},
   "outputs": [
    {
     "name": "stdout",
     "output_type": "stream",
     "text": [
      "check out users average items in cart: 14.120411160058737\n",
      "non check out users average items in cart: 15.283709411117226\n"
     ]
    }
   ],
   "source": [
    "#  calculate average number of items in cart for checkout and no checkout users\n",
    "checkout_items = checkout_users['cart_items'].mean()\n",
    "no_checkout_items = no_checkout_users['cart_items'].mean()\n",
    "\n",
    "print('check out users average items in cart:', checkout_items)\n",
    "print('non check out users average items in cart:', no_checkout_items)\n"
   ]
  },
  {
   "cell_type": "code",
   "execution_count": 194,
   "metadata": {},
   "outputs": [
    {
     "name": "stdout",
     "output_type": "stream",
     "text": [
      "device\n",
      "Desktop    0.285714\n",
      "Mobile     0.264706\n",
      "Tablet     0.254818\n",
      "Unknown    0.220000\n",
      "Name: checkout_status, dtype: float64\n"
     ]
    }
   ],
   "source": [
    "# Calculate the checkout rate for each device type\n",
    "checkout_rate_by_device = df.groupby('device')['checkout_status'].mean().sort_values(ascending=False)\n",
    "print(checkout_rate_by_device)"
   ]
  },
  {
   "cell_type": "code",
   "execution_count": 164,
   "metadata": {},
   "outputs": [
    {
     "name": "stdout",
     "output_type": "stream",
     "text": [
      "location\n",
      "Location 4    0.284630\n",
      "Location 1    0.283521\n",
      "Location 5    0.266735\n",
      "Unknown       0.266667\n",
      "Location 2    0.266316\n",
      "Location 3    0.261341\n",
      "Name: checkout_status, dtype: float64\n"
     ]
    }
   ],
   "source": [
    "# Calculate the checkout rate for each device type\n",
    "checkout_rate_by_device = df.groupby('location')['checkout_status'].mean().sort_values(ascending=False)\n",
    "print(checkout_rate_by_device)"
   ]
  },
  {
   "attachments": {},
   "cell_type": "markdown",
   "metadata": {},
   "source": [
    "we can see that user in location 4 and use desktop have the highest checkout rate"
   ]
  },
  {
   "attachments": {},
   "cell_type": "markdown",
   "metadata": {},
   "source": [
    "### Based on your analysis, what can you conclude about the behaviour or characteristics of users who complete check out vs those who do not?\n",
    "\n",
    " Age: There is no significant difference in the average age between users who completed checkout and those who did not. Age does not appear to be a determining factor in completing the checkout process.\n",
    "\n",
    " Pages Visited: Users who completed checkout tend to visit more pages compared to those who did not check out. This suggests that higher engagement with the website, exploring more pages, and potentially finding desired products or information contribute to higher checkout rates.\n",
    "\n",
    " Time Spent on Website: Users who completed checkout spend, on average, more time on the website compared to non-checkout users. This indicates that a longer browsing duration may lead to increased interest, product consideration, and ultimately, higher conversion rates.\n",
    "\n",
    " Cart Value: Users who completed checkout have a higher average cart value compared to non-checkout users. This suggests that users who complete the checkout process are willing to spend more on their purchases, indicating a stronger intent to make a purchase.\n",
    "\n",
    " Cart Items: Users who completed checkout have, on average, a higher number of items in their cart compared to non-checkout users. This implies that users who proceed to checkout tend to add more items to their carts, indicating a higher level of purchase intent and potentially a greater willingness to complete the purchase.\n",
    "\n",
    " Device and Location: There are variations in the checkout rate among different device types and locations. Desktop users and users from specific locations, such as Location 4, have higher checkout rates. This implies that device preference and geographic location may influence the likelihood of completing a purchase, highlighting the importance of tailored marketing strategies and optimized user experiences based on device and location.\n"
   ]
  },
  {
   "attachments": {},
   "cell_type": "markdown",
   "metadata": {},
   "source": [
    "## T test"
   ]
  },
  {
   "cell_type": "code",
   "execution_count": 188,
   "metadata": {},
   "outputs": [
    {
     "name": "stdout",
     "output_type": "stream",
     "text": [
      "t-statistic: -0.6798968886129201\n",
      "p-value: 0.49660126593756404\n"
     ]
    }
   ],
   "source": [
    "checkout_ages = df[df['checkout_status'] == 1]['age']\n",
    "non_checkout_ages = df[df['checkout_status'] == 0]['age']\n",
    "\n",
    "# Perform the t-test\n",
    "t_statistic, p_value = stats.ttest_ind(checkout_ages, non_checkout_ages)\n",
    "\n",
    "# Print the results\n",
    "print(\"t-statistic:\", t_statistic)\n",
    "print(\"p-value:\", p_value)"
   ]
  },
  {
   "attachments": {},
   "cell_type": "markdown",
   "metadata": {},
   "source": [
    "there is no significant difference in the average age between users who completed checkout and those who did not."
   ]
  },
  {
   "cell_type": "code",
   "execution_count": 189,
   "metadata": {},
   "outputs": [
    {
     "name": "stdout",
     "output_type": "stream",
     "text": [
      "t-statistic: 27.47146951327662\n",
      "p-value: 7.534979639566005e-155\n"
     ]
    }
   ],
   "source": [
    "checkout_pages = df[df['checkout_status'] == 1]['pages_visited']\n",
    "non_checkout_pages = df[df['checkout_status'] == 0]['pages_visited']\n",
    "\n",
    "# Perform the t-test\n",
    "\n",
    "t_statistic, p_value = stats.ttest_ind(checkout_pages, non_checkout_pages)\n",
    "\n",
    "# Print the results\n",
    "print(\"t-statistic:\", t_statistic)\n",
    "print(\"p-value:\", p_value)\n"
   ]
  },
  {
   "attachments": {},
   "cell_type": "markdown",
   "metadata": {},
   "source": [
    "With a t-statistic of 27.47 and a p-value of 7.53e-155 (essentially 0). These results suggest that there is a significant difference in the average age between users who completed checkout and those who did not."
   ]
  },
  {
   "cell_type": "code",
   "execution_count": 190,
   "metadata": {},
   "outputs": [
    {
     "name": "stdout",
     "output_type": "stream",
     "text": [
      "t-statistic: 30.277770149978465\n",
      "p-value: 4.9270409264476604e-185\n"
     ]
    }
   ],
   "source": [
    "checkout_time = df[df['checkout_status'] == 1]['time_spent']\n",
    "non_checkout_time = df[df['checkout_status'] == 0]['time_spent']\n",
    "\n",
    "# Perform the t-test\n",
    "\n",
    "t_statistic, p_value = stats.ttest_ind(checkout_time, non_checkout_time)\n",
    "\n",
    "# Print the results\n",
    "print(\"t-statistic:\", t_statistic)\n",
    "print(\"p-value:\", p_value)\n"
   ]
  },
  {
   "attachments": {},
   "cell_type": "markdown",
   "metadata": {},
   "source": [
    "There is a significant difference"
   ]
  },
  {
   "cell_type": "code",
   "execution_count": 191,
   "metadata": {},
   "outputs": [
    {
     "name": "stdout",
     "output_type": "stream",
     "text": [
      "t-statistic: -5.43996238583549\n",
      "p-value: 5.5833035815279226e-08\n"
     ]
    }
   ],
   "source": [
    "checkout_cart = df[df['checkout_status'] == 1]['cart_value']\n",
    "non_checkout_cart = df[df['checkout_status'] == 0]['cart_value']\n",
    "\n",
    "# Perform the t-test\n",
    "\n",
    "t_statistic, p_value = stats.ttest_ind(checkout_cart, non_checkout_cart)\n",
    "\n",
    "# Print the results\n",
    "\n",
    "print(\"t-statistic:\", t_statistic)\n",
    "print(\"p-value:\", p_value)\n"
   ]
  },
  {
   "attachments": {},
   "cell_type": "markdown",
   "metadata": {},
   "source": [
    "there is a statistically significant difference in the \"cart_value\" between the two groups based on their \"checkout_status.\""
   ]
  },
  {
   "cell_type": "code",
   "execution_count": 192,
   "metadata": {},
   "outputs": [
    {
     "name": "stdout",
     "output_type": "stream",
     "text": [
      "t-statistic: -6.076710953091002\n",
      "p-value: 1.3177377698990114e-09\n"
     ]
    }
   ],
   "source": [
    "checkout_items = df[df['checkout_status'] == 1]['cart_items']\n",
    "non_checkout_items = df[df['checkout_status'] == 0]['cart_items']\n",
    "\n",
    "# Perform the t-test\n",
    "\n",
    "t_statistic, p_value = stats.ttest_ind(checkout_items, non_checkout_items)\n",
    "\n",
    "# Print the results\n",
    "\n",
    "print(\"t-statistic:\", t_statistic)\n",
    "print(\"p-value:\", p_value)\n"
   ]
  },
  {
   "attachments": {},
   "cell_type": "markdown",
   "metadata": {},
   "source": [
    "there is a statistically significant difference in the \"cart_items\" between the two groups based on their \"checkout_status.\""
   ]
  },
  {
   "attachments": {},
   "cell_type": "markdown",
   "metadata": {},
   "source": [
    "## Q3\n",
    " What recommendations do you have for the product team? What should they do next? Be specific (i.e., who should they target, why and how)."
   ]
  },
  {
   "attachments": {},
   "cell_type": "markdown",
   "metadata": {},
   "source": [
    "In the analysis we can see that users who visit more pages tend to have a higher checkout rate. \n",
    "\n",
    "(check out users average pages visited: 7.28, non check out users average pages visited: 5.2)\n",
    "\n",
    "\n",
    "Therefore, product teams should focus on engaging users and encouraging them to visit more pages on the site. This can be achieved through personalized recommendations, improved navigation and enticing content. Equally the longer the browsing time, the higher the user's checkout rate\n",
    "\n",
    "Also desktop users have higher checkout rates compared to mobile and tablet users. Product teams should invest in optimizing the site experience for desktop users.\n",
    "\n",
    "there is not much difference of check out users and non checkout average items in cart, \n",
    "(check out users average items in cart: 14.12, non check out users average items in cart: 15.28)\n",
    "So the project team can implement retargeting strategies to reach users who have abandoned their shopping carts. Use email alerts or targeted ads to remind users of their abandoned items and offer rewards to encourage them to return and complete the checkout process.\n",
    "\n",
    "Users from Location 4 had the highest checkout rates. The product team should analyze the reasons behind this success and identify strategies to replicate it elsewhere. This may involve customizing marketing campaigns, providing localized content, or offering specific incentives for users in other locations.\n",
    "\n",
    "While t-tests did not show a significant difference in average age between checkout and non-checkout users, it is worth considering marketing and promotional campaigns that target younger age groups. Younger users may have different preferences and shopping habits, so understanding their needs and adapting marketing efforts accordingly may increase conversion rates.\n",
    "\n",
    "Next, the project team can implement A/B testing to assess the impact of potential changes and improvements. This will allow the product team to measure the effectiveness of different strategies in increasing checkout rates."
   ]
  }
 ],
 "metadata": {
  "kernelspec": {
   "display_name": "base",
   "language": "python",
   "name": "python3"
  },
  "language_info": {
   "codemirror_mode": {
    "name": "ipython",
    "version": 3
   },
   "file_extension": ".py",
   "mimetype": "text/x-python",
   "name": "python",
   "nbconvert_exporter": "python",
   "pygments_lexer": "ipython3",
   "version": "3.10.9"
  },
  "orig_nbformat": 4
 },
 "nbformat": 4,
 "nbformat_minor": 2
}
