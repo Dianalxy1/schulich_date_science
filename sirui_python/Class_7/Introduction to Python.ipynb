{
 "cells": [
  {
   "cell_type": "markdown",
   "id": "e117f76e",
   "metadata": {},
   "source": [
    "# Introduction to Python"
   ]
  },
  {
   "cell_type": "markdown",
   "id": "72f81d60",
   "metadata": {},
   "source": [
    "## Jupyter Notebook 编译器的使用\n",
    "\n"
   ]
  },
  {
   "cell_type": "markdown",
   "id": "38aa5489",
   "metadata": {},
   "source": [
    "1. 编辑代码和执行 - shift + enter\n",
    "2. Cell里面的内容可以选择成“markdown” - 可以把code写成“文章”\n",
    "3. Edit (green) mode - 可以编辑code\n",
    "4. Command (blue) mode - 可以使用快捷键    \n",
    "    \n",
    "    a: add a cell above\n",
    "    \n",
    "    b: add a cell below\n",
    "    \n",
    "    dd: delete a cell\n",
    "    \n",
    "    z: undo\n",
    "    \n",
    "5. 关闭文件\n",
    "\n",
    "    可以点file -> close and halt \n",
    "\n",
    "    回到Home 选择文件 点击shutdown"
   ]
  },
  {
   "cell_type": "code",
   "execution_count": 6,
   "id": "2a7ce955",
   "metadata": {},
   "outputs": [
    {
     "name": "stdout",
     "output_type": "stream",
     "text": [
      "hello\n",
      "this is a demo\n"
     ]
    },
    {
     "data": {
      "text/plain": [
       "-1"
      ]
     },
     "execution_count": 6,
     "metadata": {},
     "output_type": "execute_result"
    }
   ],
   "source": [
    "print(\"hello\")\n",
    "\n",
    "print(\"this is a demo\") #- this is a line of comment, python will not run it\n",
    "\n",
    "'''\n",
    "asdfasdf\n",
    "'''\n",
    "\n",
    "\n",
    "\n",
    "x = 1 # this is an assignment statement\n",
    "y = 2\n",
    "x+y \n",
    "x-y\n"
   ]
  },
  {
   "cell_type": "markdown",
   "id": "8747d0e9",
   "metadata": {},
   "source": [
    "## Python的常用数据类型（对象）\n",
    "\n",
    "## 永远记住Python编程的核心是：\n",
    "\n",
    "### 你的对象是谁？\n",
    "### 你要对Ta做啥？\n",
    "\n",
    "\n",
    "\n",
    "\n",
    "### int, float\n",
    "\n",
    "操作：+ - * / ** 乘方（幂）\n",
    "\n"
   ]
  },
  {
   "cell_type": "code",
   "execution_count": 8,
   "id": "a33fb619",
   "metadata": {},
   "outputs": [
    {
     "name": "stdout",
     "output_type": "stream",
     "text": [
      "0.6666666666666666\n",
      "2\n",
      "0.2857142857142857\n"
     ]
    },
    {
     "data": {
      "text/plain": [
       "81"
      ]
     },
     "execution_count": 8,
     "metadata": {},
     "output_type": "execute_result"
    }
   ],
   "source": [
    "\n",
    "print(y/3)\n",
    "print(x*2)\n",
    "print(y/7)\n",
    "x*2\n",
    "3**4\n"
   ]
  },
  {
   "cell_type": "markdown",
   "id": "0772fc3e",
   "metadata": {},
   "source": [
    "### Bool：只有True or False，等价于int 1 or 0\n",
    "\n",
    "产生bool的常用操作：<, >, <=, >=, ==, !=, and, or, not\n",
    "\n",
    "\n"
   ]
  },
  {
   "cell_type": "code",
   "execution_count": 19,
   "id": "e0dd8a8f",
   "metadata": {},
   "outputs": [
    {
     "data": {
      "text/plain": [
       "6"
      ]
     },
     "execution_count": 19,
     "metadata": {},
     "output_type": "execute_result"
    }
   ],
   "source": [
    "(x==1) + 5\n"
   ]
  },
  {
   "cell_type": "markdown",
   "id": "a7022120",
   "metadata": {},
   "source": [
    "### string / List\n",
    "\n",
    "Indexing / Slicing: Python Index永远从0开始！！\n",
    "\n",
    "s[x] - 取出第x个元素（字符）\n",
    "\n",
    "s[a:b] - 取出从第a个到第b个元素（左含右不含）- 仍然是一个string / list\n",
    "\n",
    "s[a:] - 取出从第a个到最后的所有元素\n",
    "\n",
    "len(s) - 返回s里面元素的个数\n",
    "\n",
    "s.upper(), s.lower() - 返回upper/lower case\n",
    "\n",
    "s.split() - split the string into words, return a list\n",
    "\n",
    "l.append() - to add a new element to the end of the list\n",
    "\n",
    "\\+ can be used to combine two string or list together"
   ]
  },
  {
   "cell_type": "code",
   "execution_count": 25,
   "id": "7280e729",
   "metadata": {},
   "outputs": [
    {
     "name": "stdout",
     "output_type": "stream",
     "text": [
      "savvypro is, indeed, the best\n"
     ]
    },
    {
     "data": {
      "text/plain": [
       "'savvypro is, indeed, the bes'"
      ]
     },
     "execution_count": 25,
     "metadata": {},
     "output_type": "execute_result"
    }
   ],
   "source": [
    "s = \"savvypro is, indeed, the best\"\n",
    "\n",
    "#s = \" 'savvypro' is indeed the best\"\n",
    "print(s)\n",
    "\n",
    "\n",
    "# print(s[0:4])\n",
    "# print(s[0:3])\n",
    "s[4]\n",
    "s[0:5]\n",
    "s[3:]\n",
    "len(s)\n",
    "s.upper()\n",
    "s.split()\n",
    "\n",
    "s+\" and I love it\"\n",
    "\n",
    "#len(s[0:3])\n",
    "#s.upper()\n",
    "#s.split()"
   ]
  },
  {
   "cell_type": "code",
   "execution_count": 11,
   "id": "82ef967c",
   "metadata": {},
   "outputs": [
    {
     "data": {
      "text/plain": [
       "['Triangle', 1999, 'Fantasy,Mystery,Triller', 'rating: 4']"
      ]
     },
     "execution_count": 11,
     "metadata": {},
     "output_type": "execute_result"
    }
   ],
   "source": [
    "m = ['Triangle', 1999, 'Fantasy,Mystery,Triller']\n",
    "#拿取电影名\n",
    "m[0]\n",
    "#电影名和年份\n",
    "m[0:2]\n",
    "#电影类型分开写成list   -    .split method\n",
    "m[2].split(',')[0]\n",
    "#给m加一个元素：评分 4分\n",
    "m.append(\"rating: 4\")\n",
    "m\n",
    "\n",
    "\n",
    "# how to delete (remove) 1999 from the list?\n",
    "# let's google it"
   ]
  },
  {
   "cell_type": "markdown",
   "id": "8e6e7bcd",
   "metadata": {},
   "source": [
    "### Dictionary\n",
    "\n"
   ]
  },
  {
   "cell_type": "code",
   "execution_count": 53,
   "id": "ac00165e",
   "metadata": {},
   "outputs": [
    {
     "data": {
      "text/plain": [
       "{'SAS': 'Extraction, Analytics, Visualization, big data',\n",
       " 'Excel': 'Analytics, Visualization',\n",
       " 'CFA': 'Financial Industry, Certification, Portfolio Management',\n",
       " 'FRM': 'Financial Industry, Certification, Risk Management',\n",
       " 'Python': 'Analytics, Visualization, Machine Learning, Big Data'}"
      ]
     },
     "execution_count": 53,
     "metadata": {},
     "output_type": "execute_result"
    }
   ],
   "source": [
    "D = {'SAS': 'Extraction, Analytics, Visualization', \n",
    "     'Excel': 'Analytics, Visualization', \n",
    "     'CFA': 'Financial Industry, Certification, Portfolio Management', \n",
    "     'FRM': 'Financial Industry, Certification, Risk Management', \n",
    "     'Python': 'Analytics, Visualization, Machine Learning, Big Data'}\n",
    "#访问\n",
    "\n",
    "D['SAS'] = D['SAS']+ \", big data\"\n",
    "D\n",
    "#修改\n",
    "\n",
    "#添加\n"
   ]
  },
  {
   "cell_type": "code",
   "execution_count": 57,
   "id": "8f3065d0",
   "metadata": {},
   "outputs": [
    {
     "data": {
      "text/plain": [
       "{'animal': {'name': 'Dog', 'age': 5},\n",
       " 'animal1': {'name': 'Cat', 'age': 5},\n",
       " 'animal2': {'name': 'Rabbit', 'age': 1}}"
      ]
     },
     "execution_count": 57,
     "metadata": {},
     "output_type": "execute_result"
    }
   ],
   "source": [
    "# Sample Interview Question: explain what will happen for the following code\n",
    "animaldict = {\n",
    "    \"animal\":{\n",
    "      \"name\": \"Dog\",\n",
    "      \"age\":5\n",
    "    },\n",
    "    \"animal1\":{\n",
    "        \"name\": \"Cat\",\n",
    "        \"age\":2\n",
    "    },\n",
    "    \"animal2\":{\n",
    "        \"name\": \"Rabbit\",\n",
    "        \"age\":1\n",
    "    }   \n",
    "}\n",
    " \n",
    "animaldict[\"animal1\"]['age'] = 5\n",
    "animaldict\n"
   ]
  },
  {
   "cell_type": "code",
   "execution_count": 58,
   "id": "1315c143",
   "metadata": {},
   "outputs": [
    {
     "data": {
      "text/plain": [
       "226"
      ]
     },
     "execution_count": 58,
     "metadata": {},
     "output_type": "execute_result"
    }
   ],
   "source": [
    "# Sample Interview Question: calculate the sum of the values in the following dictionary\n",
    "\n",
    "my_dict = {\n",
    "    \"Anna\": 123 , \n",
    "    \"Bob\": 44,\n",
    "    \"Emma\": 59,\n",
    "}\n",
    "\n",
    "my_dict[\"Anna\"] + my_dict[\"Bob\"] + my_dict[\"Emma\"]"
   ]
  },
  {
   "cell_type": "markdown",
   "id": "1f6ed268",
   "metadata": {},
   "source": [
    "# If-else"
   ]
  },
  {
   "cell_type": "code",
   "execution_count": 63,
   "id": "b2432b7b",
   "metadata": {},
   "outputs": [
    {
     "name": "stdout",
     "output_type": "stream",
     "text": [
      "not an integer\n"
     ]
    }
   ],
   "source": [
    "a = 933\n",
    "# % 取余数\n",
    "\n",
    "if a % 2 == 0: \n",
    "    print(\"even\")\n",
    "elif a % 2 ==1:\n",
    "    print(\"odd\")\n",
    "else:\n",
    "    print(\"not an integer\")"
   ]
  },
  {
   "cell_type": "markdown",
   "id": "600ce9e2",
   "metadata": {},
   "source": [
    "## For Loop"
   ]
  },
  {
   "cell_type": "code",
   "execution_count": 8,
   "id": "aa611a31",
   "metadata": {},
   "outputs": [],
   "source": [
    "# sum of a list\n",
    "L = [1,2,3,4,5,6]\n"
   ]
  },
  {
   "cell_type": "code",
   "execution_count": 9,
   "id": "fb1cee95",
   "metadata": {},
   "outputs": [],
   "source": [
    "# sum of the values of a dictionary\n",
    "# important: 当循环指标在dictionary里面循环的时候，循环的其实是disctionary里面的keys\n",
    "my_dict = {\n",
    "    \"Anna\": 123 , \n",
    "    \"Bob\": 44,\n",
    "    \"Emma\": 59,\n",
    "}\n",
    "\n"
   ]
  },
  {
   "cell_type": "code",
   "execution_count": 10,
   "id": "107a2caa",
   "metadata": {},
   "outputs": [],
   "source": [
    "# practice: convert everything in the list to the lower case\n",
    "\n",
    "a_list = [\"I love it! :)\",\"this product SUCKS!!\",\"Never ever buy it\",\"Worth it\"]\n",
    "\n"
   ]
  },
  {
   "cell_type": "markdown",
   "id": "6c5f42de",
   "metadata": {},
   "source": [
    "# 作业：一个常见面试题 - “统计下面这个script中每个单词出现的次数”\n",
    "- 要求：\n",
    "    - 不考虑标点：比如 color 和 color. 或者 color, 都是同一个词\n",
    "    - 不考虑大小写： 比如 Overall 和 overall 或者 OVERALL都是同一个词\n",
    "    - 统计的结果存在一个dictionary里面"
   ]
  },
  {
   "cell_type": "code",
   "execution_count": 1,
   "id": "d8711018",
   "metadata": {},
   "outputs": [
    {
     "name": "stdout",
     "output_type": "stream",
     "text": [
      "Overall, I'm really happy with this jacket. Definitely waterproof. And living in super rainy Oregon, it's absolutely perfect for the winter weather here.I did get it for a snowboarding trip, but it has quickly replaced my old rain coat. It's warm. So warm. The sleeves aren't fleece lined but they still keep you warm. I get too warm most of the time. xD True to color. I was looking for a yellow, and I got exactly the bright yellow that was pictured. Zippers, all of the pockets zip, the only one I've struggled with was the inner breast pocket, because it is fleece lined and it gets caught in the zipper. Otherwise they're all pretty awesome and durable zippers.My only real gripe about this coat is the hood. It's fleece lined, warm, and detachable, I just wish it attached to the jacket in the front instead of velcroing to itself in front of your face. Not comfortable at all. Leaving it open is easiest.My body shape is also a bit weird with a narrow waist and wide hips so it's a bit puffy at my tummy, but for the warmth and being actually water-proof I'd say it's a fair trade off.\n"
     ]
    }
   ],
   "source": [
    "script = \"Overall, I'm really happy with this jacket. Definitely waterproof. And living in super rainy Oregon, it's absolutely perfect for the winter weather here. \\\n",
    "I did get it for a snowboarding trip, but it has quickly replaced my old rain coat. It's warm. So warm. The sleeves aren't fleece lined but they still keep you warm. \\\n",
    "I get too warm most of the time. xD True to color. I was looking for a yellow, and I got exactly the bright yellow that was pictured. Zippers, all of the pockets zip, \\\n",
    "the only one I've struggled with was the inner breast pocket, because it is fleece lined and it gets caught in the zipper. Otherwise they're all pretty awesome and durable zippers.\\\n",
    "My only real gripe about this coat is the hood. It's fleece lined, warm, and detachable, I just wish it attached to the jacket in the front instead of velcroing to itself in front \\\n",
    "of your face. Not comfortable at all. Leaving it open is easiest.My body shape is also a bit weird with a narrow waist and wide hips so it's a bit puffy at my tummy, but for the warmth \\\n",
    "and being actually water-proof I'd say it's a fair trade off.\"\n",
    "\n",
    "print(script)\n"
   ]
  },
  {
   "cell_type": "code",
   "execution_count": null,
   "id": "6d9d6d5a",
   "metadata": {},
   "outputs": [],
   "source": []
  },
  {
   "cell_type": "code",
   "execution_count": null,
   "id": "c2b21713",
   "metadata": {},
   "outputs": [],
   "source": []
  },
  {
   "cell_type": "code",
   "execution_count": null,
   "id": "8e7bd1f9",
   "metadata": {},
   "outputs": [],
   "source": []
  },
  {
   "cell_type": "code",
   "execution_count": null,
   "id": "578d11aa",
   "metadata": {},
   "outputs": [],
   "source": []
  },
  {
   "cell_type": "code",
   "execution_count": null,
   "id": "9e5a58f8",
   "metadata": {},
   "outputs": [],
   "source": []
  },
  {
   "cell_type": "code",
   "execution_count": null,
   "id": "0cc819db",
   "metadata": {},
   "outputs": [],
   "source": []
  },
  {
   "cell_type": "code",
   "execution_count": null,
   "id": "825480f0",
   "metadata": {},
   "outputs": [],
   "source": []
  }
 ],
 "metadata": {
  "kernelspec": {
   "display_name": "Python 3 (ipykernel)",
   "language": "python",
   "name": "python3"
  },
  "language_info": {
   "codemirror_mode": {
    "name": "ipython",
    "version": 3
   },
   "file_extension": ".py",
   "mimetype": "text/x-python",
   "name": "python",
   "nbconvert_exporter": "python",
   "pygments_lexer": "ipython3",
   "version": "3.9.7"
  }
 },
 "nbformat": 4,
 "nbformat_minor": 5
}
