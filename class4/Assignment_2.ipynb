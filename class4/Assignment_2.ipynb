{
 "cells": [
  {
   "cell_type": "code",
   "execution_count": 88,
   "metadata": {},
   "outputs": [
    {
     "data": {
      "text/html": [
       "<div>\n",
       "<style scoped>\n",
       "    .dataframe tbody tr th:only-of-type {\n",
       "        vertical-align: middle;\n",
       "    }\n",
       "\n",
       "    .dataframe tbody tr th {\n",
       "        vertical-align: top;\n",
       "    }\n",
       "\n",
       "    .dataframe thead th {\n",
       "        text-align: right;\n",
       "    }\n",
       "</style>\n",
       "<table border=\"1\" class=\"dataframe\">\n",
       "  <thead>\n",
       "    <tr style=\"text-align: right;\">\n",
       "      <th></th>\n",
       "      <th>Unnamed: 0</th>\n",
       "      <th>Age</th>\n",
       "      <th>Location</th>\n",
       "      <th>Device</th>\n",
       "      <th>Variant</th>\n",
       "      <th>Time Spent</th>\n",
       "      <th>CTR</th>\n",
       "    </tr>\n",
       "  </thead>\n",
       "  <tbody>\n",
       "    <tr>\n",
       "      <th>0</th>\n",
       "      <td>0</td>\n",
       "      <td>62</td>\n",
       "      <td>Location2</td>\n",
       "      <td>Device2</td>\n",
       "      <td>Control</td>\n",
       "      <td>13.928669</td>\n",
       "      <td>0.084776</td>\n",
       "    </tr>\n",
       "    <tr>\n",
       "      <th>1</th>\n",
       "      <td>1</td>\n",
       "      <td>18</td>\n",
       "      <td>Location1</td>\n",
       "      <td>Device1</td>\n",
       "      <td>Variant B</td>\n",
       "      <td>11.310518</td>\n",
       "      <td>0.096859</td>\n",
       "    </tr>\n",
       "    <tr>\n",
       "      <th>2</th>\n",
       "      <td>2</td>\n",
       "      <td>21</td>\n",
       "      <td>Location2</td>\n",
       "      <td>Device1</td>\n",
       "      <td>Variant B</td>\n",
       "      <td>24.842100</td>\n",
       "      <td>0.097630</td>\n",
       "    </tr>\n",
       "    <tr>\n",
       "      <th>3</th>\n",
       "      <td>3</td>\n",
       "      <td>21</td>\n",
       "      <td>Location1</td>\n",
       "      <td>Device3</td>\n",
       "      <td>Variant B</td>\n",
       "      <td>20.061300</td>\n",
       "      <td>0.109783</td>\n",
       "    </tr>\n",
       "    <tr>\n",
       "      <th>4</th>\n",
       "      <td>4</td>\n",
       "      <td>57</td>\n",
       "      <td>Location1</td>\n",
       "      <td>Device2</td>\n",
       "      <td>Variant B</td>\n",
       "      <td>34.495503</td>\n",
       "      <td>0.068579</td>\n",
       "    </tr>\n",
       "    <tr>\n",
       "      <th>5</th>\n",
       "      <td>5</td>\n",
       "      <td>27</td>\n",
       "      <td>Location3</td>\n",
       "      <td>Device1</td>\n",
       "      <td>Variant B</td>\n",
       "      <td>26.129246</td>\n",
       "      <td>0.149341</td>\n",
       "    </tr>\n",
       "    <tr>\n",
       "      <th>6</th>\n",
       "      <td>6</td>\n",
       "      <td>37</td>\n",
       "      <td>Location3</td>\n",
       "      <td>Device3</td>\n",
       "      <td>Variant B</td>\n",
       "      <td>20.525362</td>\n",
       "      <td>0.095788</td>\n",
       "    </tr>\n",
       "    <tr>\n",
       "      <th>7</th>\n",
       "      <td>7</td>\n",
       "      <td>39</td>\n",
       "      <td>Location2</td>\n",
       "      <td>Device1</td>\n",
       "      <td>Variant A</td>\n",
       "      <td>21.525217</td>\n",
       "      <td>0.149985</td>\n",
       "    </tr>\n",
       "    <tr>\n",
       "      <th>8</th>\n",
       "      <td>8</td>\n",
       "      <td>54</td>\n",
       "      <td>Location3</td>\n",
       "      <td>Device2</td>\n",
       "      <td>Control</td>\n",
       "      <td>21.910608</td>\n",
       "      <td>0.135535</td>\n",
       "    </tr>\n",
       "    <tr>\n",
       "      <th>9</th>\n",
       "      <td>9</td>\n",
       "      <td>41</td>\n",
       "      <td>Location1</td>\n",
       "      <td>Device2</td>\n",
       "      <td>Variant A</td>\n",
       "      <td>27.642788</td>\n",
       "      <td>0.137266</td>\n",
       "    </tr>\n",
       "  </tbody>\n",
       "</table>\n",
       "</div>"
      ],
      "text/plain": [
       "   Unnamed: 0  Age   Location   Device    Variant  Time Spent       CTR\n",
       "0           0   62  Location2  Device2    Control   13.928669  0.084776\n",
       "1           1   18  Location1  Device1  Variant B   11.310518  0.096859\n",
       "2           2   21  Location2  Device1  Variant B   24.842100  0.097630\n",
       "3           3   21  Location1  Device3  Variant B   20.061300  0.109783\n",
       "4           4   57  Location1  Device2  Variant B   34.495503  0.068579\n",
       "5           5   27  Location3  Device1  Variant B   26.129246  0.149341\n",
       "6           6   37  Location3  Device3  Variant B   20.525362  0.095788\n",
       "7           7   39  Location2  Device1  Variant A   21.525217  0.149985\n",
       "8           8   54  Location3  Device2    Control   21.910608  0.135535\n",
       "9           9   41  Location1  Device2  Variant A   27.642788  0.137266"
      ]
     },
     "execution_count": 88,
     "metadata": {},
     "output_type": "execute_result"
    }
   ],
   "source": [
    "import numpy as np\n",
    "import pandas as pd\n",
    "from scipy import stats\n",
    "import seaborn as sns\n",
    "\n",
    "dt=pd.read_csv('/Users/xinyuanliang/Desktop/experiment_dataset.csv')\n",
    "dt.head(10)"
   ]
  },
  {
   "cell_type": "code",
   "execution_count": 89,
   "metadata": {},
   "outputs": [
    {
     "name": "stdout",
     "output_type": "stream",
     "text": [
      "<class 'pandas.core.frame.DataFrame'>\n",
      "RangeIndex: 1000 entries, 0 to 999\n",
      "Data columns (total 7 columns):\n",
      " #   Column      Non-Null Count  Dtype  \n",
      "---  ------      --------------  -----  \n",
      " 0   Unnamed: 0  1000 non-null   int64  \n",
      " 1   Age         1000 non-null   int64  \n",
      " 2   Location    1000 non-null   object \n",
      " 3   Device      1000 non-null   object \n",
      " 4   Variant     1000 non-null   object \n",
      " 5   Time Spent  1000 non-null   float64\n",
      " 6   CTR         1000 non-null   float64\n",
      "dtypes: float64(2), int64(2), object(3)\n",
      "memory usage: 54.8+ KB\n"
     ]
    }
   ],
   "source": [
    "dt.info()"
   ]
  },
  {
   "cell_type": "code",
   "execution_count": 90,
   "metadata": {},
   "outputs": [
    {
     "data": {
      "text/plain": [
       "Unnamed: 0    0\n",
       "Age           0\n",
       "Location      0\n",
       "Device        0\n",
       "Variant       0\n",
       "Time Spent    0\n",
       "CTR           0\n",
       "dtype: int64"
      ]
     },
     "execution_count": 90,
     "metadata": {},
     "output_type": "execute_result"
    }
   ],
   "source": [
    "# Check the missing values\n",
    "dt.isnull().sum()"
   ]
  },
  {
   "cell_type": "code",
   "execution_count": 91,
   "metadata": {},
   "outputs": [
    {
     "data": {
      "text/html": [
       "<div>\n",
       "<style scoped>\n",
       "    .dataframe tbody tr th:only-of-type {\n",
       "        vertical-align: middle;\n",
       "    }\n",
       "\n",
       "    .dataframe tbody tr th {\n",
       "        vertical-align: top;\n",
       "    }\n",
       "\n",
       "    .dataframe thead th {\n",
       "        text-align: right;\n",
       "    }\n",
       "</style>\n",
       "<table border=\"1\" class=\"dataframe\">\n",
       "  <thead>\n",
       "    <tr style=\"text-align: right;\">\n",
       "      <th></th>\n",
       "      <th>Time Spent</th>\n",
       "      <th>CTR</th>\n",
       "    </tr>\n",
       "    <tr>\n",
       "      <th>Location</th>\n",
       "      <th></th>\n",
       "      <th></th>\n",
       "    </tr>\n",
       "  </thead>\n",
       "  <tbody>\n",
       "    <tr>\n",
       "      <th>Location1</th>\n",
       "      <td>22.707286</td>\n",
       "      <td>0.110217</td>\n",
       "    </tr>\n",
       "    <tr>\n",
       "      <th>Location2</th>\n",
       "      <td>22.648998</td>\n",
       "      <td>0.108517</td>\n",
       "    </tr>\n",
       "    <tr>\n",
       "      <th>Location3</th>\n",
       "      <td>22.787691</td>\n",
       "      <td>0.108708</td>\n",
       "    </tr>\n",
       "  </tbody>\n",
       "</table>\n",
       "</div>"
      ],
      "text/plain": [
       "           Time Spent       CTR\n",
       "Location                       \n",
       "Location1   22.707286  0.110217\n",
       "Location2   22.648998  0.108517\n",
       "Location3   22.787691  0.108708"
      ]
     },
     "execution_count": 91,
     "metadata": {},
     "output_type": "execute_result"
    }
   ],
   "source": [
    "# By location\n",
    "dt.groupby('Location')[['Time Spent','CTR']].mean()"
   ]
  },
  {
   "cell_type": "code",
   "execution_count": 92,
   "metadata": {},
   "outputs": [
    {
     "name": "stdout",
     "output_type": "stream",
     "text": [
      "F_onewayResult(statistic=0.05357883967057365, pvalue=0.9478339402848069)\n"
     ]
    }
   ],
   "source": [
    "# checking time spent\n",
    "loc_1 = dt[dt['Location'] == 'Location1']['Time Spent']\n",
    "loc_2 = dt[dt['Location'] == 'Location2']['Time Spent']\n",
    "loc_3 = dt[dt['Location'] == 'Location3']['Time Spent']\n",
    "\n",
    "p_val = stats.f_oneway(loc_1, loc_2, loc_3)\n",
    "print(p_val)"
   ]
  },
  {
   "cell_type": "code",
   "execution_count": 93,
   "metadata": {},
   "outputs": [
    {
     "name": "stdout",
     "output_type": "stream",
     "text": [
      "F_onewayResult(statistic=0.5792245145655729, pvalue=0.5605211716238133)\n"
     ]
    }
   ],
   "source": [
    "# checking CTR\n",
    "loc_1 = dt[dt['Location'] == 'Location1']['CTR']\n",
    "loc_2 = dt[dt['Location'] == 'Location2']['CTR']\n",
    "loc_3 = dt[dt['Location'] == 'Location3']['CTR']\n",
    "\n",
    "p_val = stats.f_oneway(loc_1, loc_2, loc_3)\n",
    "print(p_val)"
   ]
  },
  {
   "attachments": {},
   "cell_type": "markdown",
   "metadata": {},
   "source": [
    "##"
   ]
  },
  {
   "cell_type": "code",
   "execution_count": 103,
   "metadata": {},
   "outputs": [
    {
     "name": "stdout",
     "output_type": "stream",
     "text": [
      "F_onewayResult(statistic=0.2664537181183386, pvalue=0.7661459958744103)\n"
     ]
    }
   ],
   "source": [
    "# checking time spent\n",
    "device_1 = dt[dt['Device'] == 'Device1']['Time Spent']\n",
    "device_2 = dt[dt['Device'] == 'Device2']['Time Spent']\n",
    "device_3 = dt[dt['Device'] == 'Device3']['Time Spent']\n",
    "\n",
    "p_val = stats.f_oneway(device_1, device_2, device_3)\n",
    "print(p_val)"
   ]
  },
  {
   "cell_type": "code",
   "execution_count": 105,
   "metadata": {},
   "outputs": [
    {
     "name": "stdout",
     "output_type": "stream",
     "text": [
      "F_onewayResult(statistic=0.7105872492654717, pvalue=0.4916042399968955)\n"
     ]
    }
   ],
   "source": [
    "# checking CTR\n",
    "device_1 = dt[dt['Device'] == 'Device1']['CTR']\n",
    "device_2 = dt[dt['Device'] == 'Device2']['CTR']\n",
    "device_3 = dt[dt['Device'] == 'Device3']['CTR']\n",
    "\n",
    "p_val = stats.f_oneway(device_1, device_2, device_3)\n",
    "print(p_val)"
   ]
  },
  {
   "attachments": {},
   "cell_type": "markdown",
   "metadata": {},
   "source": [
    "##"
   ]
  },
  {
   "cell_type": "code",
   "execution_count": 94,
   "metadata": {},
   "outputs": [
    {
     "data": {
      "text/plain": [
       "0.12026949300288214"
      ]
     },
     "execution_count": 94,
     "metadata": {},
     "output_type": "execute_result"
    }
   ],
   "source": [
    "# Calculate the average CTR for Variant A\n",
    "varA_avg_ctr = dt[dt['Variant'] == 'Variant A']['CTR'].mean()\n",
    "varA_avg_ctr"
   ]
  },
  {
   "cell_type": "code",
   "execution_count": 95,
   "metadata": {},
   "outputs": [
    {
     "data": {
      "text/plain": [
       "0.1089330399532712"
      ]
     },
     "execution_count": 95,
     "metadata": {},
     "output_type": "execute_result"
    }
   ],
   "source": [
    "# Calculate the average CTR for Variant B\n",
    "varB_avg_ctr = dt[dt['Variant'] == 'Variant B']['CTR'].mean()\n",
    "varB_avg_ctr"
   ]
  },
  {
   "attachments": {},
   "cell_type": "markdown",
   "metadata": {},
   "source": [
    "## "
   ]
  },
  {
   "cell_type": "code",
   "execution_count": 97,
   "metadata": {},
   "outputs": [
    {
     "data": {
      "text/plain": [
       "24.805547386576052"
      ]
     },
     "execution_count": 97,
     "metadata": {},
     "output_type": "execute_result"
    }
   ],
   "source": [
    "varA_avg_time_spent = dt[dt['Variant'] == 'Variant A']['Time Spent'].mean()\n",
    "varA_avg_time_spent\n"
   ]
  },
  {
   "cell_type": "code",
   "execution_count": 98,
   "metadata": {},
   "outputs": [
    {
     "data": {
      "text/plain": [
       "23.343782979234575"
      ]
     },
     "execution_count": 98,
     "metadata": {},
     "output_type": "execute_result"
    }
   ],
   "source": [
    "varB_avg_time_spent = dt[dt['Variant'] == 'Variant B']['Time Spent'].mean()\n",
    "varB_avg_time_spent"
   ]
  },
  {
   "cell_type": "code",
   "execution_count": 99,
   "metadata": {},
   "outputs": [
    {
     "data": {
      "text/plain": [
       "20.070781011176855"
      ]
     },
     "execution_count": 99,
     "metadata": {},
     "output_type": "execute_result"
    }
   ],
   "source": [
    "control_avg_time_spent = dt[dt['Variant'] == 'Control']['Time Spent'].mean()\n",
    "control_avg_time_spent"
   ]
  },
  {
   "attachments": {},
   "cell_type": "markdown",
   "metadata": {},
   "source": [
    "# Q2"
   ]
  },
  {
   "cell_type": "code",
   "execution_count": 121,
   "metadata": {},
   "outputs": [],
   "source": [
    "# checking Time Spent\n",
    "var_A_time_spent = dt[dt['Variant']=='Variant A']['Time Spent']\n",
    "var_B_time_spent = dt[dt['Variant']=='Variant B']['Time Spent']\n",
    "control_group_time_spent = dt[dt['Variant']=='Control']['Time Spent']"
   ]
  },
  {
   "attachments": {},
   "cell_type": "markdown",
   "metadata": {},
   "source": [
    "## T-test (Time Spent)\n",
    "\n",
    "Compare Variant A & control group:\n",
    "\n",
    "H0 : The mean of time spent for Variant A = the mean of time spent for the control group.\n",
    "\n",
    "H1 : The mean of time spent for Variant A ≠ to the mean of time spent for the control group.\n"
   ]
  },
  {
   "cell_type": "code",
   "execution_count": 122,
   "metadata": {},
   "outputs": [
    {
     "name": "stdout",
     "output_type": "stream",
     "text": [
      "T-statistic: 12.14236\n",
      "P-value: 0.00000\n"
     ]
    }
   ],
   "source": [
    "t_stat_A, p_val_A = stats.ttest_ind(var_A_time_spent, control_group_time_spent)\n",
    "\n",
    "print(f\"T-statistic: {t_stat_A:.5f}\")\n",
    "print(f\"P-value: {p_val_A:.5f}\")"
   ]
  },
  {
   "attachments": {},
   "cell_type": "markdown",
   "metadata": {},
   "source": [
    "Compare Variant B & control group:\n",
    "\n",
    "H0 : The mean of time spent for Variant B = the mean of time spent for the control group.\n",
    "\n",
    "H1 : The mean of time spent for Variant B ≠ to the mean of time spent for the control group."
   ]
  },
  {
   "cell_type": "code",
   "execution_count": 124,
   "metadata": {},
   "outputs": [
    {
     "name": "stdout",
     "output_type": "stream",
     "text": [
      "T-statistic: 8.17424\n",
      "P-value: 0.00000\n"
     ]
    }
   ],
   "source": [
    "t_stat_B, p_val_B = stats.ttest_ind(var_B_time_spent, control_group_time_spent)\n",
    "\n",
    "print(f\"T-statistic: {t_stat_B:.5f}\")\n",
    "print(f\"P-value: {p_val_B:.5f}\")"
   ]
  },
  {
   "attachments": {},
   "cell_type": "markdown",
   "metadata": {},
   "source": [
    "Compare Variant A & Variant B:\n",
    "\n",
    "H0 : The mean of time spent for Variant A = the mean of time spent for Variant B.\n",
    "\n",
    "H1 : The mean of time spent for Variant A ≠ to the mean of time spent for Variant A."
   ]
  },
  {
   "cell_type": "code",
   "execution_count": 126,
   "metadata": {},
   "outputs": [
    {
     "name": "stdout",
     "output_type": "stream",
     "text": [
      "T-statistic: 3.67882\n",
      "P-value: 0.00025\n"
     ]
    }
   ],
   "source": [
    "t_stat_C, p_val_C = stats.ttest_ind(var_A_time_spent, var_B_time_spent)\n",
    "\n",
    "print(f\"T-statistic: {t_stat_C:.5f}\")\n",
    "print(f\"P-value: {p_val_C:.5f}\")"
   ]
  },
  {
   "cell_type": "code",
   "execution_count": 133,
   "metadata": {},
   "outputs": [],
   "source": [
    "# checking CTR\n",
    "var_A_ctr = dt[dt['Variant']=='Variant A']['CTR']\n",
    "var_B_ctr = dt[dt['Variant']=='Variant B']['CTR']\n",
    "control_group_ctr = dt[dt['Variant']=='Control']['CTR']"
   ]
  },
  {
   "attachments": {},
   "cell_type": "markdown",
   "metadata": {},
   "source": [
    "## T-test (CTR)\n",
    "Compare Variant A & control group:\n",
    "\n",
    "H0 : The mean of CTR for Variant A = the mean of CTR for the control group.\n",
    "\n",
    "H1 : The mean of CTR for Variant A ≠ to the mean of CTR for the control group."
   ]
  },
  {
   "cell_type": "code",
   "execution_count": 134,
   "metadata": {},
   "outputs": [
    {
     "name": "stdout",
     "output_type": "stream",
     "text": [
      "T-statistic: 13.82942\n",
      "P-value: 0.00000\n"
     ]
    }
   ],
   "source": [
    "# t-test between control group and Variant A\n",
    "t_stat_A, p_val_A = stats.ttest_ind(var_A_ctr, control_group_ctr)\n",
    "\n",
    "print(f\"T-statistic: {t_stat_A:.5f}\")\n",
    "print(f\"P-value: {p_val_A:.5f}\")"
   ]
  },
  {
   "attachments": {},
   "cell_type": "markdown",
   "metadata": {},
   "source": [
    "Compare Variant B & control group:\n",
    "\n",
    "H0 : The mean of CTR for Variant B  = the mean of CTR for the control group.\n",
    "\n",
    "H1 : The mean of CTR for Variant B ≠ the mean of CTR for the control group."
   ]
  },
  {
   "cell_type": "code",
   "execution_count": 135,
   "metadata": {},
   "outputs": [
    {
     "name": "stdout",
     "output_type": "stream",
     "text": [
      "T-statistic: 6.47181\n",
      "P-value: 0.00000\n"
     ]
    }
   ],
   "source": [
    "# t-test between control group and Variant B\n",
    "t_stat_B, p_val_B = stats.ttest_ind(var_B_ctr, control_group_ctr)\n",
    "\n",
    "print(f\"T-statistic: {t_stat_B:.5f}\")\n",
    "print(f\"P-value: {p_val_B:.5f}\")"
   ]
  },
  {
   "attachments": {},
   "cell_type": "markdown",
   "metadata": {},
   "source": [
    "Compare Variant A & Variant B:\n",
    "\n",
    "H0 : The mean of CTR for Variant A = the mean of CTR for Variant B.\n",
    "\n",
    "H1 : The mean of CTR for Variant B ≠ the mean of CTR for Variant B."
   ]
  },
  {
   "cell_type": "code",
   "execution_count": 132,
   "metadata": {},
   "outputs": [
    {
     "name": "stdout",
     "output_type": "stream",
     "text": [
      "T-statistic: 7.08500\n",
      "P-value: 0.00000\n"
     ]
    }
   ],
   "source": [
    "# t-test between Variant A and Variant B\n",
    "t_stat_C, p_val_C = stats.ttest_ind(var_A_ctr, var_B_ctr)\n",
    "\n",
    "print(f\"T-statistic: {t_stat_C:.5f}\")\n",
    "print(f\"P-value: {p_val_C:.5f}\")"
   ]
  },
  {
   "attachments": {},
   "cell_type": "markdown",
   "metadata": {},
   "source": [
    "## ANOVA test"
   ]
  },
  {
   "cell_type": "code",
   "execution_count": 147,
   "metadata": {},
   "outputs": [
    {
     "name": "stdout",
     "output_type": "stream",
     "text": [
      "F-statistic: 75.6084\n",
      "p-value: 0.0000\n"
     ]
    }
   ],
   "source": [
    "# checking time spend\n",
    "var_A_time_spent = dt[dt['Variant']=='Variant A']['Time Spent']\n",
    "var_B_time_spent = dt[dt['Variant']=='Variant B']['Time Spent']\n",
    "control_group_time_spent = dt[dt['Variant']=='Control']['Time Spent']\n",
    "\n",
    "F_stats,p_val = stats.f_oneway(var_A_time_spent, var_B_time_spent, control_group_time_spent)\n",
    "print(\"F-statistic: {:.4f}\".format(F_stats))\n",
    "print(\"p-value: {:.4f}\".format(p_val))\n",
    "\n"
   ]
  },
  {
   "cell_type": "code",
   "execution_count": 149,
   "metadata": {},
   "outputs": [
    {
     "name": "stdout",
     "output_type": "stream",
     "text": [
      "F-statistic: 93.5889\n",
      "p-value: 0.0000\n"
     ]
    }
   ],
   "source": [
    "# checking CTR\n",
    "var_A_ctr = dt[dt['Variant']=='Variant A']['CTR']\n",
    "var_B_ctr = dt[dt['Variant']=='Variant B']['CTR']\n",
    "control_group_ctr = dt[dt['Variant']=='Control']['CTR']\n",
    "\n",
    "F_stats,p_val = stats.f_oneway(var_A_ctr,var_B_ctr,control_group_ctr)\n",
    "print(\"F-statistic: {:.4f}\".format(F_stats))\n",
    "print(\"p-value: {:.4f}\".format(p_val))"
   ]
  }
 ],
 "metadata": {
  "kernelspec": {
   "display_name": "base",
   "language": "python",
   "name": "python3"
  },
  "language_info": {
   "codemirror_mode": {
    "name": "ipython",
    "version": 3
   },
   "file_extension": ".py",
   "mimetype": "text/x-python",
   "name": "python",
   "nbconvert_exporter": "python",
   "pygments_lexer": "ipython3",
   "version": "3.10.9"
  },
  "orig_nbformat": 4
 },
 "nbformat": 4,
 "nbformat_minor": 2
}
