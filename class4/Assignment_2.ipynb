{
 "cells": [
  {
   "attachments": {},
   "cell_type": "markdown",
   "metadata": {},
   "source": [
    "# MBAN 6110 Assignment 2\n",
    "## Xinyuan Liang"
   ]
  },
  {
   "attachments": {},
   "cell_type": "markdown",
   "metadata": {},
   "source": [
    "## Download the data"
   ]
  },
  {
   "cell_type": "code",
   "execution_count": 165,
   "metadata": {},
   "outputs": [
    {
     "data": {
      "text/html": [
       "<div>\n",
       "<style scoped>\n",
       "    .dataframe tbody tr th:only-of-type {\n",
       "        vertical-align: middle;\n",
       "    }\n",
       "\n",
       "    .dataframe tbody tr th {\n",
       "        vertical-align: top;\n",
       "    }\n",
       "\n",
       "    .dataframe thead th {\n",
       "        text-align: right;\n",
       "    }\n",
       "</style>\n",
       "<table border=\"1\" class=\"dataframe\">\n",
       "  <thead>\n",
       "    <tr style=\"text-align: right;\">\n",
       "      <th></th>\n",
       "      <th>Unnamed: 0</th>\n",
       "      <th>Age</th>\n",
       "      <th>Location</th>\n",
       "      <th>Device</th>\n",
       "      <th>Variant</th>\n",
       "      <th>Time Spent</th>\n",
       "      <th>CTR</th>\n",
       "    </tr>\n",
       "  </thead>\n",
       "  <tbody>\n",
       "    <tr>\n",
       "      <th>0</th>\n",
       "      <td>0</td>\n",
       "      <td>62</td>\n",
       "      <td>Location2</td>\n",
       "      <td>Device2</td>\n",
       "      <td>Control</td>\n",
       "      <td>13.928669</td>\n",
       "      <td>0.084776</td>\n",
       "    </tr>\n",
       "    <tr>\n",
       "      <th>1</th>\n",
       "      <td>1</td>\n",
       "      <td>18</td>\n",
       "      <td>Location1</td>\n",
       "      <td>Device1</td>\n",
       "      <td>Variant B</td>\n",
       "      <td>11.310518</td>\n",
       "      <td>0.096859</td>\n",
       "    </tr>\n",
       "    <tr>\n",
       "      <th>2</th>\n",
       "      <td>2</td>\n",
       "      <td>21</td>\n",
       "      <td>Location2</td>\n",
       "      <td>Device1</td>\n",
       "      <td>Variant B</td>\n",
       "      <td>24.842100</td>\n",
       "      <td>0.097630</td>\n",
       "    </tr>\n",
       "    <tr>\n",
       "      <th>3</th>\n",
       "      <td>3</td>\n",
       "      <td>21</td>\n",
       "      <td>Location1</td>\n",
       "      <td>Device3</td>\n",
       "      <td>Variant B</td>\n",
       "      <td>20.061300</td>\n",
       "      <td>0.109783</td>\n",
       "    </tr>\n",
       "    <tr>\n",
       "      <th>4</th>\n",
       "      <td>4</td>\n",
       "      <td>57</td>\n",
       "      <td>Location1</td>\n",
       "      <td>Device2</td>\n",
       "      <td>Variant B</td>\n",
       "      <td>34.495503</td>\n",
       "      <td>0.068579</td>\n",
       "    </tr>\n",
       "    <tr>\n",
       "      <th>5</th>\n",
       "      <td>5</td>\n",
       "      <td>27</td>\n",
       "      <td>Location3</td>\n",
       "      <td>Device1</td>\n",
       "      <td>Variant B</td>\n",
       "      <td>26.129246</td>\n",
       "      <td>0.149341</td>\n",
       "    </tr>\n",
       "    <tr>\n",
       "      <th>6</th>\n",
       "      <td>6</td>\n",
       "      <td>37</td>\n",
       "      <td>Location3</td>\n",
       "      <td>Device3</td>\n",
       "      <td>Variant B</td>\n",
       "      <td>20.525362</td>\n",
       "      <td>0.095788</td>\n",
       "    </tr>\n",
       "    <tr>\n",
       "      <th>7</th>\n",
       "      <td>7</td>\n",
       "      <td>39</td>\n",
       "      <td>Location2</td>\n",
       "      <td>Device1</td>\n",
       "      <td>Variant A</td>\n",
       "      <td>21.525217</td>\n",
       "      <td>0.149985</td>\n",
       "    </tr>\n",
       "    <tr>\n",
       "      <th>8</th>\n",
       "      <td>8</td>\n",
       "      <td>54</td>\n",
       "      <td>Location3</td>\n",
       "      <td>Device2</td>\n",
       "      <td>Control</td>\n",
       "      <td>21.910608</td>\n",
       "      <td>0.135535</td>\n",
       "    </tr>\n",
       "    <tr>\n",
       "      <th>9</th>\n",
       "      <td>9</td>\n",
       "      <td>41</td>\n",
       "      <td>Location1</td>\n",
       "      <td>Device2</td>\n",
       "      <td>Variant A</td>\n",
       "      <td>27.642788</td>\n",
       "      <td>0.137266</td>\n",
       "    </tr>\n",
       "    <tr>\n",
       "      <th>10</th>\n",
       "      <td>10</td>\n",
       "      <td>24</td>\n",
       "      <td>Location2</td>\n",
       "      <td>Device3</td>\n",
       "      <td>Variant B</td>\n",
       "      <td>21.113016</td>\n",
       "      <td>0.120459</td>\n",
       "    </tr>\n",
       "    <tr>\n",
       "      <th>11</th>\n",
       "      <td>11</td>\n",
       "      <td>42</td>\n",
       "      <td>Location2</td>\n",
       "      <td>Device3</td>\n",
       "      <td>Variant B</td>\n",
       "      <td>19.659044</td>\n",
       "      <td>0.092851</td>\n",
       "    </tr>\n",
       "    <tr>\n",
       "      <th>12</th>\n",
       "      <td>12</td>\n",
       "      <td>42</td>\n",
       "      <td>Location2</td>\n",
       "      <td>Device3</td>\n",
       "      <td>Variant B</td>\n",
       "      <td>32.975053</td>\n",
       "      <td>0.137640</td>\n",
       "    </tr>\n",
       "    <tr>\n",
       "      <th>13</th>\n",
       "      <td>13</td>\n",
       "      <td>30</td>\n",
       "      <td>Location2</td>\n",
       "      <td>Device3</td>\n",
       "      <td>Variant A</td>\n",
       "      <td>26.208502</td>\n",
       "      <td>0.087875</td>\n",
       "    </tr>\n",
       "    <tr>\n",
       "      <th>14</th>\n",
       "      <td>14</td>\n",
       "      <td>19</td>\n",
       "      <td>Location3</td>\n",
       "      <td>Device3</td>\n",
       "      <td>Variant B</td>\n",
       "      <td>21.334800</td>\n",
       "      <td>0.129878</td>\n",
       "    </tr>\n",
       "    <tr>\n",
       "      <th>15</th>\n",
       "      <td>15</td>\n",
       "      <td>56</td>\n",
       "      <td>Location2</td>\n",
       "      <td>Device2</td>\n",
       "      <td>Variant A</td>\n",
       "      <td>7.800901</td>\n",
       "      <td>0.069781</td>\n",
       "    </tr>\n",
       "    <tr>\n",
       "      <th>16</th>\n",
       "      <td>16</td>\n",
       "      <td>57</td>\n",
       "      <td>Location1</td>\n",
       "      <td>Device3</td>\n",
       "      <td>Control</td>\n",
       "      <td>37.527368</td>\n",
       "      <td>0.130966</td>\n",
       "    </tr>\n",
       "    <tr>\n",
       "      <th>17</th>\n",
       "      <td>17</td>\n",
       "      <td>41</td>\n",
       "      <td>Location2</td>\n",
       "      <td>Device3</td>\n",
       "      <td>Variant A</td>\n",
       "      <td>32.699437</td>\n",
       "      <td>0.114626</td>\n",
       "    </tr>\n",
       "    <tr>\n",
       "      <th>18</th>\n",
       "      <td>18</td>\n",
       "      <td>64</td>\n",
       "      <td>Location3</td>\n",
       "      <td>Device3</td>\n",
       "      <td>Variant A</td>\n",
       "      <td>21.057186</td>\n",
       "      <td>0.101044</td>\n",
       "    </tr>\n",
       "    <tr>\n",
       "      <th>19</th>\n",
       "      <td>19</td>\n",
       "      <td>42</td>\n",
       "      <td>Location1</td>\n",
       "      <td>Device3</td>\n",
       "      <td>Control</td>\n",
       "      <td>21.532687</td>\n",
       "      <td>0.081168</td>\n",
       "    </tr>\n",
       "    <tr>\n",
       "      <th>20</th>\n",
       "      <td>20</td>\n",
       "      <td>35</td>\n",
       "      <td>Location3</td>\n",
       "      <td>Device2</td>\n",
       "      <td>Variant B</td>\n",
       "      <td>23.854361</td>\n",
       "      <td>0.136045</td>\n",
       "    </tr>\n",
       "    <tr>\n",
       "      <th>21</th>\n",
       "      <td>21</td>\n",
       "      <td>55</td>\n",
       "      <td>Location3</td>\n",
       "      <td>Device2</td>\n",
       "      <td>Variant A</td>\n",
       "      <td>30.032318</td>\n",
       "      <td>0.102449</td>\n",
       "    </tr>\n",
       "    <tr>\n",
       "      <th>22</th>\n",
       "      <td>22</td>\n",
       "      <td>43</td>\n",
       "      <td>Location3</td>\n",
       "      <td>Device1</td>\n",
       "      <td>Control</td>\n",
       "      <td>16.171548</td>\n",
       "      <td>0.085845</td>\n",
       "    </tr>\n",
       "    <tr>\n",
       "      <th>23</th>\n",
       "      <td>23</td>\n",
       "      <td>31</td>\n",
       "      <td>Location3</td>\n",
       "      <td>Device3</td>\n",
       "      <td>Variant A</td>\n",
       "      <td>29.319742</td>\n",
       "      <td>0.065667</td>\n",
       "    </tr>\n",
       "    <tr>\n",
       "      <th>24</th>\n",
       "      <td>24</td>\n",
       "      <td>26</td>\n",
       "      <td>Location2</td>\n",
       "      <td>Device3</td>\n",
       "      <td>Variant A</td>\n",
       "      <td>29.234700</td>\n",
       "      <td>0.100263</td>\n",
       "    </tr>\n",
       "    <tr>\n",
       "      <th>25</th>\n",
       "      <td>25</td>\n",
       "      <td>27</td>\n",
       "      <td>Location3</td>\n",
       "      <td>Device2</td>\n",
       "      <td>Control</td>\n",
       "      <td>23.523474</td>\n",
       "      <td>0.089572</td>\n",
       "    </tr>\n",
       "    <tr>\n",
       "      <th>26</th>\n",
       "      <td>26</td>\n",
       "      <td>38</td>\n",
       "      <td>Location2</td>\n",
       "      <td>Device2</td>\n",
       "      <td>Variant A</td>\n",
       "      <td>18.702220</td>\n",
       "      <td>0.147367</td>\n",
       "    </tr>\n",
       "    <tr>\n",
       "      <th>27</th>\n",
       "      <td>27</td>\n",
       "      <td>34</td>\n",
       "      <td>Location2</td>\n",
       "      <td>Device2</td>\n",
       "      <td>Control</td>\n",
       "      <td>23.714844</td>\n",
       "      <td>0.098160</td>\n",
       "    </tr>\n",
       "    <tr>\n",
       "      <th>28</th>\n",
       "      <td>28</td>\n",
       "      <td>23</td>\n",
       "      <td>Location3</td>\n",
       "      <td>Device3</td>\n",
       "      <td>Variant A</td>\n",
       "      <td>18.548589</td>\n",
       "      <td>0.117207</td>\n",
       "    </tr>\n",
       "    <tr>\n",
       "      <th>29</th>\n",
       "      <td>29</td>\n",
       "      <td>33</td>\n",
       "      <td>Location1</td>\n",
       "      <td>Device1</td>\n",
       "      <td>Variant B</td>\n",
       "      <td>28.786400</td>\n",
       "      <td>0.128218</td>\n",
       "    </tr>\n",
       "    <tr>\n",
       "      <th>30</th>\n",
       "      <td>30</td>\n",
       "      <td>18</td>\n",
       "      <td>Location3</td>\n",
       "      <td>Device1</td>\n",
       "      <td>Control</td>\n",
       "      <td>20.452341</td>\n",
       "      <td>0.110332</td>\n",
       "    </tr>\n",
       "    <tr>\n",
       "      <th>31</th>\n",
       "      <td>31</td>\n",
       "      <td>36</td>\n",
       "      <td>Location3</td>\n",
       "      <td>Device2</td>\n",
       "      <td>Variant B</td>\n",
       "      <td>26.512628</td>\n",
       "      <td>0.089373</td>\n",
       "    </tr>\n",
       "    <tr>\n",
       "      <th>32</th>\n",
       "      <td>32</td>\n",
       "      <td>53</td>\n",
       "      <td>Location2</td>\n",
       "      <td>Device2</td>\n",
       "      <td>Variant A</td>\n",
       "      <td>20.457042</td>\n",
       "      <td>0.137305</td>\n",
       "    </tr>\n",
       "    <tr>\n",
       "      <th>33</th>\n",
       "      <td>33</td>\n",
       "      <td>42</td>\n",
       "      <td>Location2</td>\n",
       "      <td>Device2</td>\n",
       "      <td>Variant B</td>\n",
       "      <td>31.198429</td>\n",
       "      <td>0.117384</td>\n",
       "    </tr>\n",
       "    <tr>\n",
       "      <th>34</th>\n",
       "      <td>34</td>\n",
       "      <td>47</td>\n",
       "      <td>Location2</td>\n",
       "      <td>Device2</td>\n",
       "      <td>Control</td>\n",
       "      <td>21.779393</td>\n",
       "      <td>0.101234</td>\n",
       "    </tr>\n",
       "    <tr>\n",
       "      <th>35</th>\n",
       "      <td>35</td>\n",
       "      <td>37</td>\n",
       "      <td>Location2</td>\n",
       "      <td>Device1</td>\n",
       "      <td>Variant A</td>\n",
       "      <td>16.831684</td>\n",
       "      <td>0.134213</td>\n",
       "    </tr>\n",
       "    <tr>\n",
       "      <th>36</th>\n",
       "      <td>36</td>\n",
       "      <td>37</td>\n",
       "      <td>Location3</td>\n",
       "      <td>Device1</td>\n",
       "      <td>Control</td>\n",
       "      <td>16.841750</td>\n",
       "      <td>0.107954</td>\n",
       "    </tr>\n",
       "    <tr>\n",
       "      <th>37</th>\n",
       "      <td>37</td>\n",
       "      <td>32</td>\n",
       "      <td>Location1</td>\n",
       "      <td>Device2</td>\n",
       "      <td>Variant A</td>\n",
       "      <td>26.169595</td>\n",
       "      <td>0.125594</td>\n",
       "    </tr>\n",
       "    <tr>\n",
       "      <th>38</th>\n",
       "      <td>38</td>\n",
       "      <td>57</td>\n",
       "      <td>Location1</td>\n",
       "      <td>Device1</td>\n",
       "      <td>Variant B</td>\n",
       "      <td>21.317249</td>\n",
       "      <td>0.094760</td>\n",
       "    </tr>\n",
       "    <tr>\n",
       "      <th>39</th>\n",
       "      <td>39</td>\n",
       "      <td>50</td>\n",
       "      <td>Location1</td>\n",
       "      <td>Device2</td>\n",
       "      <td>Variant B</td>\n",
       "      <td>28.988105</td>\n",
       "      <td>0.095454</td>\n",
       "    </tr>\n",
       "  </tbody>\n",
       "</table>\n",
       "</div>"
      ],
      "text/plain": [
       "    Unnamed: 0  Age   Location   Device    Variant  Time Spent       CTR\n",
       "0            0   62  Location2  Device2    Control   13.928669  0.084776\n",
       "1            1   18  Location1  Device1  Variant B   11.310518  0.096859\n",
       "2            2   21  Location2  Device1  Variant B   24.842100  0.097630\n",
       "3            3   21  Location1  Device3  Variant B   20.061300  0.109783\n",
       "4            4   57  Location1  Device2  Variant B   34.495503  0.068579\n",
       "5            5   27  Location3  Device1  Variant B   26.129246  0.149341\n",
       "6            6   37  Location3  Device3  Variant B   20.525362  0.095788\n",
       "7            7   39  Location2  Device1  Variant A   21.525217  0.149985\n",
       "8            8   54  Location3  Device2    Control   21.910608  0.135535\n",
       "9            9   41  Location1  Device2  Variant A   27.642788  0.137266\n",
       "10          10   24  Location2  Device3  Variant B   21.113016  0.120459\n",
       "11          11   42  Location2  Device3  Variant B   19.659044  0.092851\n",
       "12          12   42  Location2  Device3  Variant B   32.975053  0.137640\n",
       "13          13   30  Location2  Device3  Variant A   26.208502  0.087875\n",
       "14          14   19  Location3  Device3  Variant B   21.334800  0.129878\n",
       "15          15   56  Location2  Device2  Variant A    7.800901  0.069781\n",
       "16          16   57  Location1  Device3    Control   37.527368  0.130966\n",
       "17          17   41  Location2  Device3  Variant A   32.699437  0.114626\n",
       "18          18   64  Location3  Device3  Variant A   21.057186  0.101044\n",
       "19          19   42  Location1  Device3    Control   21.532687  0.081168\n",
       "20          20   35  Location3  Device2  Variant B   23.854361  0.136045\n",
       "21          21   55  Location3  Device2  Variant A   30.032318  0.102449\n",
       "22          22   43  Location3  Device1    Control   16.171548  0.085845\n",
       "23          23   31  Location3  Device3  Variant A   29.319742  0.065667\n",
       "24          24   26  Location2  Device3  Variant A   29.234700  0.100263\n",
       "25          25   27  Location3  Device2    Control   23.523474  0.089572\n",
       "26          26   38  Location2  Device2  Variant A   18.702220  0.147367\n",
       "27          27   34  Location2  Device2    Control   23.714844  0.098160\n",
       "28          28   23  Location3  Device3  Variant A   18.548589  0.117207\n",
       "29          29   33  Location1  Device1  Variant B   28.786400  0.128218\n",
       "30          30   18  Location3  Device1    Control   20.452341  0.110332\n",
       "31          31   36  Location3  Device2  Variant B   26.512628  0.089373\n",
       "32          32   53  Location2  Device2  Variant A   20.457042  0.137305\n",
       "33          33   42  Location2  Device2  Variant B   31.198429  0.117384\n",
       "34          34   47  Location2  Device2    Control   21.779393  0.101234\n",
       "35          35   37  Location2  Device1  Variant A   16.831684  0.134213\n",
       "36          36   37  Location3  Device1    Control   16.841750  0.107954\n",
       "37          37   32  Location1  Device2  Variant A   26.169595  0.125594\n",
       "38          38   57  Location1  Device1  Variant B   21.317249  0.094760\n",
       "39          39   50  Location1  Device2  Variant B   28.988105  0.095454"
      ]
     },
     "execution_count": 165,
     "metadata": {},
     "output_type": "execute_result"
    }
   ],
   "source": [
    "import numpy as np\n",
    "import pandas as pd\n",
    "from scipy import stats\n",
    "import seaborn as sns\n",
    "\n",
    "dt=pd.read_csv('/Users/xinyuanliang/Desktop/MBAN 6110/experiment_dataset.csv')\n",
    "dt.head(40)"
   ]
  },
  {
   "attachments": {},
   "cell_type": "markdown",
   "metadata": {},
   "source": [
    "### Data Cleaning"
   ]
  },
  {
   "cell_type": "code",
   "execution_count": 138,
   "metadata": {},
   "outputs": [
    {
     "data": {
      "text/html": [
       "<div>\n",
       "<style scoped>\n",
       "    .dataframe tbody tr th:only-of-type {\n",
       "        vertical-align: middle;\n",
       "    }\n",
       "\n",
       "    .dataframe tbody tr th {\n",
       "        vertical-align: top;\n",
       "    }\n",
       "\n",
       "    .dataframe thead th {\n",
       "        text-align: right;\n",
       "    }\n",
       "</style>\n",
       "<table border=\"1\" class=\"dataframe\">\n",
       "  <thead>\n",
       "    <tr style=\"text-align: right;\">\n",
       "      <th></th>\n",
       "      <th>Age</th>\n",
       "      <th>Location</th>\n",
       "      <th>Device</th>\n",
       "      <th>Variant</th>\n",
       "      <th>Time Spent</th>\n",
       "      <th>CTR</th>\n",
       "    </tr>\n",
       "  </thead>\n",
       "  <tbody>\n",
       "    <tr>\n",
       "      <th>0</th>\n",
       "      <td>62</td>\n",
       "      <td>Location2</td>\n",
       "      <td>Device2</td>\n",
       "      <td>Control</td>\n",
       "      <td>13.928669</td>\n",
       "      <td>0.084776</td>\n",
       "    </tr>\n",
       "    <tr>\n",
       "      <th>1</th>\n",
       "      <td>18</td>\n",
       "      <td>Location1</td>\n",
       "      <td>Device1</td>\n",
       "      <td>Variant B</td>\n",
       "      <td>11.310518</td>\n",
       "      <td>0.096859</td>\n",
       "    </tr>\n",
       "    <tr>\n",
       "      <th>2</th>\n",
       "      <td>21</td>\n",
       "      <td>Location2</td>\n",
       "      <td>Device1</td>\n",
       "      <td>Variant B</td>\n",
       "      <td>24.842100</td>\n",
       "      <td>0.097630</td>\n",
       "    </tr>\n",
       "    <tr>\n",
       "      <th>3</th>\n",
       "      <td>21</td>\n",
       "      <td>Location1</td>\n",
       "      <td>Device3</td>\n",
       "      <td>Variant B</td>\n",
       "      <td>20.061300</td>\n",
       "      <td>0.109783</td>\n",
       "    </tr>\n",
       "    <tr>\n",
       "      <th>4</th>\n",
       "      <td>57</td>\n",
       "      <td>Location1</td>\n",
       "      <td>Device2</td>\n",
       "      <td>Variant B</td>\n",
       "      <td>34.495503</td>\n",
       "      <td>0.068579</td>\n",
       "    </tr>\n",
       "    <tr>\n",
       "      <th>5</th>\n",
       "      <td>27</td>\n",
       "      <td>Location3</td>\n",
       "      <td>Device1</td>\n",
       "      <td>Variant B</td>\n",
       "      <td>26.129246</td>\n",
       "      <td>0.149341</td>\n",
       "    </tr>\n",
       "    <tr>\n",
       "      <th>6</th>\n",
       "      <td>37</td>\n",
       "      <td>Location3</td>\n",
       "      <td>Device3</td>\n",
       "      <td>Variant B</td>\n",
       "      <td>20.525362</td>\n",
       "      <td>0.095788</td>\n",
       "    </tr>\n",
       "    <tr>\n",
       "      <th>7</th>\n",
       "      <td>39</td>\n",
       "      <td>Location2</td>\n",
       "      <td>Device1</td>\n",
       "      <td>Variant A</td>\n",
       "      <td>21.525217</td>\n",
       "      <td>0.149985</td>\n",
       "    </tr>\n",
       "    <tr>\n",
       "      <th>8</th>\n",
       "      <td>54</td>\n",
       "      <td>Location3</td>\n",
       "      <td>Device2</td>\n",
       "      <td>Control</td>\n",
       "      <td>21.910608</td>\n",
       "      <td>0.135535</td>\n",
       "    </tr>\n",
       "    <tr>\n",
       "      <th>9</th>\n",
       "      <td>41</td>\n",
       "      <td>Location1</td>\n",
       "      <td>Device2</td>\n",
       "      <td>Variant A</td>\n",
       "      <td>27.642788</td>\n",
       "      <td>0.137266</td>\n",
       "    </tr>\n",
       "  </tbody>\n",
       "</table>\n",
       "</div>"
      ],
      "text/plain": [
       "   Age   Location   Device    Variant  Time Spent       CTR\n",
       "0   62  Location2  Device2    Control   13.928669  0.084776\n",
       "1   18  Location1  Device1  Variant B   11.310518  0.096859\n",
       "2   21  Location2  Device1  Variant B   24.842100  0.097630\n",
       "3   21  Location1  Device3  Variant B   20.061300  0.109783\n",
       "4   57  Location1  Device2  Variant B   34.495503  0.068579\n",
       "5   27  Location3  Device1  Variant B   26.129246  0.149341\n",
       "6   37  Location3  Device3  Variant B   20.525362  0.095788\n",
       "7   39  Location2  Device1  Variant A   21.525217  0.149985\n",
       "8   54  Location3  Device2    Control   21.910608  0.135535\n",
       "9   41  Location1  Device2  Variant A   27.642788  0.137266"
      ]
     },
     "execution_count": 138,
     "metadata": {},
     "output_type": "execute_result"
    }
   ],
   "source": [
    "# Remove the unnecessary column\n",
    "dt.drop('Unnamed: 0', axis=1, inplace = True)\n",
    "dt.head(10)"
   ]
  },
  {
   "cell_type": "code",
   "execution_count": 139,
   "metadata": {},
   "outputs": [
    {
     "name": "stdout",
     "output_type": "stream",
     "text": [
      "<class 'pandas.core.frame.DataFrame'>\n",
      "RangeIndex: 1000 entries, 0 to 999\n",
      "Data columns (total 6 columns):\n",
      " #   Column      Non-Null Count  Dtype  \n",
      "---  ------      --------------  -----  \n",
      " 0   Age         1000 non-null   int64  \n",
      " 1   Location    1000 non-null   object \n",
      " 2   Device      1000 non-null   object \n",
      " 3   Variant     1000 non-null   object \n",
      " 4   Time Spent  1000 non-null   float64\n",
      " 5   CTR         1000 non-null   float64\n",
      "dtypes: float64(2), int64(1), object(3)\n",
      "memory usage: 47.0+ KB\n"
     ]
    }
   ],
   "source": [
    "dt.info()"
   ]
  },
  {
   "cell_type": "code",
   "execution_count": 140,
   "metadata": {},
   "outputs": [
    {
     "data": {
      "text/plain": [
       "Age           0\n",
       "Location      0\n",
       "Device        0\n",
       "Variant       0\n",
       "Time Spent    0\n",
       "CTR           0\n",
       "dtype: int64"
      ]
     },
     "execution_count": 140,
     "metadata": {},
     "output_type": "execute_result"
    }
   ],
   "source": [
    "# Find missing values\n",
    "dt.isnull().sum()"
   ]
  },
  {
   "attachments": {},
   "cell_type": "markdown",
   "metadata": {},
   "source": [
    "### Q1 Analyze the results to determine which feature (if any) results in CTR or Time Spent lift."
   ]
  },
  {
   "attachments": {},
   "cell_type": "markdown",
   "metadata": {},
   "source": [
    "Users shouldn't have significant differences between the amounts of time spent and CTR, need to make sure the users are similar in behaviour. We should compare users by Location, Device and use statistical tests to support our analysis."
   ]
  },
  {
   "cell_type": "code",
   "execution_count": 141,
   "metadata": {},
   "outputs": [
    {
     "data": {
      "text/html": [
       "<div>\n",
       "<style scoped>\n",
       "    .dataframe tbody tr th:only-of-type {\n",
       "        vertical-align: middle;\n",
       "    }\n",
       "\n",
       "    .dataframe tbody tr th {\n",
       "        vertical-align: top;\n",
       "    }\n",
       "\n",
       "    .dataframe thead th {\n",
       "        text-align: right;\n",
       "    }\n",
       "</style>\n",
       "<table border=\"1\" class=\"dataframe\">\n",
       "  <thead>\n",
       "    <tr style=\"text-align: right;\">\n",
       "      <th></th>\n",
       "      <th>Time Spent</th>\n",
       "      <th>CTR</th>\n",
       "    </tr>\n",
       "    <tr>\n",
       "      <th>Location</th>\n",
       "      <th></th>\n",
       "      <th></th>\n",
       "    </tr>\n",
       "  </thead>\n",
       "  <tbody>\n",
       "    <tr>\n",
       "      <th>Location1</th>\n",
       "      <td>22.707286</td>\n",
       "      <td>0.110217</td>\n",
       "    </tr>\n",
       "    <tr>\n",
       "      <th>Location2</th>\n",
       "      <td>22.648998</td>\n",
       "      <td>0.108517</td>\n",
       "    </tr>\n",
       "    <tr>\n",
       "      <th>Location3</th>\n",
       "      <td>22.787691</td>\n",
       "      <td>0.108708</td>\n",
       "    </tr>\n",
       "  </tbody>\n",
       "</table>\n",
       "</div>"
      ],
      "text/plain": [
       "           Time Spent       CTR\n",
       "Location                       \n",
       "Location1   22.707286  0.110217\n",
       "Location2   22.648998  0.108517\n",
       "Location3   22.787691  0.108708"
      ]
     },
     "execution_count": 141,
     "metadata": {},
     "output_type": "execute_result"
    }
   ],
   "source": [
    "# group the user by location and then calculate the mean of time spent and CTR.\n",
    "# 一样的 dt.groupby('Location')['Time Spent', 'CTR'].mean().sort_values(by='Time Spent', ascending=False).head(10)\n",
    "dt.groupby('Location')[['Time Spent','CTR']].mean()\n"
   ]
  },
  {
   "cell_type": "code",
   "execution_count": 142,
   "metadata": {},
   "outputs": [
    {
     "name": "stdout",
     "output_type": "stream",
     "text": [
      "F_onewayResult(statistic=0.05357883967057365, pvalue=0.9478339402848069)\n"
     ]
    }
   ],
   "source": [
    "\n",
    "# perform an ANOVA test to see if the difference in time spent is significant across the three locations.\n",
    "\n",
    "# H0: The difference in time spent is not significant across the three locations.\n",
    "# H1: The difference in time spent is significant across the three locations.\n",
    "\n",
    "p_val=stats.f_oneway(dt[dt['Location'] == 'Location1']['Time Spent'],\n",
    "                     dt[dt['Location'] == 'Location2']['Time Spent'],\n",
    "                     dt[dt['Location'] == 'Location3']['Time Spent'])\n",
    "print(p_val)"
   ]
  },
  {
   "cell_type": "code",
   "execution_count": 143,
   "metadata": {},
   "outputs": [
    {
     "name": "stdout",
     "output_type": "stream",
     "text": [
      "F_onewayResult(statistic=0.05357883967057365, pvalue=0.9478339402848069)\n"
     ]
    }
   ],
   "source": [
    "# checking time spent\n",
    "loc_1 = dt[dt['Location'] == 'Location1']['Time Spent']\n",
    "loc_2 = dt[dt['Location'] == 'Location2']['Time Spent']\n",
    "loc_3 = dt[dt['Location'] == 'Location3']['Time Spent']\n",
    "\n",
    "p_val = stats.f_oneway(loc_1, loc_2, loc_3)\n",
    "print(p_val)"
   ]
  },
  {
   "attachments": {},
   "cell_type": "markdown",
   "metadata": {},
   "source": [
    "The ANOVA test results suggest that there is no significant difference in the average time spent among different locations (p-value = 0.9478)."
   ]
  },
  {
   "cell_type": "code",
   "execution_count": 144,
   "metadata": {},
   "outputs": [
    {
     "name": "stdout",
     "output_type": "stream",
     "text": [
      "F_onewayResult(statistic=0.5792245145655729, pvalue=0.5605211716238133)\n"
     ]
    }
   ],
   "source": [
    "# perform an ANOVA test to see if the difference in CTR is significant across the three locations.\n",
    "\n",
    "# H0: The difference in CTR is not significant across the three locations.\n",
    "# H1: The difference in CTR is significant across the three locations.\n",
    "\n",
    "p_val=stats.f_oneway(dt[dt['Location'] == 'Location1']['CTR'], \n",
    "                        dt[dt['Location'] == 'Location2']['CTR'],\n",
    "                        dt[dt['Location'] == 'Location3']['CTR'])\n",
    "print(p_val)\n",
    "\n"
   ]
  },
  {
   "cell_type": "code",
   "execution_count": 145,
   "metadata": {},
   "outputs": [
    {
     "name": "stdout",
     "output_type": "stream",
     "text": [
      "F_onewayResult(statistic=0.5792245145655729, pvalue=0.5605211716238133)\n"
     ]
    }
   ],
   "source": [
    "# checking CTR\n",
    "loc_1 = dt[dt['Location'] == 'Location1']['CTR']\n",
    "loc_2 = dt[dt['Location'] == 'Location2']['CTR']\n",
    "loc_3 = dt[dt['Location'] == 'Location3']['CTR']\n",
    "\n",
    "p_val = stats.f_oneway(loc_1, loc_2, loc_3)\n",
    "print(p_val)"
   ]
  },
  {
   "attachments": {},
   "cell_type": "markdown",
   "metadata": {},
   "source": [
    "The ANOVA test results indicate that there is no significant difference in the average CTR among different locations (p-value = 0.5605).\n"
   ]
  },
  {
   "cell_type": "code",
   "execution_count": 146,
   "metadata": {},
   "outputs": [
    {
     "data": {
      "text/html": [
       "<div>\n",
       "<style scoped>\n",
       "    .dataframe tbody tr th:only-of-type {\n",
       "        vertical-align: middle;\n",
       "    }\n",
       "\n",
       "    .dataframe tbody tr th {\n",
       "        vertical-align: top;\n",
       "    }\n",
       "\n",
       "    .dataframe thead th {\n",
       "        text-align: right;\n",
       "    }\n",
       "</style>\n",
       "<table border=\"1\" class=\"dataframe\">\n",
       "  <thead>\n",
       "    <tr style=\"text-align: right;\">\n",
       "      <th></th>\n",
       "      <th>Time Spent</th>\n",
       "      <th>CTR</th>\n",
       "    </tr>\n",
       "    <tr>\n",
       "      <th>Device</th>\n",
       "      <th></th>\n",
       "      <th></th>\n",
       "    </tr>\n",
       "  </thead>\n",
       "  <tbody>\n",
       "    <tr>\n",
       "      <th>Device1</th>\n",
       "      <td>22.635032</td>\n",
       "      <td>0.109634</td>\n",
       "    </tr>\n",
       "    <tr>\n",
       "      <th>Device2</th>\n",
       "      <td>22.890021</td>\n",
       "      <td>0.109868</td>\n",
       "    </tr>\n",
       "    <tr>\n",
       "      <th>Device3</th>\n",
       "      <td>22.612276</td>\n",
       "      <td>0.107993</td>\n",
       "    </tr>\n",
       "  </tbody>\n",
       "</table>\n",
       "</div>"
      ],
      "text/plain": [
       "         Time Spent       CTR\n",
       "Device                       \n",
       "Device1   22.635032  0.109634\n",
       "Device2   22.890021  0.109868\n",
       "Device3   22.612276  0.107993"
      ]
     },
     "execution_count": 146,
     "metadata": {},
     "output_type": "execute_result"
    }
   ],
   "source": [
    "# By device\n",
    "dt.groupby('Device')[['Time Spent', 'CTR']].mean()"
   ]
  },
  {
   "cell_type": "code",
   "execution_count": 147,
   "metadata": {},
   "outputs": [
    {
     "name": "stdout",
     "output_type": "stream",
     "text": [
      "F_onewayResult(statistic=0.2664537181183386, pvalue=0.7661459958744103)\n"
     ]
    }
   ],
   "source": [
    "# checking time spent\n",
    "device_1 = dt[dt['Device'] == 'Device1']['Time Spent']\n",
    "device_2 = dt[dt['Device'] == 'Device2']['Time Spent']\n",
    "device_3 = dt[dt['Device'] == 'Device3']['Time Spent']\n",
    "\n",
    "p_val = stats.f_oneway(device_1, device_2, device_3)\n",
    "print(p_val)"
   ]
  },
  {
   "attachments": {},
   "cell_type": "markdown",
   "metadata": {},
   "source": [
    "\n",
    "The ANOVA test results indicate that there is no significant difference in the average time spent among different locations (p-value = 0.7661)."
   ]
  },
  {
   "cell_type": "code",
   "execution_count": 148,
   "metadata": {},
   "outputs": [
    {
     "name": "stdout",
     "output_type": "stream",
     "text": [
      "F_onewayResult(statistic=0.7105872492654717, pvalue=0.4916042399968955)\n"
     ]
    }
   ],
   "source": [
    "# checking CTR\n",
    "device_1 = dt[dt['Device'] == 'Device1']['CTR']\n",
    "device_2 = dt[dt['Device'] == 'Device2']['CTR']\n",
    "device_3 = dt[dt['Device'] == 'Device3']['CTR']\n",
    "\n",
    "p_val = stats.f_oneway(device_1, device_2, device_3)\n",
    "print(p_val)"
   ]
  },
  {
   "attachments": {},
   "cell_type": "markdown",
   "metadata": {},
   "source": [
    "\n",
    "The ANOVA test results suggest that there is no significant difference in the average CTR among different locations (p-value = 0.4916)."
   ]
  },
  {
   "attachments": {},
   "cell_type": "markdown",
   "metadata": {},
   "source": [
    "### Calculate the average CTR & Time Spent for both Variant"
   ]
  },
  {
   "cell_type": "code",
   "execution_count": 149,
   "metadata": {},
   "outputs": [
    {
     "data": {
      "text/plain": [
       "0.12026949300288214"
      ]
     },
     "execution_count": 149,
     "metadata": {},
     "output_type": "execute_result"
    }
   ],
   "source": [
    "# Calculate the average CTR for Variant A\n",
    "varA_avg_ctr = dt[dt['Variant'] == 'Variant A']['CTR'].mean()\n",
    "varA_avg_ctr"
   ]
  },
  {
   "cell_type": "code",
   "execution_count": 150,
   "metadata": {},
   "outputs": [
    {
     "data": {
      "text/plain": [
       "0.1089330399532712"
      ]
     },
     "execution_count": 150,
     "metadata": {},
     "output_type": "execute_result"
    }
   ],
   "source": [
    "# Calculate the average CTR for Variant B\n",
    "varB_avg_ctr = dt[dt['Variant'] == 'Variant B']['CTR'].mean()\n",
    "varB_avg_ctr"
   ]
  },
  {
   "attachments": {},
   "cell_type": "markdown",
   "metadata": {},
   "source": [
    "There is little difference between the two variants, but the average CTR of variant A is higher than that of variant B (0.120269 > 0.108933), which indicates that variant A is letting in a higher CTR."
   ]
  },
  {
   "cell_type": "code",
   "execution_count": 151,
   "metadata": {},
   "outputs": [
    {
     "data": {
      "text/plain": [
       "24.805547386576052"
      ]
     },
     "execution_count": 151,
     "metadata": {},
     "output_type": "execute_result"
    }
   ],
   "source": [
    "# Calculate the average Time Spent for Variant A\n",
    "varA_avg_time_spent = dt[dt['Variant'] == 'Variant A']['Time Spent'].mean()\n",
    "varA_avg_time_spent\n"
   ]
  },
  {
   "cell_type": "code",
   "execution_count": 152,
   "metadata": {},
   "outputs": [
    {
     "data": {
      "text/plain": [
       "23.343782979234575"
      ]
     },
     "execution_count": 152,
     "metadata": {},
     "output_type": "execute_result"
    }
   ],
   "source": [
    "# Calculate the average Time Spent for Variant B\n",
    "varB_avg_time_spent = dt[dt['Variant'] == 'Variant B']['Time Spent'].mean()\n",
    "varB_avg_time_spent"
   ]
  },
  {
   "attachments": {},
   "cell_type": "markdown",
   "metadata": {},
   "source": [
    "There is little difference between the two variants, but the average time spent of variant A is higher than that of variant B (24.805547 > 23.343783), which indicates that variant A is letting in a higher time spent."
   ]
  },
  {
   "attachments": {},
   "cell_type": "markdown",
   "metadata": {},
   "source": [
    "### Q2 Conduct statistical testing to determine if there is a statistically significant difference between the features and the control group."
   ]
  },
  {
   "cell_type": "code",
   "execution_count": 153,
   "metadata": {},
   "outputs": [
    {
     "data": {
      "text/html": [
       "<div>\n",
       "<style scoped>\n",
       "    .dataframe tbody tr th:only-of-type {\n",
       "        vertical-align: middle;\n",
       "    }\n",
       "\n",
       "    .dataframe tbody tr th {\n",
       "        vertical-align: top;\n",
       "    }\n",
       "\n",
       "    .dataframe thead th {\n",
       "        text-align: right;\n",
       "    }\n",
       "</style>\n",
       "<table border=\"1\" class=\"dataframe\">\n",
       "  <thead>\n",
       "    <tr style=\"text-align: right;\">\n",
       "      <th></th>\n",
       "      <th>Time Spent</th>\n",
       "      <th>CTR</th>\n",
       "    </tr>\n",
       "    <tr>\n",
       "      <th>Variant</th>\n",
       "      <th></th>\n",
       "      <th></th>\n",
       "    </tr>\n",
       "  </thead>\n",
       "  <tbody>\n",
       "    <tr>\n",
       "      <th>Control</th>\n",
       "      <td>20.070781</td>\n",
       "      <td>0.098554</td>\n",
       "    </tr>\n",
       "    <tr>\n",
       "      <th>Variant A</th>\n",
       "      <td>24.805547</td>\n",
       "      <td>0.120269</td>\n",
       "    </tr>\n",
       "    <tr>\n",
       "      <th>Variant B</th>\n",
       "      <td>23.343783</td>\n",
       "      <td>0.108933</td>\n",
       "    </tr>\n",
       "  </tbody>\n",
       "</table>\n",
       "</div>"
      ],
      "text/plain": [
       "           Time Spent       CTR\n",
       "Variant                        \n",
       "Control     20.070781  0.098554\n",
       "Variant A   24.805547  0.120269\n",
       "Variant B   23.343783  0.108933"
      ]
     },
     "execution_count": 153,
     "metadata": {},
     "output_type": "execute_result"
    }
   ],
   "source": [
    "# figure out which variant is better by the mean from time spent and CTR\n",
    "# why Variant A is better than Variant B? \n",
    "# Because the mean of time spent and CTR of Variant A are both higher than Variant B.\n",
    "\n",
    "# mean values for each group\n",
    "dt.groupby('Variant')[['Time Spent','CTR']].mean()"
   ]
  },
  {
   "attachments": {},
   "cell_type": "markdown",
   "metadata": {},
   "source": [
    "## Checking Time Spent"
   ]
  },
  {
   "cell_type": "code",
   "execution_count": 154,
   "metadata": {},
   "outputs": [],
   "source": [
    "#Get the avg time spent data for the variant A and name it var_A_time_spent\n",
    "var_A_time_spent = dt[dt['Variant']=='Variant A']['Time Spent']\n",
    "\n",
    "#Get the avg time spent data for the variant B and name it var_B_time_spent\n",
    "var_B_time_spent = dt[dt['Variant']=='Variant B']['Time Spent']\n",
    "\n",
    "# Get the avg time spent data for the control group and name it control_group_time_spent\n",
    "control_group_time_spent = dt[dt['Variant']=='Control']['Time Spent']"
   ]
  },
  {
   "attachments": {},
   "cell_type": "markdown",
   "metadata": {},
   "source": [
    "## T-test (Time Spent)\n",
    "\n",
    "Compare Variant A & control group:\n",
    "\n",
    "H0 : The mean of time spent for Variant A = the mean of time spent for the control group.\n",
    "\n",
    "H1 : The mean of time spent for Variant A ≠ to the mean of time spent for the control group.\n"
   ]
  },
  {
   "cell_type": "code",
   "execution_count": 163,
   "metadata": {},
   "outputs": [
    {
     "name": "stdout",
     "output_type": "stream",
     "text": [
      "T-statistic: 12.14236\n",
      "P-value: 0.00000\n"
     ]
    }
   ],
   "source": [
    "# use t-test to compare the time spent between variant A and control group\n",
    "# H0: The difference in time spent is not significant between variant A and control group.\n",
    "# H1: The difference in time spent is significant between variant A and control group.\n",
    "t_stat_A, p_val_A = stats.ttest_ind(var_A_time_spent, control_group_time_spent)\n",
    "\n",
    "print(f\"T-statistic: {t_stat_A:.5f}\")\n",
    "print(f\"P-value: {p_val_A:.5f}\")"
   ]
  },
  {
   "attachments": {},
   "cell_type": "markdown",
   "metadata": {},
   "source": [
    "The T-statistic of 12.14236 and the p-value of 0.00000 indicate a significant difference in the mean time spent between Variant A and the control group.(Reject H0, and conclude H1)"
   ]
  },
  {
   "attachments": {},
   "cell_type": "markdown",
   "metadata": {},
   "source": [
    "Compare Variant B & control group:\n",
    "\n",
    "H0 : The mean of time spent for Variant B = the mean of time spent for the control group.\n",
    "\n",
    "H1 : The mean of time spent for Variant B ≠ to the mean of time spent for the control group."
   ]
  },
  {
   "cell_type": "code",
   "execution_count": null,
   "metadata": {},
   "outputs": [
    {
     "name": "stdout",
     "output_type": "stream",
     "text": [
      "T-statistic: 8.17424\n",
      "P-value: 0.00000\n"
     ]
    }
   ],
   "source": [
    "# use t-test to compare the time spent between variant B and control group\n",
    "# H0: The difference in time spent is not significant between variant B and control group.\n",
    "# H1: The difference in time spent is significant between variant B and control group.\n",
    "t_stat_B, p_val_B = stats.ttest_ind(var_B_time_spent, control_group_time_spent)\n",
    "\n",
    "print(f\"T-statistic: {t_stat_B:.5f}\")\n",
    "print(f\"P-value: {p_val_B:.5f}\")"
   ]
  },
  {
   "attachments": {},
   "cell_type": "markdown",
   "metadata": {},
   "source": [
    "The T-statistic of 8.17424 and the p-value of 0.00000 suggest a significant difference in the mean time spent between Variant B and the control group.(Reject H0, and conclude H1)"
   ]
  },
  {
   "attachments": {},
   "cell_type": "markdown",
   "metadata": {},
   "source": [
    "Compare Variant A & Variant B:\n",
    "\n",
    "H0 : The mean of time spent for Variant A = the mean of time spent for Variant B.\n",
    "\n",
    "H1 : The mean of time spent for Variant A ≠ to the mean of time spent for Variant B."
   ]
  },
  {
   "cell_type": "code",
   "execution_count": null,
   "metadata": {},
   "outputs": [
    {
     "name": "stdout",
     "output_type": "stream",
     "text": [
      "T-statistic: 3.67882\n",
      "P-value: 0.00025\n"
     ]
    }
   ],
   "source": [
    "t_stat_C, p_val_C = stats.ttest_ind(var_A_time_spent, var_B_time_spent)\n",
    "\n",
    "print(f\"T-statistic: {t_stat_C:.5f}\")\n",
    "print(f\"P-value: {p_val_C:.5f}\")"
   ]
  },
  {
   "attachments": {},
   "cell_type": "markdown",
   "metadata": {},
   "source": [
    "There is also a significant difference in mean time spent between Variant A and Variant B, with a T-statistic of 3.67882 and a small p-value of 0.00025.(Reject H0, and conclude H1)"
   ]
  },
  {
   "attachments": {},
   "cell_type": "markdown",
   "metadata": {},
   "source": [
    "## Checking CTR"
   ]
  },
  {
   "cell_type": "code",
   "execution_count": null,
   "metadata": {},
   "outputs": [],
   "source": [
    "var_A_ctr = dt[dt['Variant']=='Variant A']['CTR']\n",
    "var_B_ctr = dt[dt['Variant']=='Variant B']['CTR']\n",
    "control_group_ctr = dt[dt['Variant']=='Control']['CTR']"
   ]
  },
  {
   "attachments": {},
   "cell_type": "markdown",
   "metadata": {},
   "source": [
    "## T-test (CTR)\n",
    "Compare Variant A & control group:\n",
    "\n",
    "H0 : The mean of CTR for Variant A = the mean of CTR for the control group.\n",
    "\n",
    "H1 : The mean of CTR for Variant A ≠ to the mean of CTR for the control group."
   ]
  },
  {
   "cell_type": "code",
   "execution_count": null,
   "metadata": {},
   "outputs": [
    {
     "name": "stdout",
     "output_type": "stream",
     "text": [
      "T-statistic: 13.82942\n",
      "P-value: 0.00000\n"
     ]
    }
   ],
   "source": [
    "# t-test between control group and Variant A\n",
    "t_stat_A, p_val_A = stats.ttest_ind(var_A_ctr, control_group_ctr)\n",
    "\n",
    "print(f\"T-statistic: {t_stat_A:.5f}\")\n",
    "print(f\"P-value: {p_val_A:.5f}\")"
   ]
  },
  {
   "attachments": {},
   "cell_type": "markdown",
   "metadata": {},
   "source": [
    "The T-statistic of 13.82942 and the p-value of 0.00000 suggest a significant difference in the mean CTR between Variant A and the control group. (Reject H0, and conclude H1)"
   ]
  },
  {
   "attachments": {},
   "cell_type": "markdown",
   "metadata": {},
   "source": [
    "Compare Variant B & control group:\n",
    "\n",
    "H0 : The mean of CTR for Variant B  = the mean of CTR for the control group.\n",
    "\n",
    "H1 : The mean of CTR for Variant B ≠ the mean of CTR for the control group."
   ]
  },
  {
   "cell_type": "code",
   "execution_count": null,
   "metadata": {},
   "outputs": [
    {
     "name": "stdout",
     "output_type": "stream",
     "text": [
      "T-statistic: 6.47181\n",
      "P-value: 0.00000\n"
     ]
    }
   ],
   "source": [
    "# t-test between control group and Variant B\n",
    "t_stat_B, p_val_B = stats.ttest_ind(var_B_ctr, control_group_ctr)\n",
    "\n",
    "print(f\"T-statistic: {t_stat_B:.5f}\")\n",
    "print(f\"P-value: {p_val_B:.5f}\")"
   ]
  },
  {
   "attachments": {},
   "cell_type": "markdown",
   "metadata": {},
   "source": [
    "The T-statistic of 6.47181 and the p-value of 0.00000 indicate a significant difference in the mean CTR between Variant B and the control group.(Reject H0, and conclude H1)"
   ]
  },
  {
   "attachments": {},
   "cell_type": "markdown",
   "metadata": {},
   "source": [
    "Compare Variant A & Variant B:\n",
    "\n",
    "H0 : The mean of CTR for Variant A = the mean of CTR for Variant B.\n",
    "\n",
    "H1 : The mean of CTR for Variant A ≠ the mean of CTR for Variant B."
   ]
  },
  {
   "cell_type": "code",
   "execution_count": null,
   "metadata": {},
   "outputs": [
    {
     "name": "stdout",
     "output_type": "stream",
     "text": [
      "T-statistic: 7.08500\n",
      "P-value: 0.00000\n"
     ]
    }
   ],
   "source": [
    "# t-test between Variant A and Variant B\n",
    "t_stat_C, p_val_C = stats.ttest_ind(var_A_ctr, var_B_ctr)\n",
    "\n",
    "print(f\"T-statistic: {t_stat_C:.5f}\")\n",
    "print(f\"P-value: {p_val_C:.5f}\")"
   ]
  },
  {
   "attachments": {},
   "cell_type": "markdown",
   "metadata": {},
   "source": [
    "There is also a significant difference in mean CTR between Variant A and Variant B, with a T-statistic of 7.08500 and a p-value close to 0.(Reject Ho, and conclude H1)"
   ]
  },
  {
   "attachments": {},
   "cell_type": "markdown",
   "metadata": {},
   "source": [
    "## ANOVA test"
   ]
  },
  {
   "attachments": {},
   "cell_type": "markdown",
   "metadata": {},
   "source": [
    "H0: There is no significant difference among the variants.\n",
    "\n",
    "H1: There is significant differences among the variants."
   ]
  },
  {
   "cell_type": "code",
   "execution_count": null,
   "metadata": {},
   "outputs": [
    {
     "name": "stdout",
     "output_type": "stream",
     "text": [
      "F-statistic: 75.6084\n",
      "p-value: 0.0000\n"
     ]
    }
   ],
   "source": [
    "# checking time spend\n",
    "var_A_time_spent = dt[dt['Variant']=='Variant A']['Time Spent']\n",
    "var_B_time_spent = dt[dt['Variant']=='Variant B']['Time Spent']\n",
    "control_group_time_spent = dt[dt['Variant']=='Control']['Time Spent']\n",
    "\n",
    "F_stats,p_val = stats.f_oneway(var_A_time_spent, var_B_time_spent, control_group_time_spent)\n",
    "print(\"F-statistic: {:.4f}\".format(F_stats))\n",
    "print(\"p-value: {:.4f}\".format(p_val))\n",
    "\n"
   ]
  },
  {
   "attachments": {},
   "cell_type": "markdown",
   "metadata": {},
   "source": [
    "The F-statistic of 75.6084 and the p-value of 0.0000 for time spent indicate a significant difference in the means among the different variants.(Reject H0, and conclude H1)"
   ]
  },
  {
   "attachments": {},
   "cell_type": "markdown",
   "metadata": {},
   "source": [
    "H0: There is no significant difference among the variants.\n",
    "\n",
    "H1: There is significant differences among the variants."
   ]
  },
  {
   "cell_type": "code",
   "execution_count": null,
   "metadata": {},
   "outputs": [
    {
     "name": "stdout",
     "output_type": "stream",
     "text": [
      "F-statistic: 93.5889\n",
      "p-value: 0.0000\n"
     ]
    }
   ],
   "source": [
    "# checking CTR\n",
    "var_A_ctr = dt[dt['Variant']=='Variant A']['CTR']\n",
    "var_B_ctr = dt[dt['Variant']=='Variant B']['CTR']\n",
    "control_group_ctr = dt[dt['Variant']=='Control']['CTR']\n",
    "\n",
    "F_stats,p_val = stats.f_oneway(var_A_ctr,var_B_ctr,control_group_ctr)\n",
    "print(\"F-statistic: {:.4f}\".format(F_stats))\n",
    "print(\"p-value: {:.4f}\".format(p_val))"
   ]
  },
  {
   "attachments": {},
   "cell_type": "markdown",
   "metadata": {},
   "source": [
    "The F-statistic of 93.5889 and the p-value of 0.0000 for CTR suggest a significant difference in the means among the different variants.(Reject H0, and conclude H1)"
   ]
  },
  {
   "attachments": {},
   "cell_type": "markdown",
   "metadata": {},
   "source": [
    "### Q3 Summarize your results. Make a recommendation to the engineering team about which feature to deploy. \n",
    "\n",
    "\n",
    "\n",
    "\n"
   ]
  },
  {
   "attachments": {},
   "cell_type": "markdown",
   "metadata": {},
   "source": [
    "Based on the analysis of the dataset, there were no significant differences in the average time spent and click-through rates across locations (Location 1, Location 2 and Location 3), as indicated by the high p-values obtained from the one-way ANOVA tests. Likewise, the analysis of time spent and click-through rates for the different devices (Device1, Device2 and Device3) did not reveal any significant differences.\n",
    "\n",
    "Based on the analysis performed, we compared the performance of three different variants: variant A, variant B and the control group. The metrics examined were the average time spent and the click-through rate (CTR).\n",
    "\n",
    "When comparing the performance of both variant A and variant B with the control, it is clear that both variants outperform the control in terms of time spent and click-through rate, as indicated by the significantly lower p-values obtained from the t-test. These results suggest that deploying either variant A or variant B may increase user engagement and interaction compared to the control.\n",
    "\n",
    "When directly comparing variant A and variant B, we find significant differences in both time spent and click-through rates. The t-statistic for time spent is 3.67882, while the CTR is 7.08500. These results indicate a significant performance difference between the two variants.\n",
    "\n",
    "The ANOVA test provides additional support for our conclusions. For time spent, the F-statistic is 75.6084, while for click-through rate, it is 93.5889. These values indicate a significant difference in the mean values between the two variants of the metric.\n",
    "\n",
    "In summary, both variant A and variant B outperform the control group in terms of time spent and click-through rate. Deploying either variant is likely to increase user engagement and interaction. \n",
    "\n",
    "However, compared to variant B, variant A showed higher t-statistics and lower p-values, indicating stronger evidence of superiority in terms of time spent and click-through rate, so I recommend that engineering teams deploy variant A."
   ]
  },
  {
   "attachments": {},
   "cell_type": "markdown",
   "metadata": {},
   "source": [
    "### Q4 Create a roll-out plan. How quickly will you introduce the feature to your audience?"
   ]
  },
  {
   "attachments": {},
   "cell_type": "markdown",
   "metadata": {},
   "source": [
    "The rollout plan needs to ensure a smooth transition and minimize potential risks and disruptions. Regular communication with the development team, stakeholders and audiences is critical throughout the rollout process, and the rollout plan can include a phased implementation strategy that\n",
    "\n",
    "5%: Start with a small target group, gather initial feedback and evaluate impact. Continue for a specified duration, usually one week. This initial phase will be used as a pilot test to gather initial feedback and assess the impact on key metrics such as CTR (click-through rate) and time spent.\n",
    "\n",
    "10%-25%-50%: If the initial phase is successful, the application can be gradually rolled out to a larger audience, carefully monitoring key performance metrics and user feedback, and continuing to expand the usability of the feature to a larger audience over the next few weeks, an iterative process that allows for adjustments and optimizations to improve the user experience and maximize the utility of the feature.\n",
    "\n",
    "Continue to incrementally increase the rollout coverage to reach a larger percentage of the audience based on the performance observed in the previous phases. This may involve rolling out the feature to 75% of the audience over a period of time, followed by a final phase of making the feature available to 100% of the audience.\n",
    "\n",
    "However, before considering full deployment to 100% of the audience, it is important to carefully analyze the data and feedback at each stage to ensure that the feature meets the desired goals and expectations.\n",
    "\n",
    "Throughout the rollout process, key metrics such as CTR and Time Spent are closely monitored to assess the impact of the feature on user engagement. Compare these metrics between different rollout phases to identify any changes or trends. It is important to establish clear benchmarks and performance goals to evaluate the success of each phase and make data-driven decisions for further expansion. The speed of deployment should be determined by factors such as complexity of functionality, technical feasibility, and resource availability."
   ]
  }
 ],
 "metadata": {
  "kernelspec": {
   "display_name": "base",
   "language": "python",
   "name": "python3"
  },
  "language_info": {
   "codemirror_mode": {
    "name": "ipython",
    "version": 3
   },
   "file_extension": ".py",
   "mimetype": "text/x-python",
   "name": "python",
   "nbconvert_exporter": "python",
   "pygments_lexer": "ipython3",
   "version": "3.10.9"
  },
  "orig_nbformat": 4
 },
 "nbformat": 4,
 "nbformat_minor": 2
}
