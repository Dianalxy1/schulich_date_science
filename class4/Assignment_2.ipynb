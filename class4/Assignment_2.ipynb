{
 "cells": [
  {
   "cell_type": "code",
   "execution_count": 44,
   "metadata": {},
   "outputs": [
    {
     "data": {
      "text/html": [
       "<div>\n",
       "<style scoped>\n",
       "    .dataframe tbody tr th:only-of-type {\n",
       "        vertical-align: middle;\n",
       "    }\n",
       "\n",
       "    .dataframe tbody tr th {\n",
       "        vertical-align: top;\n",
       "    }\n",
       "\n",
       "    .dataframe thead th {\n",
       "        text-align: right;\n",
       "    }\n",
       "</style>\n",
       "<table border=\"1\" class=\"dataframe\">\n",
       "  <thead>\n",
       "    <tr style=\"text-align: right;\">\n",
       "      <th></th>\n",
       "      <th>Unnamed: 0</th>\n",
       "      <th>Age</th>\n",
       "      <th>Location</th>\n",
       "      <th>Device</th>\n",
       "      <th>Variant</th>\n",
       "      <th>Time Spent</th>\n",
       "      <th>CTR</th>\n",
       "    </tr>\n",
       "  </thead>\n",
       "  <tbody>\n",
       "    <tr>\n",
       "      <th>0</th>\n",
       "      <td>0</td>\n",
       "      <td>62</td>\n",
       "      <td>Location2</td>\n",
       "      <td>Device2</td>\n",
       "      <td>Control</td>\n",
       "      <td>13.928669</td>\n",
       "      <td>0.084776</td>\n",
       "    </tr>\n",
       "    <tr>\n",
       "      <th>1</th>\n",
       "      <td>1</td>\n",
       "      <td>18</td>\n",
       "      <td>Location1</td>\n",
       "      <td>Device1</td>\n",
       "      <td>Variant B</td>\n",
       "      <td>11.310518</td>\n",
       "      <td>0.096859</td>\n",
       "    </tr>\n",
       "    <tr>\n",
       "      <th>2</th>\n",
       "      <td>2</td>\n",
       "      <td>21</td>\n",
       "      <td>Location2</td>\n",
       "      <td>Device1</td>\n",
       "      <td>Variant B</td>\n",
       "      <td>24.842100</td>\n",
       "      <td>0.097630</td>\n",
       "    </tr>\n",
       "    <tr>\n",
       "      <th>3</th>\n",
       "      <td>3</td>\n",
       "      <td>21</td>\n",
       "      <td>Location1</td>\n",
       "      <td>Device3</td>\n",
       "      <td>Variant B</td>\n",
       "      <td>20.061300</td>\n",
       "      <td>0.109783</td>\n",
       "    </tr>\n",
       "    <tr>\n",
       "      <th>4</th>\n",
       "      <td>4</td>\n",
       "      <td>57</td>\n",
       "      <td>Location1</td>\n",
       "      <td>Device2</td>\n",
       "      <td>Variant B</td>\n",
       "      <td>34.495503</td>\n",
       "      <td>0.068579</td>\n",
       "    </tr>\n",
       "    <tr>\n",
       "      <th>5</th>\n",
       "      <td>5</td>\n",
       "      <td>27</td>\n",
       "      <td>Location3</td>\n",
       "      <td>Device1</td>\n",
       "      <td>Variant B</td>\n",
       "      <td>26.129246</td>\n",
       "      <td>0.149341</td>\n",
       "    </tr>\n",
       "    <tr>\n",
       "      <th>6</th>\n",
       "      <td>6</td>\n",
       "      <td>37</td>\n",
       "      <td>Location3</td>\n",
       "      <td>Device3</td>\n",
       "      <td>Variant B</td>\n",
       "      <td>20.525362</td>\n",
       "      <td>0.095788</td>\n",
       "    </tr>\n",
       "    <tr>\n",
       "      <th>7</th>\n",
       "      <td>7</td>\n",
       "      <td>39</td>\n",
       "      <td>Location2</td>\n",
       "      <td>Device1</td>\n",
       "      <td>Variant A</td>\n",
       "      <td>21.525217</td>\n",
       "      <td>0.149985</td>\n",
       "    </tr>\n",
       "    <tr>\n",
       "      <th>8</th>\n",
       "      <td>8</td>\n",
       "      <td>54</td>\n",
       "      <td>Location3</td>\n",
       "      <td>Device2</td>\n",
       "      <td>Control</td>\n",
       "      <td>21.910608</td>\n",
       "      <td>0.135535</td>\n",
       "    </tr>\n",
       "    <tr>\n",
       "      <th>9</th>\n",
       "      <td>9</td>\n",
       "      <td>41</td>\n",
       "      <td>Location1</td>\n",
       "      <td>Device2</td>\n",
       "      <td>Variant A</td>\n",
       "      <td>27.642788</td>\n",
       "      <td>0.137266</td>\n",
       "    </tr>\n",
       "  </tbody>\n",
       "</table>\n",
       "</div>"
      ],
      "text/plain": [
       "   Unnamed: 0  Age   Location   Device    Variant  Time Spent       CTR\n",
       "0           0   62  Location2  Device2    Control   13.928669  0.084776\n",
       "1           1   18  Location1  Device1  Variant B   11.310518  0.096859\n",
       "2           2   21  Location2  Device1  Variant B   24.842100  0.097630\n",
       "3           3   21  Location1  Device3  Variant B   20.061300  0.109783\n",
       "4           4   57  Location1  Device2  Variant B   34.495503  0.068579\n",
       "5           5   27  Location3  Device1  Variant B   26.129246  0.149341\n",
       "6           6   37  Location3  Device3  Variant B   20.525362  0.095788\n",
       "7           7   39  Location2  Device1  Variant A   21.525217  0.149985\n",
       "8           8   54  Location3  Device2    Control   21.910608  0.135535\n",
       "9           9   41  Location1  Device2  Variant A   27.642788  0.137266"
      ]
     },
     "execution_count": 44,
     "metadata": {},
     "output_type": "execute_result"
    }
   ],
   "source": [
    "import numpy as np\n",
    "import pandas as pd\n",
    "from scipy import stats\n",
    "import seaborn as sns\n",
    "\n",
    "dt=pd.read_csv('/Users/xinyuanliang/Desktop/experiment_dataset.csv')\n",
    "dt.head(10)"
   ]
  },
  {
   "attachments": {},
   "cell_type": "markdown",
   "metadata": {},
   "source": [
    "### Data Cleaning"
   ]
  },
  {
   "cell_type": "code",
   "execution_count": 45,
   "metadata": {},
   "outputs": [
    {
     "data": {
      "text/html": [
       "<div>\n",
       "<style scoped>\n",
       "    .dataframe tbody tr th:only-of-type {\n",
       "        vertical-align: middle;\n",
       "    }\n",
       "\n",
       "    .dataframe tbody tr th {\n",
       "        vertical-align: top;\n",
       "    }\n",
       "\n",
       "    .dataframe thead th {\n",
       "        text-align: right;\n",
       "    }\n",
       "</style>\n",
       "<table border=\"1\" class=\"dataframe\">\n",
       "  <thead>\n",
       "    <tr style=\"text-align: right;\">\n",
       "      <th></th>\n",
       "      <th>Age</th>\n",
       "      <th>Location</th>\n",
       "      <th>Device</th>\n",
       "      <th>Variant</th>\n",
       "      <th>Time Spent</th>\n",
       "      <th>CTR</th>\n",
       "    </tr>\n",
       "  </thead>\n",
       "  <tbody>\n",
       "    <tr>\n",
       "      <th>0</th>\n",
       "      <td>62</td>\n",
       "      <td>Location2</td>\n",
       "      <td>Device2</td>\n",
       "      <td>Control</td>\n",
       "      <td>13.928669</td>\n",
       "      <td>0.084776</td>\n",
       "    </tr>\n",
       "    <tr>\n",
       "      <th>1</th>\n",
       "      <td>18</td>\n",
       "      <td>Location1</td>\n",
       "      <td>Device1</td>\n",
       "      <td>Variant B</td>\n",
       "      <td>11.310518</td>\n",
       "      <td>0.096859</td>\n",
       "    </tr>\n",
       "    <tr>\n",
       "      <th>2</th>\n",
       "      <td>21</td>\n",
       "      <td>Location2</td>\n",
       "      <td>Device1</td>\n",
       "      <td>Variant B</td>\n",
       "      <td>24.842100</td>\n",
       "      <td>0.097630</td>\n",
       "    </tr>\n",
       "    <tr>\n",
       "      <th>3</th>\n",
       "      <td>21</td>\n",
       "      <td>Location1</td>\n",
       "      <td>Device3</td>\n",
       "      <td>Variant B</td>\n",
       "      <td>20.061300</td>\n",
       "      <td>0.109783</td>\n",
       "    </tr>\n",
       "    <tr>\n",
       "      <th>4</th>\n",
       "      <td>57</td>\n",
       "      <td>Location1</td>\n",
       "      <td>Device2</td>\n",
       "      <td>Variant B</td>\n",
       "      <td>34.495503</td>\n",
       "      <td>0.068579</td>\n",
       "    </tr>\n",
       "    <tr>\n",
       "      <th>5</th>\n",
       "      <td>27</td>\n",
       "      <td>Location3</td>\n",
       "      <td>Device1</td>\n",
       "      <td>Variant B</td>\n",
       "      <td>26.129246</td>\n",
       "      <td>0.149341</td>\n",
       "    </tr>\n",
       "    <tr>\n",
       "      <th>6</th>\n",
       "      <td>37</td>\n",
       "      <td>Location3</td>\n",
       "      <td>Device3</td>\n",
       "      <td>Variant B</td>\n",
       "      <td>20.525362</td>\n",
       "      <td>0.095788</td>\n",
       "    </tr>\n",
       "    <tr>\n",
       "      <th>7</th>\n",
       "      <td>39</td>\n",
       "      <td>Location2</td>\n",
       "      <td>Device1</td>\n",
       "      <td>Variant A</td>\n",
       "      <td>21.525217</td>\n",
       "      <td>0.149985</td>\n",
       "    </tr>\n",
       "    <tr>\n",
       "      <th>8</th>\n",
       "      <td>54</td>\n",
       "      <td>Location3</td>\n",
       "      <td>Device2</td>\n",
       "      <td>Control</td>\n",
       "      <td>21.910608</td>\n",
       "      <td>0.135535</td>\n",
       "    </tr>\n",
       "    <tr>\n",
       "      <th>9</th>\n",
       "      <td>41</td>\n",
       "      <td>Location1</td>\n",
       "      <td>Device2</td>\n",
       "      <td>Variant A</td>\n",
       "      <td>27.642788</td>\n",
       "      <td>0.137266</td>\n",
       "    </tr>\n",
       "  </tbody>\n",
       "</table>\n",
       "</div>"
      ],
      "text/plain": [
       "   Age   Location   Device    Variant  Time Spent       CTR\n",
       "0   62  Location2  Device2    Control   13.928669  0.084776\n",
       "1   18  Location1  Device1  Variant B   11.310518  0.096859\n",
       "2   21  Location2  Device1  Variant B   24.842100  0.097630\n",
       "3   21  Location1  Device3  Variant B   20.061300  0.109783\n",
       "4   57  Location1  Device2  Variant B   34.495503  0.068579\n",
       "5   27  Location3  Device1  Variant B   26.129246  0.149341\n",
       "6   37  Location3  Device3  Variant B   20.525362  0.095788\n",
       "7   39  Location2  Device1  Variant A   21.525217  0.149985\n",
       "8   54  Location3  Device2    Control   21.910608  0.135535\n",
       "9   41  Location1  Device2  Variant A   27.642788  0.137266"
      ]
     },
     "execution_count": 45,
     "metadata": {},
     "output_type": "execute_result"
    }
   ],
   "source": [
    "# Remove the unnecessary column\n",
    "dt.drop('Unnamed: 0', axis=1, inplace = True)\n",
    "dt.head(10)"
   ]
  },
  {
   "cell_type": "code",
   "execution_count": 46,
   "metadata": {},
   "outputs": [
    {
     "name": "stdout",
     "output_type": "stream",
     "text": [
      "<class 'pandas.core.frame.DataFrame'>\n",
      "RangeIndex: 1000 entries, 0 to 999\n",
      "Data columns (total 6 columns):\n",
      " #   Column      Non-Null Count  Dtype  \n",
      "---  ------      --------------  -----  \n",
      " 0   Age         1000 non-null   int64  \n",
      " 1   Location    1000 non-null   object \n",
      " 2   Device      1000 non-null   object \n",
      " 3   Variant     1000 non-null   object \n",
      " 4   Time Spent  1000 non-null   float64\n",
      " 5   CTR         1000 non-null   float64\n",
      "dtypes: float64(2), int64(1), object(3)\n",
      "memory usage: 47.0+ KB\n"
     ]
    }
   ],
   "source": [
    "dt.info()"
   ]
  },
  {
   "cell_type": "code",
   "execution_count": 21,
   "metadata": {},
   "outputs": [
    {
     "data": {
      "text/plain": [
       "Age           0\n",
       "Location      0\n",
       "Device        0\n",
       "Variant       0\n",
       "Time Spent    0\n",
       "CTR           0\n",
       "dtype: int64"
      ]
     },
     "execution_count": 21,
     "metadata": {},
     "output_type": "execute_result"
    }
   ],
   "source": [
    "# Find missing values\n",
    "dt.isnull().sum()"
   ]
  },
  {
   "attachments": {},
   "cell_type": "markdown",
   "metadata": {},
   "source": [
    "### Q1 Analyze the results to determine which feature (if any) results in CTR or Time Spent lift."
   ]
  },
  {
   "attachments": {},
   "cell_type": "markdown",
   "metadata": {},
   "source": [
    "Users shouldn't have significant differences between the amounts of time spent and CTR to make sure the users are similar in behaviour. We should compare users by Location, Device and use statistical tests to support our analysis."
   ]
  },
  {
   "cell_type": "code",
   "execution_count": 22,
   "metadata": {},
   "outputs": [
    {
     "data": {
      "text/html": [
       "<div>\n",
       "<style scoped>\n",
       "    .dataframe tbody tr th:only-of-type {\n",
       "        vertical-align: middle;\n",
       "    }\n",
       "\n",
       "    .dataframe tbody tr th {\n",
       "        vertical-align: top;\n",
       "    }\n",
       "\n",
       "    .dataframe thead th {\n",
       "        text-align: right;\n",
       "    }\n",
       "</style>\n",
       "<table border=\"1\" class=\"dataframe\">\n",
       "  <thead>\n",
       "    <tr style=\"text-align: right;\">\n",
       "      <th></th>\n",
       "      <th>Time Spent</th>\n",
       "      <th>CTR</th>\n",
       "    </tr>\n",
       "    <tr>\n",
       "      <th>Location</th>\n",
       "      <th></th>\n",
       "      <th></th>\n",
       "    </tr>\n",
       "  </thead>\n",
       "  <tbody>\n",
       "    <tr>\n",
       "      <th>Location1</th>\n",
       "      <td>22.707286</td>\n",
       "      <td>0.110217</td>\n",
       "    </tr>\n",
       "    <tr>\n",
       "      <th>Location2</th>\n",
       "      <td>22.648998</td>\n",
       "      <td>0.108517</td>\n",
       "    </tr>\n",
       "    <tr>\n",
       "      <th>Location3</th>\n",
       "      <td>22.787691</td>\n",
       "      <td>0.108708</td>\n",
       "    </tr>\n",
       "  </tbody>\n",
       "</table>\n",
       "</div>"
      ],
      "text/plain": [
       "           Time Spent       CTR\n",
       "Location                       \n",
       "Location1   22.707286  0.110217\n",
       "Location2   22.648998  0.108517\n",
       "Location3   22.787691  0.108708"
      ]
     },
     "execution_count": 22,
     "metadata": {},
     "output_type": "execute_result"
    }
   ],
   "source": [
    "# By location\n",
    "dt.groupby('Location')[['Time Spent','CTR']].mean()"
   ]
  },
  {
   "cell_type": "code",
   "execution_count": 23,
   "metadata": {},
   "outputs": [
    {
     "name": "stdout",
     "output_type": "stream",
     "text": [
      "F_onewayResult(statistic=0.05357883967057365, pvalue=0.9478339402848069)\n"
     ]
    }
   ],
   "source": [
    "# checking time spent\n",
    "loc_1 = dt[dt['Location'] == 'Location1']['Time Spent']\n",
    "loc_2 = dt[dt['Location'] == 'Location2']['Time Spent']\n",
    "loc_3 = dt[dt['Location'] == 'Location3']['Time Spent']\n",
    "\n",
    "p_val = stats.f_oneway(loc_1, loc_2, loc_3)\n",
    "print(p_val)"
   ]
  },
  {
   "attachments": {},
   "cell_type": "markdown",
   "metadata": {},
   "source": [
    "The ANOVA test results suggest that there is no significant difference in the average time spent among different locations (p-value = 0.9478)."
   ]
  },
  {
   "cell_type": "code",
   "execution_count": 24,
   "metadata": {},
   "outputs": [
    {
     "name": "stdout",
     "output_type": "stream",
     "text": [
      "F_onewayResult(statistic=0.5792245145655729, pvalue=0.5605211716238133)\n"
     ]
    }
   ],
   "source": [
    "# checking CTR\n",
    "loc_1 = dt[dt['Location'] == 'Location1']['CTR']\n",
    "loc_2 = dt[dt['Location'] == 'Location2']['CTR']\n",
    "loc_3 = dt[dt['Location'] == 'Location3']['CTR']\n",
    "\n",
    "p_val = stats.f_oneway(loc_1, loc_2, loc_3)\n",
    "print(p_val)"
   ]
  },
  {
   "attachments": {},
   "cell_type": "markdown",
   "metadata": {},
   "source": [
    "The ANOVA test results indicate that there is no significant difference in the average CTR among different locations (p-value = 0.5605).\n"
   ]
  },
  {
   "cell_type": "code",
   "execution_count": 47,
   "metadata": {},
   "outputs": [
    {
     "data": {
      "text/html": [
       "<div>\n",
       "<style scoped>\n",
       "    .dataframe tbody tr th:only-of-type {\n",
       "        vertical-align: middle;\n",
       "    }\n",
       "\n",
       "    .dataframe tbody tr th {\n",
       "        vertical-align: top;\n",
       "    }\n",
       "\n",
       "    .dataframe thead th {\n",
       "        text-align: right;\n",
       "    }\n",
       "</style>\n",
       "<table border=\"1\" class=\"dataframe\">\n",
       "  <thead>\n",
       "    <tr style=\"text-align: right;\">\n",
       "      <th></th>\n",
       "      <th>Time Spent</th>\n",
       "      <th>CTR</th>\n",
       "    </tr>\n",
       "    <tr>\n",
       "      <th>Device</th>\n",
       "      <th></th>\n",
       "      <th></th>\n",
       "    </tr>\n",
       "  </thead>\n",
       "  <tbody>\n",
       "    <tr>\n",
       "      <th>Device1</th>\n",
       "      <td>22.635032</td>\n",
       "      <td>0.109634</td>\n",
       "    </tr>\n",
       "    <tr>\n",
       "      <th>Device2</th>\n",
       "      <td>22.890021</td>\n",
       "      <td>0.109868</td>\n",
       "    </tr>\n",
       "    <tr>\n",
       "      <th>Device3</th>\n",
       "      <td>22.612276</td>\n",
       "      <td>0.107993</td>\n",
       "    </tr>\n",
       "  </tbody>\n",
       "</table>\n",
       "</div>"
      ],
      "text/plain": [
       "         Time Spent       CTR\n",
       "Device                       \n",
       "Device1   22.635032  0.109634\n",
       "Device2   22.890021  0.109868\n",
       "Device3   22.612276  0.107993"
      ]
     },
     "execution_count": 47,
     "metadata": {},
     "output_type": "execute_result"
    }
   ],
   "source": [
    "# By device\n",
    "dt.groupby('Device')[['Time Spent', 'CTR']].mean()"
   ]
  },
  {
   "cell_type": "code",
   "execution_count": 25,
   "metadata": {},
   "outputs": [
    {
     "name": "stdout",
     "output_type": "stream",
     "text": [
      "F_onewayResult(statistic=0.2664537181183386, pvalue=0.7661459958744103)\n"
     ]
    }
   ],
   "source": [
    "# checking time spent\n",
    "device_1 = dt[dt['Device'] == 'Device1']['Time Spent']\n",
    "device_2 = dt[dt['Device'] == 'Device2']['Time Spent']\n",
    "device_3 = dt[dt['Device'] == 'Device3']['Time Spent']\n",
    "\n",
    "p_val = stats.f_oneway(device_1, device_2, device_3)\n",
    "print(p_val)"
   ]
  },
  {
   "attachments": {},
   "cell_type": "markdown",
   "metadata": {},
   "source": [
    "\n",
    "The ANOVA test results indicate that there is no significant difference in the average time spent among different locations (p-value = 0.7661)."
   ]
  },
  {
   "cell_type": "code",
   "execution_count": 26,
   "metadata": {},
   "outputs": [
    {
     "name": "stdout",
     "output_type": "stream",
     "text": [
      "F_onewayResult(statistic=0.7105872492654717, pvalue=0.4916042399968955)\n"
     ]
    }
   ],
   "source": [
    "# checking CTR\n",
    "device_1 = dt[dt['Device'] == 'Device1']['CTR']\n",
    "device_2 = dt[dt['Device'] == 'Device2']['CTR']\n",
    "device_3 = dt[dt['Device'] == 'Device3']['CTR']\n",
    "\n",
    "p_val = stats.f_oneway(device_1, device_2, device_3)\n",
    "print(p_val)"
   ]
  },
  {
   "attachments": {},
   "cell_type": "markdown",
   "metadata": {},
   "source": [
    "\n",
    "The ANOVA test results suggest that there is no significant difference in the average CTR among different locations (p-value = 0.4916)."
   ]
  },
  {
   "attachments": {},
   "cell_type": "markdown",
   "metadata": {},
   "source": [
    "### Calculate the average CTR & Time Spent for both Variant"
   ]
  },
  {
   "cell_type": "code",
   "execution_count": 27,
   "metadata": {},
   "outputs": [
    {
     "data": {
      "text/plain": [
       "0.12026949300288214"
      ]
     },
     "execution_count": 27,
     "metadata": {},
     "output_type": "execute_result"
    }
   ],
   "source": [
    "# Calculate the average CTR for Variant A\n",
    "varA_avg_ctr = dt[dt['Variant'] == 'Variant A']['CTR'].mean()\n",
    "varA_avg_ctr"
   ]
  },
  {
   "cell_type": "code",
   "execution_count": 28,
   "metadata": {},
   "outputs": [
    {
     "data": {
      "text/plain": [
       "0.1089330399532712"
      ]
     },
     "execution_count": 28,
     "metadata": {},
     "output_type": "execute_result"
    }
   ],
   "source": [
    "# Calculate the average CTR for Variant B\n",
    "varB_avg_ctr = dt[dt['Variant'] == 'Variant B']['CTR'].mean()\n",
    "varB_avg_ctr"
   ]
  },
  {
   "attachments": {},
   "cell_type": "markdown",
   "metadata": {},
   "source": [
    "There is little difference between the two variants, but the average CTR of variant A is higher than that of variant B (0.120269 > 0.108933), which indicates that variant A is letting in a higher CTR."
   ]
  },
  {
   "cell_type": "code",
   "execution_count": 29,
   "metadata": {},
   "outputs": [
    {
     "data": {
      "text/plain": [
       "24.805547386576052"
      ]
     },
     "execution_count": 29,
     "metadata": {},
     "output_type": "execute_result"
    }
   ],
   "source": [
    "# Calculate the average Time Spent for Variant A\n",
    "varA_avg_time_spent = dt[dt['Variant'] == 'Variant A']['Time Spent'].mean()\n",
    "varA_avg_time_spent\n"
   ]
  },
  {
   "cell_type": "code",
   "execution_count": 30,
   "metadata": {},
   "outputs": [
    {
     "data": {
      "text/plain": [
       "23.343782979234575"
      ]
     },
     "execution_count": 30,
     "metadata": {},
     "output_type": "execute_result"
    }
   ],
   "source": [
    "# Calculate the average Time Spent for Variant B\n",
    "varB_avg_time_spent = dt[dt['Variant'] == 'Variant B']['Time Spent'].mean()\n",
    "varB_avg_time_spent"
   ]
  },
  {
   "attachments": {},
   "cell_type": "markdown",
   "metadata": {},
   "source": [
    "There is little difference between the two variants, but the average time spent of variant A is higher than that of variant B (24.805547 > 23.343783), which indicates that variant A is letting in a higher time spent."
   ]
  },
  {
   "attachments": {},
   "cell_type": "markdown",
   "metadata": {},
   "source": [
    "### Q2 Conduct statistical testing to determine if there is a statistically significant difference between the features and the control group."
   ]
  },
  {
   "cell_type": "code",
   "execution_count": 49,
   "metadata": {},
   "outputs": [
    {
     "data": {
      "text/html": [
       "<div>\n",
       "<style scoped>\n",
       "    .dataframe tbody tr th:only-of-type {\n",
       "        vertical-align: middle;\n",
       "    }\n",
       "\n",
       "    .dataframe tbody tr th {\n",
       "        vertical-align: top;\n",
       "    }\n",
       "\n",
       "    .dataframe thead th {\n",
       "        text-align: right;\n",
       "    }\n",
       "</style>\n",
       "<table border=\"1\" class=\"dataframe\">\n",
       "  <thead>\n",
       "    <tr style=\"text-align: right;\">\n",
       "      <th></th>\n",
       "      <th>Time Spent</th>\n",
       "      <th>CTR</th>\n",
       "    </tr>\n",
       "    <tr>\n",
       "      <th>Variant</th>\n",
       "      <th></th>\n",
       "      <th></th>\n",
       "    </tr>\n",
       "  </thead>\n",
       "  <tbody>\n",
       "    <tr>\n",
       "      <th>Control</th>\n",
       "      <td>20.070781</td>\n",
       "      <td>0.098554</td>\n",
       "    </tr>\n",
       "    <tr>\n",
       "      <th>Variant A</th>\n",
       "      <td>24.805547</td>\n",
       "      <td>0.120269</td>\n",
       "    </tr>\n",
       "    <tr>\n",
       "      <th>Variant B</th>\n",
       "      <td>23.343783</td>\n",
       "      <td>0.108933</td>\n",
       "    </tr>\n",
       "  </tbody>\n",
       "</table>\n",
       "</div>"
      ],
      "text/plain": [
       "           Time Spent       CTR\n",
       "Variant                        \n",
       "Control     20.070781  0.098554\n",
       "Variant A   24.805547  0.120269\n",
       "Variant B   23.343783  0.108933"
      ]
     },
     "execution_count": 49,
     "metadata": {},
     "output_type": "execute_result"
    }
   ],
   "source": [
    "# mean values for each group\n",
    "dt.groupby('Variant')[['Time Spent','CTR']].mean()"
   ]
  },
  {
   "attachments": {},
   "cell_type": "markdown",
   "metadata": {},
   "source": [
    "## Checking Time Spent"
   ]
  },
  {
   "cell_type": "code",
   "execution_count": 31,
   "metadata": {},
   "outputs": [],
   "source": [
    "var_A_time_spent = dt[dt['Variant']=='Variant A']['Time Spent']\n",
    "var_B_time_spent = dt[dt['Variant']=='Variant B']['Time Spent']\n",
    "control_group_time_spent = dt[dt['Variant']=='Control']['Time Spent']"
   ]
  },
  {
   "attachments": {},
   "cell_type": "markdown",
   "metadata": {},
   "source": [
    "## T-test (Time Spent)\n",
    "\n",
    "Compare Variant A & control group:\n",
    "\n",
    "H0 : The mean of time spent for Variant A = the mean of time spent for the control group.\n",
    "\n",
    "H1 : The mean of time spent for Variant A ≠ to the mean of time spent for the control group.\n"
   ]
  },
  {
   "cell_type": "code",
   "execution_count": 32,
   "metadata": {},
   "outputs": [
    {
     "name": "stdout",
     "output_type": "stream",
     "text": [
      "T-statistic: 12.14236\n",
      "P-value: 0.00000\n"
     ]
    }
   ],
   "source": [
    "t_stat_A, p_val_A = stats.ttest_ind(var_A_time_spent, control_group_time_spent)\n",
    "\n",
    "print(f\"T-statistic: {t_stat_A:.5f}\")\n",
    "print(f\"P-value: {p_val_A:.5f}\")"
   ]
  },
  {
   "attachments": {},
   "cell_type": "markdown",
   "metadata": {},
   "source": [
    "The T-statistic of 12.14236 and the p-value of 0.00000 indicate a significant difference in the mean time spent between Variant A and the control group.(Reject H0, and conclude H1)"
   ]
  },
  {
   "attachments": {},
   "cell_type": "markdown",
   "metadata": {},
   "source": [
    "Compare Variant B & control group:\n",
    "\n",
    "H0 : The mean of time spent for Variant B = the mean of time spent for the control group.\n",
    "\n",
    "H1 : The mean of time spent for Variant B ≠ to the mean of time spent for the control group."
   ]
  },
  {
   "cell_type": "code",
   "execution_count": 33,
   "metadata": {},
   "outputs": [
    {
     "name": "stdout",
     "output_type": "stream",
     "text": [
      "T-statistic: 8.17424\n",
      "P-value: 0.00000\n"
     ]
    }
   ],
   "source": [
    "t_stat_B, p_val_B = stats.ttest_ind(var_B_time_spent, control_group_time_spent)\n",
    "\n",
    "print(f\"T-statistic: {t_stat_B:.5f}\")\n",
    "print(f\"P-value: {p_val_B:.5f}\")"
   ]
  },
  {
   "attachments": {},
   "cell_type": "markdown",
   "metadata": {},
   "source": [
    "The T-statistic of 8.17424 and the p-value of 0.00000 suggest a significant difference in the mean time spent between Variant B and the control group.(Reject H0, and conclude H1)"
   ]
  },
  {
   "attachments": {},
   "cell_type": "markdown",
   "metadata": {},
   "source": [
    "Compare Variant A & Variant B:\n",
    "\n",
    "H0 : The mean of time spent for Variant A = the mean of time spent for Variant B.\n",
    "\n",
    "H1 : The mean of time spent for Variant A ≠ to the mean of time spent for Variant A."
   ]
  },
  {
   "cell_type": "code",
   "execution_count": 34,
   "metadata": {},
   "outputs": [
    {
     "name": "stdout",
     "output_type": "stream",
     "text": [
      "T-statistic: 3.67882\n",
      "P-value: 0.00025\n"
     ]
    }
   ],
   "source": [
    "t_stat_C, p_val_C = stats.ttest_ind(var_A_time_spent, var_B_time_spent)\n",
    "\n",
    "print(f\"T-statistic: {t_stat_C:.5f}\")\n",
    "print(f\"P-value: {p_val_C:.5f}\")"
   ]
  },
  {
   "attachments": {},
   "cell_type": "markdown",
   "metadata": {},
   "source": [
    "There is also a significant difference in mean time spent between Variant A and Variant B, with a T-statistic of 3.67882 and a small p-value of 0.00025.(Reject H0, and conclude H1)"
   ]
  },
  {
   "attachments": {},
   "cell_type": "markdown",
   "metadata": {},
   "source": [
    "## Checking CTR"
   ]
  },
  {
   "cell_type": "code",
   "execution_count": 35,
   "metadata": {},
   "outputs": [],
   "source": [
    "var_A_ctr = dt[dt['Variant']=='Variant A']['CTR']\n",
    "var_B_ctr = dt[dt['Variant']=='Variant B']['CTR']\n",
    "control_group_ctr = dt[dt['Variant']=='Control']['CTR']"
   ]
  },
  {
   "attachments": {},
   "cell_type": "markdown",
   "metadata": {},
   "source": [
    "## T-test (CTR)\n",
    "Compare Variant A & control group:\n",
    "\n",
    "H0 : The mean of CTR for Variant A = the mean of CTR for the control group.\n",
    "\n",
    "H1 : The mean of CTR for Variant A ≠ to the mean of CTR for the control group."
   ]
  },
  {
   "cell_type": "code",
   "execution_count": 36,
   "metadata": {},
   "outputs": [
    {
     "name": "stdout",
     "output_type": "stream",
     "text": [
      "T-statistic: 13.82942\n",
      "P-value: 0.00000\n"
     ]
    }
   ],
   "source": [
    "# t-test between control group and Variant A\n",
    "t_stat_A, p_val_A = stats.ttest_ind(var_A_ctr, control_group_ctr)\n",
    "\n",
    "print(f\"T-statistic: {t_stat_A:.5f}\")\n",
    "print(f\"P-value: {p_val_A:.5f}\")"
   ]
  },
  {
   "attachments": {},
   "cell_type": "markdown",
   "metadata": {},
   "source": [
    "The T-statistic of 13.82942 and the p-value of 0.00000 suggest a significant difference in the mean CTR between Variant A and the control group. (Reject H0, and conclude H1)"
   ]
  },
  {
   "attachments": {},
   "cell_type": "markdown",
   "metadata": {},
   "source": [
    "Compare Variant B & control group:\n",
    "\n",
    "H0 : The mean of CTR for Variant B  = the mean of CTR for the control group.\n",
    "\n",
    "H1 : The mean of CTR for Variant B ≠ the mean of CTR for the control group."
   ]
  },
  {
   "cell_type": "code",
   "execution_count": 37,
   "metadata": {},
   "outputs": [
    {
     "name": "stdout",
     "output_type": "stream",
     "text": [
      "T-statistic: 6.47181\n",
      "P-value: 0.00000\n"
     ]
    }
   ],
   "source": [
    "# t-test between control group and Variant B\n",
    "t_stat_B, p_val_B = stats.ttest_ind(var_B_ctr, control_group_ctr)\n",
    "\n",
    "print(f\"T-statistic: {t_stat_B:.5f}\")\n",
    "print(f\"P-value: {p_val_B:.5f}\")"
   ]
  },
  {
   "attachments": {},
   "cell_type": "markdown",
   "metadata": {},
   "source": [
    "The T-statistic of 6.47181 and the p-value of 0.00000 indicate a significant difference in the mean CTR between Variant B and the control group.(Reject H0, and conclude H1)"
   ]
  },
  {
   "attachments": {},
   "cell_type": "markdown",
   "metadata": {},
   "source": [
    "Compare Variant A & Variant B:\n",
    "\n",
    "H0 : The mean of CTR for Variant A = the mean of CTR for Variant B.\n",
    "\n",
    "H1 : The mean of CTR for Variant B ≠ the mean of CTR for Variant B."
   ]
  },
  {
   "cell_type": "code",
   "execution_count": 38,
   "metadata": {},
   "outputs": [
    {
     "name": "stdout",
     "output_type": "stream",
     "text": [
      "T-statistic: 7.08500\n",
      "P-value: 0.00000\n"
     ]
    }
   ],
   "source": [
    "# t-test between Variant A and Variant B\n",
    "t_stat_C, p_val_C = stats.ttest_ind(var_A_ctr, var_B_ctr)\n",
    "\n",
    "print(f\"T-statistic: {t_stat_C:.5f}\")\n",
    "print(f\"P-value: {p_val_C:.5f}\")"
   ]
  },
  {
   "attachments": {},
   "cell_type": "markdown",
   "metadata": {},
   "source": [
    "There is also a significant difference in mean CTR between Variant A and Variant B, with a T-statistic of 7.08500 and a p-value close to 0.(Reject Ho, and conclude H1)"
   ]
  },
  {
   "attachments": {},
   "cell_type": "markdown",
   "metadata": {},
   "source": [
    "## ANOVA test"
   ]
  },
  {
   "attachments": {},
   "cell_type": "markdown",
   "metadata": {},
   "source": [
    "H0: There is no significant difference among the variants.\n",
    "\n",
    "H1: There is significant differences among the variants."
   ]
  },
  {
   "cell_type": "code",
   "execution_count": 39,
   "metadata": {},
   "outputs": [
    {
     "name": "stdout",
     "output_type": "stream",
     "text": [
      "F-statistic: 75.6084\n",
      "p-value: 0.0000\n"
     ]
    }
   ],
   "source": [
    "# checking time spend\n",
    "var_A_time_spent = dt[dt['Variant']=='Variant A']['Time Spent']\n",
    "var_B_time_spent = dt[dt['Variant']=='Variant B']['Time Spent']\n",
    "control_group_time_spent = dt[dt['Variant']=='Control']['Time Spent']\n",
    "\n",
    "F_stats,p_val = stats.f_oneway(var_A_time_spent, var_B_time_spent, control_group_time_spent)\n",
    "print(\"F-statistic: {:.4f}\".format(F_stats))\n",
    "print(\"p-value: {:.4f}\".format(p_val))\n",
    "\n"
   ]
  },
  {
   "attachments": {},
   "cell_type": "markdown",
   "metadata": {},
   "source": [
    "The F-statistic of 75.6084 and the p-value of 0.0000 for time spent indicate a significant difference in the means among the different variants.(Reject H0, and conclude H1)"
   ]
  },
  {
   "attachments": {},
   "cell_type": "markdown",
   "metadata": {},
   "source": [
    "H0: There is no significant difference among the variants.\n",
    "\n",
    "H1: There is significant differences among the variants."
   ]
  },
  {
   "cell_type": "code",
   "execution_count": 40,
   "metadata": {},
   "outputs": [
    {
     "name": "stdout",
     "output_type": "stream",
     "text": [
      "F-statistic: 93.5889\n",
      "p-value: 0.0000\n"
     ]
    }
   ],
   "source": [
    "# checking CTR\n",
    "var_A_ctr = dt[dt['Variant']=='Variant A']['CTR']\n",
    "var_B_ctr = dt[dt['Variant']=='Variant B']['CTR']\n",
    "control_group_ctr = dt[dt['Variant']=='Control']['CTR']\n",
    "\n",
    "F_stats,p_val = stats.f_oneway(var_A_ctr,var_B_ctr,control_group_ctr)\n",
    "print(\"F-statistic: {:.4f}\".format(F_stats))\n",
    "print(\"p-value: {:.4f}\".format(p_val))"
   ]
  },
  {
   "attachments": {},
   "cell_type": "markdown",
   "metadata": {},
   "source": [
    "The F-statistic of 93.5889 and the p-value of 0.0000 for CTR suggest a significant difference in the means among the different variants.(Reject H0, and conclude H1)"
   ]
  },
  {
   "attachments": {},
   "cell_type": "markdown",
   "metadata": {},
   "source": [
    "### Q3 Summarize your results. Make a recommendation to the engineering team about which feature to deploy. \n",
    "\n",
    "\n",
    "\n",
    "\n"
   ]
  },
  {
   "attachments": {},
   "cell_type": "markdown",
   "metadata": {},
   "source": [
    "Based on the analysis of the dataset, there were no significant differences in the average time spent and click-through rates across locations (Location 1, Location 2 and Location 3), as indicated by the high p-values obtained from the one-way ANOVA tests. Likewise, the analysis of time spent and click-through rates for the different devices (Device1, Device2 and Device3) did not reveal any significant differences.\n",
    "\n",
    "Based on the analysis performed, we compared the performance of three different variants: variant A, variant B and the control group. The metrics examined were the average time spent and the click-through rate (CTR).\n",
    "\n",
    "When comparing the performance of both variant A and variant B with the control, it is clear that both variants outperform the control in terms of time spent and click-through rate, as indicated by the significantly lower p-values obtained from the t-test. These results suggest that deploying either variant A or variant B may increase user engagement and interaction compared to the control.\n",
    "\n",
    "When directly comparing variant A and variant B, we find significant differences in both time spent and click-through rates. The t-statistic for time spent is 3.67882, while the CTR is 7.08500. These results indicate a significant performance difference between the two variants.\n",
    "\n",
    "The ANOVA test provides additional support for our conclusions. For time spent, the F-statistic is 75.6084, while for click-through rate, it is 93.5889. These values indicate a significant difference in the mean values between the two variants of the metric.\n",
    "\n",
    "In summary, both variant A and variant B outperform the control group in terms of time spent and click-through rate. Deploying either variant is likely to increase user engagement and interaction. \n",
    "\n",
    "However, compared to variant B, variant A showed higher t-statistics and lower p-values, indicating stronger evidence of superiority in terms of time spent and click-through rate, so I recommend that engineering teams deploy variant A."
   ]
  },
  {
   "attachments": {},
   "cell_type": "markdown",
   "metadata": {},
   "source": [
    "### Q4 Create a roll-out plan. How quickly will you introduce the feature to your audience?"
   ]
  },
  {
   "attachments": {},
   "cell_type": "markdown",
   "metadata": {},
   "source": [
    "The roll-out plan needs to ensure a smooth transition and minimize potential risks and disruptions. Regular communication with the development team, stakeholders and audiences throughout the rollout process is critical.\n",
    "\n",
    "The rollout plan can include a phased implementation strategy, starting with a small target group to gather initial feedback and evaluate impact. This initial phase helps validate statistical results and provides the opportunity to optimize functionality based on user response.\n",
    "\n",
    "If the initial phase is successful, the application can be gradually rolled out to a larger audience, carefully monitoring key performance indicators and user feedback. This iterative process allows for adjustments and optimizations to improve the user experience and maximize the utility of the functionality.\n",
    "\n",
    "Following a structured roll-out plan that includes ongoing monitoring, integration of feedback, and effective communication will ensure a positive user experience that maximizes the potential benefits to both the user and the business.The speed of deployment should be determined by factors such as complexity of functionality, technical feasibility and resource availability."
   ]
  }
 ],
 "metadata": {
  "kernelspec": {
   "display_name": "base",
   "language": "python",
   "name": "python3"
  },
  "language_info": {
   "codemirror_mode": {
    "name": "ipython",
    "version": 3
   },
   "file_extension": ".py",
   "mimetype": "text/x-python",
   "name": "python",
   "nbconvert_exporter": "python",
   "pygments_lexer": "ipython3",
   "version": "3.10.9"
  },
  "orig_nbformat": 4
 },
 "nbformat": 4,
 "nbformat_minor": 2
}
