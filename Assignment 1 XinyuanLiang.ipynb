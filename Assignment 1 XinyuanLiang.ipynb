{
  "cells": [
    {
      "attachments": {},
      "cell_type": "markdown",
      "metadata": {
        "id": "as5ZhHylqwRj"
      },
      "source": [
        "## MBAN 6110 T Assignment 1"
      ]
    },
    {
      "attachments": {},
      "cell_type": "markdown",
      "metadata": {},
      "source": [
        "## download the data"
      ]
    },
    {
      "cell_type": "code",
      "execution_count": 4,
      "metadata": {
        "id": "1GoGMFnMmnR5"
      },
      "outputs": [],
      "source": [
        "import csv\n",
        "import pandas as pd\n",
        "import numpy as np\n",
        "import matplotlib.pyplot as plt\n",
        "import seaborn as sns\n",
        "df=pd.read_csv(\"/Users/xinyuanliang/Desktop/MBAN 6110/sales_data.csv\")\n"
      ]
    },
    {
      "attachments": {},
      "cell_type": "markdown",
      "metadata": {
        "id": "TonOZKveq5BA"
      },
      "source": [
        "## data cleaning"
      ]
    },
    {
      "attachments": {},
      "cell_type": "markdown",
      "metadata": {
        "id": "AaB6xRBbHXUe"
      },
      "source": [
        "##### Describe your data cleaning approach. How and why did you decide on which cleaning techniques to use?"
      ]
    },
    {
      "attachments": {},
      "cell_type": "markdown",
      "metadata": {
        "id": "RpmEE1wEHxDS"
      },
      "source": [
        "There are five columns in total, namely, product, region, price, units sold and sale date. There are 1050 recodes, which only sale date column without nan values. The following are the ways and reasons dealing with nan values for each column.\n",
        "\n",
        "\n",
        "*   Product & Region: since there are product and region columns in nan values recording the sales details, which means it is possible that some products and regions may not included in the scope. Thus we fill these two columns in 'other'.\n",
        "*   Sale date: converting the data types into datetime in order to extract the time information further for the analysis.\n",
        "*   Units Sold: deleting the rows in nan values, since it is useless if there is no specific sale units in the sale record.\n",
        "*   Price: use the mean price grouped by product and region to fill the nan because the mean of the price could roughly get the final result of total sales (price * units sold)in one products of the specific region, which benefits the result.\n",
        "\n",
        "\n",
        "\n"
      ]
    },
    {
      "cell_type": "code",
      "execution_count": 5,
      "metadata": {
        "colab": {
          "base_uri": "https://localhost:8080/"
        },
        "id": "cmZNJAI0m4Ap",
        "outputId": "8123d0b1-7e98-46e4-dd0e-8aeef7a46036"
      },
      "outputs": [
        {
          "name": "stdout",
          "output_type": "stream",
          "text": [
            "<class 'pandas.core.frame.DataFrame'>\n",
            "RangeIndex: 1050 entries, 0 to 1049\n",
            "Data columns (total 5 columns):\n",
            " #   Column      Non-Null Count  Dtype  \n",
            "---  ------      --------------  -----  \n",
            " 0   Product     947 non-null    object \n",
            " 1   Region      942 non-null    object \n",
            " 2   Price       945 non-null    float64\n",
            " 3   Units Sold  943 non-null    float64\n",
            " 4   Sale Date   1050 non-null   object \n",
            "dtypes: float64(2), object(3)\n",
            "memory usage: 41.1+ KB\n"
          ]
        }
      ],
      "source": [
        "df.info()"
      ]
    },
    {
      "cell_type": "code",
      "execution_count": 6,
      "metadata": {
        "colab": {
          "base_uri": "https://localhost:8080/",
          "height": 394
        },
        "id": "E9zgnHGknE-F",
        "outputId": "a53acb11-f71c-4f5d-f5aa-8466eb4b6e78"
      },
      "outputs": [
        {
          "data": {
            "text/html": [
              "<div>\n",
              "<style scoped>\n",
              "    .dataframe tbody tr th:only-of-type {\n",
              "        vertical-align: middle;\n",
              "    }\n",
              "\n",
              "    .dataframe tbody tr th {\n",
              "        vertical-align: top;\n",
              "    }\n",
              "\n",
              "    .dataframe thead th {\n",
              "        text-align: right;\n",
              "    }\n",
              "</style>\n",
              "<table border=\"1\" class=\"dataframe\">\n",
              "  <thead>\n",
              "    <tr style=\"text-align: right;\">\n",
              "      <th></th>\n",
              "      <th>Product</th>\n",
              "      <th>Region</th>\n",
              "      <th>Price</th>\n",
              "      <th>Units Sold</th>\n",
              "      <th>Sale Date</th>\n",
              "    </tr>\n",
              "  </thead>\n",
              "  <tbody>\n",
              "    <tr>\n",
              "      <th>count</th>\n",
              "      <td>947</td>\n",
              "      <td>942</td>\n",
              "      <td>945.000000</td>\n",
              "      <td>943.000000</td>\n",
              "      <td>1050</td>\n",
              "    </tr>\n",
              "    <tr>\n",
              "      <th>unique</th>\n",
              "      <td>50</td>\n",
              "      <td>10</td>\n",
              "      <td>NaN</td>\n",
              "      <td>NaN</td>\n",
              "      <td>1000</td>\n",
              "    </tr>\n",
              "    <tr>\n",
              "      <th>top</th>\n",
              "      <td>Product_4</td>\n",
              "      <td>Region_5</td>\n",
              "      <td>NaN</td>\n",
              "      <td>NaN</td>\n",
              "      <td>2023-07-31</td>\n",
              "    </tr>\n",
              "    <tr>\n",
              "      <th>freq</th>\n",
              "      <td>30</td>\n",
              "      <td>112</td>\n",
              "      <td>NaN</td>\n",
              "      <td>NaN</td>\n",
              "      <td>2</td>\n",
              "    </tr>\n",
              "    <tr>\n",
              "      <th>mean</th>\n",
              "      <td>NaN</td>\n",
              "      <td>NaN</td>\n",
              "      <td>108.628011</td>\n",
              "      <td>10.200424</td>\n",
              "      <td>NaN</td>\n",
              "    </tr>\n",
              "    <tr>\n",
              "      <th>std</th>\n",
              "      <td>NaN</td>\n",
              "      <td>NaN</td>\n",
              "      <td>167.350086</td>\n",
              "      <td>3.247589</td>\n",
              "      <td>NaN</td>\n",
              "    </tr>\n",
              "    <tr>\n",
              "      <th>min</th>\n",
              "      <td>NaN</td>\n",
              "      <td>NaN</td>\n",
              "      <td>0.190000</td>\n",
              "      <td>2.000000</td>\n",
              "      <td>NaN</td>\n",
              "    </tr>\n",
              "    <tr>\n",
              "      <th>25%</th>\n",
              "      <td>NaN</td>\n",
              "      <td>NaN</td>\n",
              "      <td>26.420000</td>\n",
              "      <td>8.000000</td>\n",
              "      <td>NaN</td>\n",
              "    </tr>\n",
              "    <tr>\n",
              "      <th>50%</th>\n",
              "      <td>NaN</td>\n",
              "      <td>NaN</td>\n",
              "      <td>64.640000</td>\n",
              "      <td>10.000000</td>\n",
              "      <td>NaN</td>\n",
              "    </tr>\n",
              "    <tr>\n",
              "      <th>75%</th>\n",
              "      <td>NaN</td>\n",
              "      <td>NaN</td>\n",
              "      <td>142.310000</td>\n",
              "      <td>12.000000</td>\n",
              "      <td>NaN</td>\n",
              "    </tr>\n",
              "    <tr>\n",
              "      <th>max</th>\n",
              "      <td>NaN</td>\n",
              "      <td>NaN</td>\n",
              "      <td>2636.900000</td>\n",
              "      <td>22.000000</td>\n",
              "      <td>NaN</td>\n",
              "    </tr>\n",
              "  </tbody>\n",
              "</table>\n",
              "</div>"
            ],
            "text/plain": [
              "          Product    Region        Price  Units Sold   Sale Date\n",
              "count         947       942   945.000000  943.000000        1050\n",
              "unique         50        10          NaN         NaN        1000\n",
              "top     Product_4  Region_5          NaN         NaN  2023-07-31\n",
              "freq           30       112          NaN         NaN           2\n",
              "mean          NaN       NaN   108.628011   10.200424         NaN\n",
              "std           NaN       NaN   167.350086    3.247589         NaN\n",
              "min           NaN       NaN     0.190000    2.000000         NaN\n",
              "25%           NaN       NaN    26.420000    8.000000         NaN\n",
              "50%           NaN       NaN    64.640000   10.000000         NaN\n",
              "75%           NaN       NaN   142.310000   12.000000         NaN\n",
              "max           NaN       NaN  2636.900000   22.000000         NaN"
            ]
          },
          "execution_count": 6,
          "metadata": {},
          "output_type": "execute_result"
        }
      ],
      "source": [
        "df.describe(include='all')"
      ]
    },
    {
      "cell_type": "code",
      "execution_count": 7,
      "metadata": {
        "colab": {
          "base_uri": "https://localhost:8080/"
        },
        "id": "llY36nAvpeM8",
        "outputId": "81b69cde-83b9-4e3a-ceb4-7982c3be34dc"
      },
      "outputs": [
        {
          "data": {
            "text/plain": [
              "Product               object\n",
              "Region                object\n",
              "Price                float64\n",
              "Units Sold           float64\n",
              "Sale Date     datetime64[ns]\n",
              "dtype: object"
            ]
          },
          "execution_count": 7,
          "metadata": {},
          "output_type": "execute_result"
        }
      ],
      "source": [
        "df.head()\n",
        " # convert to the datatime\n",
        "df['Sale Date'] = pd.to_datetime(df['Sale Date']) \n",
        "\n",
        "# fill Nan with 'Other'\n",
        "df['Product'] = df['Product'].fillna(\"Other\")  \n",
        "\n",
        "# fill Nan with 'Other'\n",
        "df['Region'] = df['Region'].fillna(\"Other\") \n",
        "\n",
        "# delete the Nan rows in spesfic column\n",
        "df.dropna(subset='Units Sold',inplace=True)  \n",
        "\n",
        "# use the mean price grouped by product and region to fill the nan\n",
        "df['Price']=  df['Price'].fillna(df.groupby(['Product','Region'])['Price'].transform('mean'))\n",
        "\n",
        "# delete the Nan rows in spesfic column\n",
        "df.dropna(subset='Price',inplace=True) \n",
        "\n",
        "df.dtypes"
      ]
    },
    {
      "cell_type": "code",
      "execution_count": 8,
      "metadata": {
        "colab": {
          "base_uri": "https://localhost:8080/"
        },
        "id": "nGWs1fP4msLf",
        "outputId": "752918d9-ad45-4811-d2a2-7c83ba9fcf8e"
      },
      "outputs": [
        {
          "name": "stdout",
          "output_type": "stream",
          "text": [
            "<class 'pandas.core.frame.DataFrame'>\n",
            "Index: 916 entries, 0 to 1049\n",
            "Data columns (total 5 columns):\n",
            " #   Column      Non-Null Count  Dtype         \n",
            "---  ------      --------------  -----         \n",
            " 0   Product     916 non-null    object        \n",
            " 1   Region      916 non-null    object        \n",
            " 2   Price       916 non-null    float64       \n",
            " 3   Units Sold  916 non-null    float64       \n",
            " 4   Sale Date   916 non-null    datetime64[ns]\n",
            "dtypes: datetime64[ns](1), float64(2), object(2)\n",
            "memory usage: 42.9+ KB\n"
          ]
        }
      ],
      "source": [
        "df.info()"
      ]
    },
    {
      "cell_type": "code",
      "execution_count": 9,
      "metadata": {
        "id": "ili6peorqDLp"
      },
      "outputs": [],
      "source": [
        "# add one column\n",
        "df['Total Sale'] = df['Price'] * df['Units Sold']"
      ]
    },
    {
      "attachments": {},
      "cell_type": "markdown",
      "metadata": {
        "id": "pqB71GdCHhGp"
      },
      "source": [
        "## analysis"
      ]
    },
    {
      "attachments": {},
      "cell_type": "markdown",
      "metadata": {
        "id": "bhOzyvojHCh4"
      },
      "source": [
        "### sales performance of products and regions"
      ]
    },
    {
      "cell_type": "code",
      "execution_count": 10,
      "metadata": {
        "colab": {
          "base_uri": "https://localhost:8080/",
          "height": 766
        },
        "id": "2bXw0JqFfWAb",
        "outputId": "bc2299d1-926d-4ef2-878f-a5c196f09d10"
      },
      "outputs": [
        {
          "name": "stdout",
          "output_type": "stream",
          "text": [
            "Region\n",
            "Other        979.0\n",
            "Region_5     969.0\n",
            "Region_2     958.0\n",
            "Region_7     907.0\n",
            "Region_9     873.0\n",
            "Region_8     861.0\n",
            "Region_1     796.0\n",
            "Region_4     774.0\n",
            "Region_10    765.0\n",
            "Region_3     747.0\n",
            "Name: Units Sold, dtype: float64\n"
          ]
        },
        {
          "data": {
            "text/plain": [
              "<Axes: title={'center': 'sale units in top10 region'}, xlabel='Region'>"
            ]
          },
          "execution_count": 10,
          "metadata": {},
          "output_type": "execute_result"
        },
        {
          "data": {
            "image/png": "[encoded data removed]",
            "text/plain": [
              "<Figure size 640x480 with 1 Axes>"
            ]
          },
          "metadata": {},
          "output_type": "display_data"
        }
      ],
      "source": [
        "region_count = df.groupby(['Region'])['Units Sold'].sum().sort_values(ascending=False).head(10) \n",
        "print(region_count)\n",
        "region_count.plot(kind='bar', title='sale units in top10 region')"
      ]
    },
    {
      "cell_type": "code",
      "execution_count": 11,
      "metadata": {
        "colab": {
          "base_uri": "https://localhost:8080/",
          "height": 748
        },
        "id": "2HGQW8JUglpL",
        "outputId": "bfcd893f-e6d1-4ce3-b729-9da76d90183e"
      },
      "outputs": [
        {
          "name": "stdout",
          "output_type": "stream",
          "text": [
            "Region\n",
            "Region_5     146888.528571\n",
            "Region_2     128957.808500\n",
            "Region_8     106918.620833\n",
            "Other         97601.994000\n",
            "Region_7      89667.870000\n",
            "Region_10     83570.121667\n",
            "Region_6      78246.110000\n",
            "Region_9      77285.156667\n",
            "Region_1      76893.809444\n",
            "Region_4      72727.045000\n",
            "Name: Total Sale, dtype: float64\n"
          ]
        },
        {
          "data": {
            "image/png": "[encoded data removed]",
            "text/plain": [
              "<Figure size 640x480 with 1 Axes>"
            ]
          },
          "metadata": {},
          "output_type": "display_data"
        }
      ],
      "source": [
        "region_total_count = df.groupby(['Region'])['Total Sale'].sum().sort_values(ascending=False).head(10) \n",
        "print(region_total_count)\n",
        "region_count = region_total_count.plot(kind='bar', title='sale values in top10 region')"
      ]
    },
    {
      "cell_type": "code",
      "execution_count": 12,
      "metadata": {
        "colab": {
          "base_uri": "https://localhost:8080/",
          "height": 753
        },
        "id": "6rbexh7WfwyR",
        "outputId": "3081a7d9-7c4e-4ae9-fbea-57ea6a172d84"
      },
      "outputs": [
        {
          "name": "stdout",
          "output_type": "stream",
          "text": [
            "Product\n",
            "Other         928.0\n",
            "Product_24    296.0\n",
            "Product_40    268.0\n",
            "Product_43    244.0\n",
            "Product_4     237.0\n",
            "Product_49    237.0\n",
            "Product_8     229.0\n",
            "Product_19    225.0\n",
            "Product_42    220.0\n",
            "Product_10    216.0\n",
            "Name: Units Sold, dtype: float64\n"
          ]
        },
        {
          "data": {
            "image/png": "[encoded data removed]",
            "text/plain": [
              "<Figure size 640x480 with 1 Axes>"
            ]
          },
          "metadata": {},
          "output_type": "display_data"
        }
      ],
      "source": [
        "product_count = df.groupby('Product')['Units Sold'].sum().sort_values(ascending=False).head(10) \n",
        "print(product_count)\n",
        "product_count =product_count.plot(kind='bar', title='sale units of top10 products')"
      ]
    },
    {
      "cell_type": "code",
      "execution_count": 13,
      "metadata": {
        "colab": {
          "base_uri": "https://localhost:8080/",
          "height": 753
        },
        "id": "zm3gFL1pPpm-",
        "outputId": "b93470fc-6e31-402e-e8b1-5df236152fc8"
      },
      "outputs": [
        {
          "name": "stdout",
          "output_type": "stream",
          "text": [
            "Product\n",
            "Other         149851.157016\n",
            "Product_34     51104.950000\n",
            "Product_49     42024.698000\n",
            "Product_50     33955.060000\n",
            "Product_27     32659.550000\n",
            "Product_40     30860.010000\n",
            "Product_23     29059.850000\n",
            "Product_19     27009.725000\n",
            "Product_7      24010.770000\n",
            "Product_22     23464.020000\n",
            "Name: Total Sale, dtype: float64\n"
          ]
        },
        {
          "data": {
            "image/png": "[encoded data removed]",
            "text/plain": [
              "<Figure size 640x480 with 1 Axes>"
            ]
          },
          "metadata": {},
          "output_type": "display_data"
        }
      ],
      "source": [
        "product_total_count = df.groupby('Product')['Total Sale'].sum().sort_values(ascending=False).head(10) \n",
        "print(product_total_count)\n",
        "product_total_count = product_total_count.plot(kind='bar', title='sale values of top10 products')"
      ]
    },
    {
      "cell_type": "code",
      "execution_count": 14,
      "metadata": {
        "colab": {
          "base_uri": "https://localhost:8080/"
        },
        "id": "zFxroT4YgLfH",
        "outputId": "ca162382-1b13-4874-b692-ac964ffbbddf"
      },
      "outputs": [
        {
          "name": "stdout",
          "output_type": "stream",
          "text": [
            "Title: product_region_count\n",
            "Region    Product   \n",
            "Region_2  Other         119.0\n",
            "Other     Other         110.0\n",
            "Region_5  Other         110.0\n",
            "Region_8  Other         106.0\n",
            "Region_4  Other         106.0\n",
            "Region_1  Other          90.0\n",
            "Region_9  Other          82.0\n",
            "Other     Product_28     76.0\n",
            "Region_2  Product_49     74.0\n",
            "Region_6  Other          66.0\n",
            "Name: Units Sold, dtype: float64\n",
            "Title: product_region_ratio\n"
          ]
        },
        {
          "data": {
            "text/plain": [
              "Region    Product   \n",
              "Region_2  Other         0.012755\n",
              "Other     Other         0.011790\n",
              "Region_5  Other         0.011790\n",
              "Region_8  Other         0.011361\n",
              "Region_4  Other         0.011361\n",
              "Region_1  Other         0.009646\n",
              "Region_9  Other         0.008789\n",
              "Other     Product_28    0.008146\n",
              "Region_2  Product_49    0.007931\n",
              "Region_6  Other         0.007074\n",
              "Name: Units Sold, dtype: float64"
            ]
          },
          "execution_count": 14,
          "metadata": {},
          "output_type": "execute_result"
        }
      ],
      "source": [
        "product_region_count = df.groupby(['Region','Product'])['Units Sold'].sum().sort_values(ascending=False).head(10)\n",
        "print(\"Title: product_region_count\")\n",
        "print(product_region_count)\n",
        "\n",
        "product_region_sale_ratio=df.groupby(['Region','Product'])['Units Sold'].sum()/df['Units Sold'].sum()\n",
        "print(\"Title: product_region_ratio\")\n",
        "product_region_sale_ratio.sort_values(ascending=False).head(10)"
      ]
    },
    {
      "cell_type": "code",
      "execution_count": 15,
      "metadata": {
        "colab": {
          "base_uri": "https://localhost:8080/"
        },
        "id": "bJqcKVJnhwF1",
        "outputId": "b825c729-3367-4605-a1ea-f7f33f36bc58"
      },
      "outputs": [
        {
          "name": "stdout",
          "output_type": "stream",
          "text": [
            "Title: product_region_total_values\n",
            "Region     Product   \n",
            "Region_5   Other         60385.388571\n",
            "Region_2   Product_34    38341.300000\n",
            "Region_8   Product_49    18144.000000\n",
            "Other      Other         16780.284000\n",
            "Region_7   Product_27    16176.460000\n",
            "Region_8   Other         13798.800000\n",
            "Region_4   Other         12896.730000\n",
            "Region_2   Other         12533.088000\n",
            "Region_7   Other         10554.500000\n",
            "Region_10  Product_7      9215.830000\n",
            "Name: Total Sale, dtype: float64\n",
            "Title: product_region_total_values_ratio\n"
          ]
        },
        {
          "data": {
            "text/plain": [
              "Region     Product   \n",
              "Region_5   Other         6.472175\n",
              "Region_2   Product_34    4.109464\n",
              "Region_8   Product_49    1.944695\n",
              "Other      Other         1.798530\n",
              "Region_7   Product_27    1.733811\n",
              "Region_8   Other         1.478971\n",
              "Region_4   Other         1.382286\n",
              "Region_2   Other         1.343311\n",
              "Region_7   Other         1.131243\n",
              "Region_10  Product_7     0.987763\n",
              "Name: Total Sale, dtype: float64"
            ]
          },
          "execution_count": 15,
          "metadata": {},
          "output_type": "execute_result"
        }
      ],
      "source": [
        "product_region_count = df.groupby(['Region','Product'])['Total Sale'].sum().sort_values(ascending=False).head(10)\n",
        "print(\"Title: product_region_total_values\")\n",
        "print(product_region_count)\n",
        "\n",
        "product_region_sale_ratio=df.groupby(['Region','Product'])['Total Sale'].sum()/df['Units Sold'].sum()\n",
        "print(\"Title: product_region_total_values_ratio\")\n",
        "product_region_sale_ratio.sort_values(ascending=False).head(10)"
      ]
    },
    {
      "attachments": {},
      "cell_type": "markdown",
      "metadata": {
        "id": "wvnL-MjYkJ3d"
      },
      "source": [
        "##### What conclusions can you draw about sales performance of various products and regions?"
      ]
    },
    {
      "attachments": {},
      "cell_type": "markdown",
      "metadata": {
        "id": "4bLETkeRkNbX"
      },
      "source": [
        "In the terms of sale perfomance for different regions, the Region_5 is  969 units in total and Region_2 is 958. Also the total sale values are also better than others, which Region_5 is 146888.5 and Region_2 is 128957.8.\n",
        "\n",
        "In the terms of sale perfomance for different products, the best seller is Product_24, which sold 296 units. However, it is Product_34 which get the best total sale values 51104.95.\n",
        "\n",
        "Combining the performance of product and regions, we can see Region_2  Product_49 sold best in units 74 except for the products and regions labeled as 'other'. However, it is Product_34 which creates the best total sale values in Region_2 which is 38341.3.\n"
      ]
    },
    {
      "attachments": {},
      "cell_type": "markdown",
      "metadata": {
        "id": "K7QZsRmMG3e3"
      },
      "source": [
        "### Growth rate"
      ]
    },
    {
      "cell_type": "code",
      "execution_count": 16,
      "metadata": {
        "colab": {
          "base_uri": "https://localhost:8080/",
          "height": 423
        },
        "id": "_BaHjAT6jbCq",
        "outputId": "04796f94-e0ba-40bf-9fe2-de10bcb71382"
      },
      "outputs": [
        {
          "data": {
            "text/html": [
              "<div>\n",
              "<style scoped>\n",
              "    .dataframe tbody tr th:only-of-type {\n",
              "        vertical-align: middle;\n",
              "    }\n",
              "\n",
              "    .dataframe tbody tr th {\n",
              "        vertical-align: top;\n",
              "    }\n",
              "\n",
              "    .dataframe thead th {\n",
              "        text-align: right;\n",
              "    }\n",
              "</style>\n",
              "<table border=\"1\" class=\"dataframe\">\n",
              "  <thead>\n",
              "    <tr style=\"text-align: right;\">\n",
              "      <th></th>\n",
              "      <th>Product</th>\n",
              "      <th>Region</th>\n",
              "      <th>Price</th>\n",
              "      <th>Units Sold</th>\n",
              "      <th>Sale Date</th>\n",
              "      <th>Total Sale</th>\n",
              "      <th>sale yr</th>\n",
              "      <th>quarter</th>\n",
              "    </tr>\n",
              "  </thead>\n",
              "  <tbody>\n",
              "    <tr>\n",
              "      <th>0</th>\n",
              "      <td>Other</td>\n",
              "      <td>Region_1</td>\n",
              "      <td>72.87</td>\n",
              "      <td>10.0</td>\n",
              "      <td>2022-01-01</td>\n",
              "      <td>728.70</td>\n",
              "      <td>2022</td>\n",
              "      <td>2022Q1</td>\n",
              "    </tr>\n",
              "    <tr>\n",
              "      <th>1</th>\n",
              "      <td>Product_40</td>\n",
              "      <td>Region_2</td>\n",
              "      <td>46.19</td>\n",
              "      <td>10.0</td>\n",
              "      <td>2022-01-02</td>\n",
              "      <td>461.90</td>\n",
              "      <td>2022</td>\n",
              "      <td>2022Q1</td>\n",
              "    </tr>\n",
              "    <tr>\n",
              "      <th>2</th>\n",
              "      <td>Product_1</td>\n",
              "      <td>Region_5</td>\n",
              "      <td>20.43</td>\n",
              "      <td>4.0</td>\n",
              "      <td>2022-01-03</td>\n",
              "      <td>81.72</td>\n",
              "      <td>2022</td>\n",
              "      <td>2022Q1</td>\n",
              "    </tr>\n",
              "    <tr>\n",
              "      <th>3</th>\n",
              "      <td>Product_6</td>\n",
              "      <td>Region_8</td>\n",
              "      <td>143.47</td>\n",
              "      <td>8.0</td>\n",
              "      <td>2022-01-04</td>\n",
              "      <td>1147.76</td>\n",
              "      <td>2022</td>\n",
              "      <td>2022Q1</td>\n",
              "    </tr>\n",
              "    <tr>\n",
              "      <th>4</th>\n",
              "      <td>Product_44</td>\n",
              "      <td>Region_4</td>\n",
              "      <td>122.54</td>\n",
              "      <td>10.0</td>\n",
              "      <td>2022-01-05</td>\n",
              "      <td>1225.40</td>\n",
              "      <td>2022</td>\n",
              "      <td>2022Q1</td>\n",
              "    </tr>\n",
              "    <tr>\n",
              "      <th>...</th>\n",
              "      <td>...</td>\n",
              "      <td>...</td>\n",
              "      <td>...</td>\n",
              "      <td>...</td>\n",
              "      <td>...</td>\n",
              "      <td>...</td>\n",
              "      <td>...</td>\n",
              "      <td>...</td>\n",
              "    </tr>\n",
              "    <tr>\n",
              "      <th>1020</th>\n",
              "      <td>Product_39</td>\n",
              "      <td>Region_2</td>\n",
              "      <td>43.47</td>\n",
              "      <td>11.0</td>\n",
              "      <td>2022-05-03</td>\n",
              "      <td>478.17</td>\n",
              "      <td>2022</td>\n",
              "      <td>2022Q2</td>\n",
              "    </tr>\n",
              "    <tr>\n",
              "      <th>1023</th>\n",
              "      <td>Product_1</td>\n",
              "      <td>Region_7</td>\n",
              "      <td>62.99</td>\n",
              "      <td>13.0</td>\n",
              "      <td>2022-10-28</td>\n",
              "      <td>818.87</td>\n",
              "      <td>2022</td>\n",
              "      <td>2022Q4</td>\n",
              "    </tr>\n",
              "    <tr>\n",
              "      <th>1034</th>\n",
              "      <td>Product_8</td>\n",
              "      <td>Region_7</td>\n",
              "      <td>32.63</td>\n",
              "      <td>13.0</td>\n",
              "      <td>2022-11-27</td>\n",
              "      <td>424.19</td>\n",
              "      <td>2022</td>\n",
              "      <td>2022Q4</td>\n",
              "    </tr>\n",
              "    <tr>\n",
              "      <th>1038</th>\n",
              "      <td>Product_50</td>\n",
              "      <td>Region_2</td>\n",
              "      <td>201.79</td>\n",
              "      <td>8.0</td>\n",
              "      <td>2022-02-03</td>\n",
              "      <td>1614.32</td>\n",
              "      <td>2022</td>\n",
              "      <td>2022Q1</td>\n",
              "    </tr>\n",
              "    <tr>\n",
              "      <th>1039</th>\n",
              "      <td>Product_12</td>\n",
              "      <td>Region_6</td>\n",
              "      <td>30.67</td>\n",
              "      <td>7.0</td>\n",
              "      <td>2022-11-29</td>\n",
              "      <td>214.69</td>\n",
              "      <td>2022</td>\n",
              "      <td>2022Q4</td>\n",
              "    </tr>\n",
              "  </tbody>\n",
              "</table>\n",
              "<p>333 rows × 8 columns</p>\n",
              "</div>"
            ],
            "text/plain": [
              "         Product    Region   Price  Units Sold  Sale Date  Total Sale   \n",
              "0          Other  Region_1   72.87        10.0 2022-01-01      728.70  \\\n",
              "1     Product_40  Region_2   46.19        10.0 2022-01-02      461.90   \n",
              "2      Product_1  Region_5   20.43         4.0 2022-01-03       81.72   \n",
              "3      Product_6  Region_8  143.47         8.0 2022-01-04     1147.76   \n",
              "4     Product_44  Region_4  122.54        10.0 2022-01-05     1225.40   \n",
              "...          ...       ...     ...         ...        ...         ...   \n",
              "1020  Product_39  Region_2   43.47        11.0 2022-05-03      478.17   \n",
              "1023   Product_1  Region_7   62.99        13.0 2022-10-28      818.87   \n",
              "1034   Product_8  Region_7   32.63        13.0 2022-11-27      424.19   \n",
              "1038  Product_50  Region_2  201.79         8.0 2022-02-03     1614.32   \n",
              "1039  Product_12  Region_6   30.67         7.0 2022-11-29      214.69   \n",
              "\n",
              "      sale yr quarter  \n",
              "0        2022  2022Q1  \n",
              "1        2022  2022Q1  \n",
              "2        2022  2022Q1  \n",
              "3        2022  2022Q1  \n",
              "4        2022  2022Q1  \n",
              "...       ...     ...  \n",
              "1020     2022  2022Q2  \n",
              "1023     2022  2022Q4  \n",
              "1034     2022  2022Q4  \n",
              "1038     2022  2022Q1  \n",
              "1039     2022  2022Q4  \n",
              "\n",
              "[333 rows x 8 columns]"
            ]
          },
          "execution_count": 16,
          "metadata": {},
          "output_type": "execute_result"
        }
      ],
      "source": [
        "# add one column to see the year extracted from 'sale date'\n",
        "df['sale yr'] = df['Sale Date'].dt.year\n",
        "\n",
        "df['quarter'] = df['Sale Date'].dt.to_period('Q')\n",
        "df['sale yr'].unique()\n",
        "df2022 = df[df['sale yr'] == 2022]\n",
        "df2023 = df[df['sale yr'] == 2023]\n",
        "df2024 = df[df['sale yr'] == 2024]\n",
        "df2022"
      ]
    },
    {
      "cell_type": "code",
      "execution_count": 17,
      "metadata": {
        "colab": {
          "base_uri": "https://localhost:8080/"
        },
        "id": "aJq6ahO5rAo5",
        "outputId": "547146ac-e5ef-4a4d-c479-e38bc7c02701"
      },
      "outputs": [
        {
          "data": {
            "text/plain": [
              "<PeriodArray>\n",
              "['2024Q1', '2024Q2', '2024Q3']\n",
              "Length: 3, dtype: period[Q-DEC]"
            ]
          },
          "execution_count": 17,
          "metadata": {},
          "output_type": "execute_result"
        }
      ],
      "source": [
        "df2024['quarter'].unique()"
      ]
    },
    {
      "cell_type": "code",
      "execution_count": 18,
      "metadata": {
        "colab": {
          "base_uri": "https://localhost:8080/"
        },
        "id": "3JyjiMFUqPBb",
        "outputId": "2f7926ed-19dc-4eec-ea84-a9b6f32d502b"
      },
      "outputs": [
        {
          "data": {
            "text/plain": [
              "sale yr\n",
              "2022    341857.099976\n",
              "2023    431401.212302\n",
              "2024    254249.169405\n",
              "Name: Total Sale, dtype: float64"
            ]
          },
          "execution_count": 18,
          "metadata": {},
          "output_type": "execute_result"
        }
      ],
      "source": [
        "sales_year = df.groupby('sale yr')['Total Sale'].sum()\n",
        "sales_year"
      ]
    },
    {
      "cell_type": "code",
      "execution_count": 19,
      "metadata": {
        "colab": {
          "base_uri": "https://localhost:8080/"
        },
        "id": "i8_4iHOqtuvZ",
        "outputId": "2d5c40de-775b-4407-d963-b9d5127c7429"
      },
      "outputs": [
        {
          "data": {
            "text/plain": [
              "quarter\n",
              "2022Q1     80467.233500\n",
              "2022Q2     89171.565143\n",
              "2022Q3    102413.953333\n",
              "2022Q4     69804.348000\n",
              "2023Q1    189101.681667\n",
              "2023Q2     78528.634524\n",
              "2023Q3     75472.814444\n",
              "2023Q4     88298.081667\n",
              "2024Q1     94464.288333\n",
              "2024Q2     87195.220000\n",
              "2024Q3     72589.661071\n",
              "Freq: Q-DEC, Name: Total Sale, dtype: float64"
            ]
          },
          "execution_count": 19,
          "metadata": {},
          "output_type": "execute_result"
        }
      ],
      "source": [
        "sales_quarter = df.groupby('quarter')['Total Sale'].sum()\n",
        "sales_quarter"
      ]
    },
    {
      "cell_type": "code",
      "execution_count": 20,
      "metadata": {
        "colab": {
          "base_uri": "https://localhost:8080/"
        },
        "id": "PJxqL3hDv0be",
        "outputId": "b216789d-f6b5-46f1-caa9-db7a4eda10d4"
      },
      "outputs": [
        {
          "data": {
            "text/plain": [
              "80467.2335"
            ]
          },
          "execution_count": 20,
          "metadata": {},
          "output_type": "execute_result"
        }
      ],
      "source": [
        "sales_quarter['2022Q1']"
      ]
    },
    {
      "cell_type": "code",
      "execution_count": 21,
      "metadata": {
        "colab": {
          "base_uri": "https://localhost:8080/"
        },
        "id": "TUJfMa-rurIR",
        "outputId": "623ca928-49a3-4719-8f08-1db02876e085"
      },
      "outputs": [
        {
          "name": "stdout",
          "output_type": "stream",
          "text": [
            "compared to 2022Q1, 2023Q1 Sales Growth Rate: 135.00%\n",
            "compared to 2023Q1, 2024Q1 Sales Growth Rate: -50.05%\n"
          ]
        }
      ],
      "source": [
        "#Q1 rate:\n",
        "Q1sales_quarter1 = sales_quarter['2023Q1'] / sales_quarter['2022Q1'] -1\n",
        "Q1sales_quarter2 = sales_quarter['2024Q1'] / sales_quarter['2023Q1'] -1\n",
        "\n",
        "print(\"compared to 2022Q1, 2023Q1 Sales Growth Rate: {:.2%}\".format(Q1sales_quarter1))\n",
        "print(\"compared to 2023Q1, 2024Q1 Sales Growth Rate: {:.2%}\".format(Q1sales_quarter2))"
      ]
    },
    {
      "cell_type": "code",
      "execution_count": 22,
      "metadata": {
        "colab": {
          "base_uri": "https://localhost:8080/"
        },
        "id": "HsI4phJDwZ2v",
        "outputId": "d25258bf-edd3-4d25-d2b5-523ce6cf132c"
      },
      "outputs": [
        {
          "name": "stdout",
          "output_type": "stream",
          "text": [
            "compared to 2022Q2, 2023Q2 Sales Growth Rate: -11.94%\n",
            "compared to 2023Q2, 2024Q2 Sales Growth Rate : 11.04%\n"
          ]
        }
      ],
      "source": [
        "#Q2 rate:\n",
        "Q2sales_quarter1 = sales_quarter['2023Q2'] / sales_quarter['2022Q2'] -1\n",
        "Q2sales_quarter2 = sales_quarter['2024Q2'] / sales_quarter['2023Q2'] -1\n",
        "\n",
        "print(\"compared to 2022Q2, 2023Q2 Sales Growth Rate: {:.2%}\".format(Q2sales_quarter1))\n",
        "print(\"compared to 2023Q2, 2024Q2 Sales Growth Rate : {:.2%}\".format(Q2sales_quarter2))"
      ]
    },
    {
      "cell_type": "code",
      "execution_count": 23,
      "metadata": {
        "colab": {
          "base_uri": "https://localhost:8080/"
        },
        "id": "AaCUHkCpwfyV",
        "outputId": "84ec6576-2de9-4cb9-adf2-da0d88045386"
      },
      "outputs": [
        {
          "name": "stdout",
          "output_type": "stream",
          "text": [
            "compared to 2022Q3, 2023Q3 Sales Growth Rate: -26.31%\n",
            "compared to 2023Q3, 2024Q3 Sales Growth Rate: -3.82%\n"
          ]
        }
      ],
      "source": [
        "#Q3 rate:\n",
        "Q3sales_quarter1 = sales_quarter['2023Q3'] / sales_quarter['2022Q3'] -1\n",
        "Q3sales_quarter2 = sales_quarter['2024Q3'] / sales_quarter['2023Q3'] -1\n",
        "\n",
        "print(\"compared to 2022Q3, 2023Q3 Sales Growth Rate: {:.2%}\".format(Q3sales_quarter1))\n",
        "print(\"compared to 2023Q3, 2024Q3 Sales Growth Rate: {:.2%}\".format(Q3sales_quarter2))"
      ]
    },
    {
      "cell_type": "code",
      "execution_count": 24,
      "metadata": {
        "colab": {
          "base_uri": "https://localhost:8080/"
        },
        "id": "MY706q2AwpIK",
        "outputId": "d75987fe-c398-49d7-a531-c709621980d4"
      },
      "outputs": [
        {
          "name": "stdout",
          "output_type": "stream",
          "text": [
            "compared to 2022Q4, 2023Q4 Sales Growth Rate: 26.49%\n"
          ]
        }
      ],
      "source": [
        "#Q4 rate:\n",
        "Q4sales_quarter1 = sales_quarter['2023Q4'] / sales_quarter['2022Q4'] -1\n",
        "print(\"compared to 2022Q4, 2023Q4 Sales Growth Rate: {:.2%}\".format(Q4sales_quarter1))"
      ]
    },
    {
      "cell_type": "code",
      "execution_count": 25,
      "metadata": {
        "colab": {
          "base_uri": "https://localhost:8080/"
        },
        "id": "DkHp21SP0WBj",
        "outputId": "b4f2b65e-16c3-4c32-ddd8-6d3da0c8d722"
      },
      "outputs": [
        {
          "name": "stdout",
          "output_type": "stream",
          "text": [
            "units for 2022Q3\n",
            "Product\n",
            "Other         97.0\n",
            "Product_28    42.0\n",
            "Product_30    39.0\n",
            "Product_15    35.0\n",
            "Product_9     34.0\n",
            "Product_49    29.0\n",
            "Product_21    28.0\n",
            "Product_20    26.0\n",
            "Product_4     26.0\n",
            "Product_42    24.0\n",
            "Name: Units Sold, dtype: float64\n",
            "sale value for 2022Q3\n"
          ]
        },
        {
          "data": {
            "text/plain": [
              "Product\n",
              "Product_49    21364.80\n",
              "Other          8632.82\n",
              "Product_28     7454.02\n",
              "Product_15     5976.72\n",
              "Product_30     4612.88\n",
              "Product_8      3901.86\n",
              "Product_44     3828.02\n",
              "Product_21     3677.49\n",
              "Product_23     3605.62\n",
              "Product_22     3202.60\n",
              "Name: Total Sale, dtype: float64"
            ]
          },
          "execution_count": 25,
          "metadata": {},
          "output_type": "execute_result"
        }
      ],
      "source": [
        "unit2022Q3 = df[df['quarter'] == '2022Q3'].groupby('Product')['Units Sold'].sum()\n",
        "print(\"units for 2022Q3\")\n",
        "print(unit2022Q3.sort_values(ascending=False).head(10))\n",
        "\n",
        "sales2022Q3 = df[df['quarter'] == '2022Q3'].groupby('Product')['Total Sale'].sum()\n",
        "print(\"sale value for 2022Q3\")\n",
        "sales2022Q3.sort_values(ascending=False).head(10) "
      ]
    },
    {
      "cell_type": "code",
      "execution_count": 26,
      "metadata": {
        "colab": {
          "base_uri": "https://localhost:8080/"
        },
        "id": "7dbgB4Tv1bfG",
        "outputId": "3545879b-b2bf-4add-9cf2-bb6372a3dcff"
      },
      "outputs": [
        {
          "name": "stdout",
          "output_type": "stream",
          "text": [
            "units for 2023Q3\n",
            "Product\n",
            "Other         66.0\n",
            "Product_43    57.0\n",
            "Product_23    53.0\n",
            "Product_4     46.0\n",
            "Product_49    41.0\n",
            "Product_21    39.0\n",
            "Product_3     35.0\n",
            "Product_42    32.0\n",
            "Product_25    27.0\n",
            "Product_33    26.0\n",
            "Name: Units Sold, dtype: float64\n",
            "sale value for 2023Q3\n"
          ]
        },
        {
          "data": {
            "text/plain": [
              "Product\n",
              "Product_3     10430.260000\n",
              "Other          9291.034444\n",
              "Product_21     8149.200000\n",
              "Product_23     4951.640000\n",
              "Product_49     3718.560000\n",
              "Product_36     3502.680000\n",
              "Product_19     3396.360000\n",
              "Product_17     3183.980000\n",
              "Product_4      2783.470000\n",
              "Product_34     2451.240000\n",
              "Name: Total Sale, dtype: float64"
            ]
          },
          "execution_count": 26,
          "metadata": {},
          "output_type": "execute_result"
        }
      ],
      "source": [
        "unit2023Q3 = df[df['quarter'] == '2023Q3'].groupby('Product')['Units Sold'].sum()\n",
        "print(\"units for 2023Q3\")\n",
        "print(unit2023Q3.sort_values(ascending=False).head(10))\n",
        "\n",
        "sales2023Q3 = df[df['quarter'] == '2023Q3'].groupby('Product')['Total Sale'].sum()\n",
        "print(\"sale value for 2023Q3\")\n",
        "sales2023Q3.sort_values(ascending=False).head(10) "
      ]
    },
    {
      "cell_type": "code",
      "execution_count": 27,
      "metadata": {
        "colab": {
          "base_uri": "https://localhost:8080/"
        },
        "id": "f2RDz4CS2iUE",
        "outputId": "7ee5a37d-50f5-47bc-f927-525869eeb1a4"
      },
      "outputs": [
        {
          "name": "stdout",
          "output_type": "stream",
          "text": [
            "units for 2024Q3\n",
            "Product\n",
            "Other         95.0\n",
            "Product_31    38.0\n",
            "Product_38    34.0\n",
            "Product_50    31.0\n",
            "Product_24    30.0\n",
            "Product_3     30.0\n",
            "Product_29    28.0\n",
            "Product_8     28.0\n",
            "Product_19    28.0\n",
            "Product_43    28.0\n",
            "Name: Units Sold, dtype: float64\n",
            "sale value for 2024Q3\n"
          ]
        },
        {
          "data": {
            "text/plain": [
              "Product\n",
              "Other         8062.178571\n",
              "Product_50    6221.510000\n",
              "Product_31    5274.800000\n",
              "Product_40    4851.320000\n",
              "Product_25    3530.720000\n",
              "Product_27    3230.040000\n",
              "Product_20    3198.870000\n",
              "Product_4     3185.400000\n",
              "Product_38    3037.830000\n",
              "Product_29    2568.730000\n",
              "Name: Total Sale, dtype: float64"
            ]
          },
          "execution_count": 27,
          "metadata": {},
          "output_type": "execute_result"
        }
      ],
      "source": [
        "unit2024Q3 = df[df['quarter'] == '2024Q3'].groupby('Product')['Units Sold'].sum()\n",
        "print(\"units for 2024Q3\")\n",
        "print(unit2024Q3.sort_values(ascending=False).head(10))\n",
        "\n",
        "sales2024Q3 = df[df['quarter'] == '2024Q3'].groupby('Product')['Total Sale'].sum()\n",
        "print(\"sale value for 2024Q3\")\n",
        "sales2024Q3.sort_values(ascending=False).head(10) "
      ]
    },
    {
      "cell_type": "code",
      "execution_count": 28,
      "metadata": {
        "colab": {
          "base_uri": "https://localhost:8080/"
        },
        "id": "T5r6GezE5ogM",
        "outputId": "fe597297-f2d8-412a-914f-20d0a0299ebb"
      },
      "outputs": [
        {
          "name": "stdout",
          "output_type": "stream",
          "text": [
            "units for 2023Q4\n",
            "Product\n",
            "Product_50    70.0\n",
            "Other         62.0\n",
            "Product_2     51.0\n",
            "Product_41    42.0\n",
            "Product_42    39.0\n",
            "Product_24    39.0\n",
            "Product_38    35.0\n",
            "Product_15    33.0\n",
            "Product_10    32.0\n",
            "Product_23    30.0\n",
            "Name: Units Sold, dtype: float64\n",
            "sale value for 2023Q4\n"
          ]
        },
        {
          "data": {
            "text/plain": [
              "Product\n",
              "Product_50    9688.010\n",
              "Product_2     6156.160\n",
              "Product_17    5694.800\n",
              "Product_38    5462.540\n",
              "Other         5381.660\n",
              "Product_1     5183.790\n",
              "Product_15    4670.260\n",
              "Product_45    3750.550\n",
              "Product_24    3526.250\n",
              "Product_23    3514.495\n",
              "Name: Total Sale, dtype: float64"
            ]
          },
          "execution_count": 28,
          "metadata": {},
          "output_type": "execute_result"
        }
      ],
      "source": [
        "unit2023Q4 = df[df['quarter'] == '2023Q4'].groupby('Product')['Units Sold'].sum()\n",
        "print(\"units for 2023Q4\")\n",
        "print(unit2023Q4.sort_values(ascending=False).head(10))\n",
        "\n",
        "sales2023Q4 = df[df['quarter'] == '2023Q4'].groupby('Product')['Total Sale'].sum()\n",
        "print(\"sale value for 2023Q4\")\n",
        "sales2023Q4.sort_values(ascending=False).head(10) "
      ]
    },
    {
      "attachments": {},
      "cell_type": "markdown",
      "metadata": {
        "id": "BJ8u3OOAqYQf"
      },
      "source": [
        "##### What recommendations do you have for the business?"
      ]
    },
    {
      "attachments": {},
      "cell_type": "markdown",
      "metadata": {
        "id": "7wHDPhrox8tX"
      },
      "source": [
        "Since there is no sales after 09/2024, therefore we Compare quarterly sales to see the develop tendency of the business. We can see that compared to the previous year, the growth rate in the Q3 of each year was negative, which needs more attention to improve that. \n",
        "\n",
        "For more details, we seek insight on the products level. we can see the best-seller in 2022Q3 was Product_28 sold 42 units and Product_49 got the best sales value of 21364.8. However, it changed for the 2023Q3 and 2024Q3. It could be possible that Product_49 and Product_28 could benefit the sale performance so that we could make sure the quantity of those two products are enough and the prices are reasonable.\n",
        "\n",
        "Also it could be put on much pressure on 2024Q4 since last three quarters in this year were not well in sales compared with last two years. And we could make the reference of the sales in 2023Q4 since it performed well, such as attach more importance on preparation of the best-seller Product_50 and Product_2."
      ]
    }
  ],
  "metadata": {
    "colab": {
      "provenance": []
    },
    "kernelspec": {
      "display_name": "Python 3",
      "name": "python3"
    },
    "language_info": {
      "codemirror_mode": {
        "name": "ipython",
        "version": 3
      },
      "file_extension": ".py",
      "mimetype": "text/x-python",
      "name": "python",
      "nbconvert_exporter": "python",
      "pygments_lexer": "ipython3",
      "version": "3.11.3"
    }
  },
  "nbformat": 4,
  "nbformat_minor": 0
}
