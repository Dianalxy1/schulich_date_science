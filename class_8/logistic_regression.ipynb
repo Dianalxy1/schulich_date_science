{
 "cells": [
  {
   "attachments": {},
   "cell_type": "markdown",
   "metadata": {},
   "source": [
    "# Bulding a Logistic Regression model in Python\n",
    "\n",
    "Logistic Regression is a type of probabilistic classification model. It works best for a binary output (e.g., predicting whether someone has a disease or not; predicting if a credit card transaction is likely to be fraudulent or not; predicting whether someone is likely to survive the Titanic or not). \n",
    "\n",
    "## The difference between probability and likelihood\n",
    "\n",
    "### Probability\n",
    "\n",
    "Probability refers to finding the chance that something happens given a sample distribution of data. For example, if we collected income data from 100 people which was normally distributed and had the following characteristics: $$ \\mu = 50,000 $$ and $$ \\sigma = 5 ,000$$ we could calculate the *probability* that someone has a salary greater than $48,000. First we find the z-score: $$ z = {x - \\mu \\over \\sigma} $$ thus $$ z = {48,000 - 50,000 \\over 5,000} $$ which results in $$ z = -0.4 $$\n",
    "\n",
    "Then, we can look up the corresponding z-value in the z-table which equals 0.34458. Now we can calculate the probability that someone makes more than $48,000 by calculating $$P(>48,000) = 1-0.34458 = 0.65542$$ Therefore, there is a 65% chance a randomly selected person makes more than $48,000\n",
    "\n",
    "### Likelihood\n",
    "\n",
    "*Likelihood* flips the question around and essentially tries to figure out the best characteristics (probability distribution) of data given a particular value. For example, if we collected a bunch of income data (let's say 100 observations), and we observed that most of the observations are between $45,000 and $50,000, which distribution (normal, exponential, gamma) with what characteristics (mean, standard deviation) would maximize the likelihood that we observe what we observed? We could check a whole bunch of different distributions (e.g., normal distribution with mean of $30,000 and stdev of $2,000, OR normal distribution with mean of $48,000 and stdev of $3,000, and so on) and how they fit the data, and we would pick the distribution and characteristics which maximize the likelihood that we see what we saw in our data (i.e., if our collected data had an average income of $48,000, we would pick the distribution which has this average as well). Basically, we are trying to find the best distribution as opposed to already having the distribution available. Once we find the best distribution, we can calculate probabilities!\n",
    "\n",
    "### Maximum Likelihood Estimation\n",
    "\n",
    "In the real world, a common modelling problem is the question of estimating a joint probability distribution for a dataset. Density estimation would involve selecting a probability distribution function and the parameters that best explain the joint probability of observed data, so the obvious questions are: How should you choose the distribution function? How should you choose the parameters for the probability density function?\n",
    "\n",
    "Two common techniques are Maximum a Posteriori (MAP) and Maximum Likelihood Estimation (MLE). MLE assumes that all solutions are equally likely, while MAP takes into account prior information about the form of the solution.\n",
    "\n",
    "MLE treats the problem as an optimization problem (i.e., searching for the optimal solution). We wish to maximize the probability of observing the data from a joint probability distribution given a distribution and parameters that we already know. Mathematically this is stated as:\n",
    "\n",
    "$$ P(X | \\theta)$$ \n",
    "\n",
    "where theta is an unknown parameter. The resulting conditional probability is referred to as the *likelihood* of observing the data given the model parameters and uses the notation: \n",
    "$$L(X | \\theta)$$\n",
    "\n",
    "Calculating conditional probabilities, gven a sample comprises of n-examples, this can be framed as the joint probabilty of the observed data samples (x1, x2...xn) given the probability distribution parameters. The joint probability distribution can be restated as the multiplication of the conditional probability of observing each example, given the distribution parameters.\n",
    "\n",
    "Multiplying all the small probabilities, however, is time consuming, so we can restate this further as the sum of the log conditional probabilities of observing each example given the model parameters. This is what leads to the use of the term *log-likelihood function*.\n",
    "\n",
    "When we are *fitting* a machine learning model, we are essentially trying to estimate probability density - i.e., finding the best parameters or settings that explain the data. The Maximum Likelihood Estimation (MLE) framework is used for density estimation in both supervised and unsupervised models (and in neural nets) - it provides the basis for both Linear and Logistic Regression models. In summary, you can think of it as an optimization problem of searching a whole bunch of parameters in order to find the BEST parameters.\n",
    "\n",
    "\n",
    "### The good stuff - Logistic Regression\n",
    "\n",
    "You should use the slides to supplement your learning but this will be more detailed and probably better. Yes, you can use this for the exam. Yes, the exam will include content from this notebook (I guess you would only know that if you read this far already!!). Don't worry; I'll remind you to read it in class. Anyway, I digress...\n",
    "\n",
    "As discussed, logistic regression is used *primarily* for predicting binary classes (True/False, 0/1, Yes/No type of problems). Just like linear regression, logistic regression will have a function in the form of:\n",
    "$$ y = mx + b$$\n",
    "Where the coefficients will tell us information about how the input variables (x-values) impact our output variable (probability of Y / 1 / True). The main difference between logistic and linear regression, is that logistic regression will produce an output that is always between 0 and 1 (0 = 0% likelihood of an outcome happening; 1=100% likelihood of an outcome happening). This translates to the 0/1 binary outcome using a probability threshold - the default threshold is 50%, meaning that if the probability of an outcome is 50% or higher, it's classified as 1 (i.e., if the probability of a credit card transaction being fraudulent is calculated as 55%, it would be classified as a 1 or Yes or True).\n",
    "\n",
    "To calculate probabilities, we use the Sigmoid function (also called logistic function):\n",
    "\n",
    "$$ S(x) = {1 \\over 1+e^{-x}} $$\n",
    "\n",
    "The output is interpreted as a probability from a Binomial probability distribution function for the class labeled 0 or 1. In general when we produce the function which corresponds with the model, we are estimating the coefficients / parameters from the sample of observations that we have - in theory, these samples are representative of the population. We must always remember there will be 'noise' in the data, which is what we typically consider the errors. For logistic regression, we look at MLE to estimate parameters (if you remember, for Linear regression we discussed Least Squares Optimization - this is similar).\n",
    "\n",
    "#### Odds and log-odds\n",
    "\n",
    "Odds, if you read the slides, are often stated as wins or losses. For example, what are the odds of me drawing a Jack of Hearts from a deck of cards? We can convert the probabilility produced by the logistic regression model to \"odds of success\", defined as the probability of success divided by the probability of not success:\n",
    "$$ odds = {p \\over (1-p)}$$\n",
    "\n",
    "The logarithm is calculated as the log of the odds (hence, log-istic regression!):\n",
    "$$log odds = {log{p\\over (1-p)}}$$\n",
    "\n",
    "Quick review here on logs -- generally with log calculations we are trying to calculate an exponent which yields a value. For example \n",
    "\n",
    "$$log_28 = 3$$ \n",
    "because \n",
    "$$2^3 = 8$$\n",
    "\n",
    "When we are not provided a log base, we assume we're using e as the base, and e = 2.71\n",
    "\n",
    "Now if we put it all together (and if you remember my drawings on the board in class); we use the logit function (above) to project odds on a scale of -infinity to + infinity - this allows to project data onto a straight line (this is the blue line in the picture on Slide 10 of the notes). This gives us:\n",
    "\n",
    "$$y = mx + b$$\n",
    "\n",
    "We then optimize the coefficients of this straight line, using gradient descent for example (more on this in a later class... maybe next semester). Then, we use the sigmoid function to convert the -infinity to +infinity values BACK to a probability of 0-1, so we can actually classify our outputs. In sum, the objective of our model is to predict/output a probability of belonging to class 1 or not.\n",
    "\n",
    "\n",
    "In the real world, you won't have to do this by hand - but it's important to understand the logic/math behind all of the models we are learning.\n",
    "\n",
    "### The Coding Part\n",
    "\n",
    "Let's get to the good stuff. We'll start with probability and odds."
   ]
  },
  {
   "cell_type": "code",
   "execution_count": 1,
   "metadata": {},
   "outputs": [
    {
     "name": "stdout",
     "output_type": "stream",
     "text": [
      "0.7\n",
      "2.333333333333333\n",
      "0.7\n"
     ]
    }
   ],
   "source": [
    "import math\n",
    "\n",
    "# define probability of success; \n",
    "# let's say, the probability I walk into class with a \n",
    "# coffee from Sbux on Wednesday\n",
    "p = 0.7\n",
    "print(p)\n",
    "#let's convert this to odds\n",
    "odds = p / (1-p)\n",
    "print(odds)\n",
    "#let's convert back to probability\n",
    "prob = odds / (odds + 1)\n",
    "print(prob)\n"
   ]
  },
  {
   "cell_type": "code",
   "execution_count": 2,
   "metadata": {},
   "outputs": [
    {
     "name": "stdout",
     "output_type": "stream",
     "text": [
      "0.7\n",
      "2.333333333333333\n",
      "0.8472978603872034\n",
      "0.7\n"
     ]
    }
   ],
   "source": [
    "#okay, next example - log odds; start with probability again\n",
    "p = 0.7\n",
    "print(p)\n",
    "#calculate odds\n",
    "odds = p / (1-p)\n",
    "print(odds)\n",
    "#convert to log-odds\n",
    "logodds = math.log(odds)\n",
    "print(logodds)\n",
    "#convert back to probability using sigmoid function\n",
    "prob = 1/(1+math.exp(-logodds))\n",
    "print(prob)"
   ]
  },
  {
   "attachments": {},
   "cell_type": "markdown",
   "metadata": {},
   "source": [
    "Now let's start with estimating model parameters. Again, MLE is a framework we can use to estimate parameters. We are trying to maximize the conditional probability of observing the data (X) given a specific probability distribution and its parameters.\n",
    "\n",
    "For supervised learning, we can summarize the conditional probability as predicting the probability if the output, given the input:\n",
    "\n",
    "$$P(Y | X)$$\n",
    "\n",
    "To calculate maximum likelihood, we need start somewhere (i.e., make an assumption about the distribution). For logistic regression, we assume a Binomial distribution. Each example in a binomial distribution is a Bernoulli trial. Since the Bernoulli distribution has a single parameter (p), we can describe this as:\n",
    "\n",
    "$$P(y=1) = p$$\n",
    "$$P(y=0) = 1-p$$\n",
    "\n",
    "The mean of the Bernoulli distribution, therefore is:\n",
    "\n",
    "$$\\mu = P(y=1)*1 + P(y=0)*0$$\n",
    "\n",
    "THEREFORE, to calculate likelihood of a specific input, where the probability is given by our prediction function, we have:\n",
    "\n",
    "$$L = \\hat{y}*y + (1-\\hat{y})*(1-y)$$\n",
    "\n",
    "Let us test this function here:"
   ]
  },
  {
   "cell_type": "code",
   "execution_count": 3,
   "metadata": {},
   "outputs": [
    {
     "name": "stdout",
     "output_type": "stream",
     "text": [
      "0.9\n"
     ]
    }
   ],
   "source": [
    "def likelihood(y,yhat):\n",
    "    return yhat * y +(1-yhat)*(1-y)\n",
    "\n",
    "y, yhat = 1,0.9\n",
    "print(likelihood(y,yhat))"
   ]
  },
  {
   "attachments": {},
   "cell_type": "markdown",
   "metadata": {},
   "source": [
    "Now we can transform the likelihood into LOG-likelihood by adding the log function:"
   ]
  },
  {
   "cell_type": "code",
   "execution_count": 4,
   "metadata": {},
   "outputs": [
    {
     "name": "stdout",
     "output_type": "stream",
     "text": [
      "-0.10536051565782628\n"
     ]
    }
   ],
   "source": [
    "loglikelihood = math.log(yhat)*y+math.log(1-yhat)*(1-y)\n",
    "print(loglikelihood)"
   ]
  },
  {
   "attachments": {},
   "cell_type": "markdown",
   "metadata": {},
   "source": [
    "To find the maximum likelihood, we can sum up all of the logs of all the likelihoods. We would essentially start with a baseline model, and continue to iterate until we have a model that maximizes likelihood. Generally we can use gradient descent (we will cover this in a later session) to find the optimal coefficients. Let's build a logistic regression function from scratch for Titanic, and then we'll do it with the sklearn library."
   ]
  },
  {
   "cell_type": "code",
   "execution_count": 5,
   "metadata": {},
   "outputs": [],
   "source": [
    "import numpy as np\n",
    "\n",
    "#define a class which holds data and functions\n",
    "class LogisticRegression:\n",
    "    def __init__(self, x,y): #this is a function to initiate the class\n",
    "        self.intercept = np.ones((x.shape[0],1)) #create an array of ones same length as x variable, 1 column\n",
    "        self.x = np.concatenate((self.intercept,x),axis=1) #puts array of x values + array of ones side by side; note - x must be in array format\n",
    "        self.weight = np.zeros(self.x.shape[1]) #makes array of zeros with the same number of columns as x\n",
    "        self.y=y #output variable, also must be in array format\n",
    "\n",
    "    #sigmoid method\n",
    "    def sigmoid(self,x,weight):\n",
    "        z = np.dot(x,weight) #take the dot product of x-array, and weights \n",
    "        return 1 / (1+np.exp(-z)) #sigmoid function\n",
    "\n",
    "    #loss calculation\n",
    "    def loss(self, h, y): #y is the actual class; h is the probability of the class; this is the log loss function which we want to minimize\n",
    "        return (-y * np.log(h) - (1-y) *np.log(1-h)).mean() \n",
    "        \n",
    "    #gradient calculation\n",
    "    def gradient_descent(self, X, h, y): #gradient descent we use to minimize log function above, and find the best coefficients / straight line\n",
    "        return np.dot(X.T, (h-y)) / y.shape[0]\n",
    "        \n",
    "    #define fitting function\n",
    "    def fit(self, lr, iterations): #lr is the learning rate the model uses to determine the step size at each iteration while moving toward a minimum loss funciton - we'll cover this in gradient descent \n",
    "        for i in range(iterations): #basically we're doing a bunch of iterations; sigmoud, calculate loss, gradient descent\n",
    "            sigma = self.sigmoid(self.x,self.weight)\n",
    "            loss = self.loss(sigma,self.y)\n",
    "            dW = self.gradient_descent(self.x, sigma, self.y)\n",
    "\n",
    "            #update weights\n",
    "            self.weight -=lr*dW #then find best weights\n",
    "        return print(\"finito!\")\n",
    "        \n",
    "    #predict function\n",
    "    def predict(self,x_new,threshold): #fitting function, plus ability to set threshold\n",
    "        x_new = np.concatenate((self.intercept, x_new), axis=1) #repeat process above\n",
    "        result = self.sigmoid(x_new, self.weight)\n",
    "        result = result >= threshold #returns true/false if above threshold\n",
    "        y_pred = np.zeros(result.shape[0]) #create array of zeroes\n",
    "        for i in range(len(y_pred)):\n",
    "            if result[i] == True:\n",
    "                y_pred[i] =1 #replace 0 in array if probability is above threshold\n",
    "            else:\n",
    "                continue\n",
    "        return y_pred #return array\n"
   ]
  },
  {
   "attachments": {},
   "cell_type": "markdown",
   "metadata": {},
   "source": [
    "Let's try this out on Titanic - and then we'll use the sklearn logistic regression function and also compare results with other classifiers."
   ]
  },
  {
   "cell_type": "code",
   "execution_count": 6,
   "metadata": {},
   "outputs": [],
   "source": [
    "from seaborn import load_dataset #titanic lives in seaborn\n",
    "import pandas as pd\n",
    "import seaborn as sns\n",
    "\n",
    "data = load_dataset('titanic')"
   ]
  },
  {
   "cell_type": "code",
   "execution_count": 7,
   "metadata": {},
   "outputs": [
    {
     "data": {
      "text/html": [
       "<div>\n",
       "<style scoped>\n",
       "    .dataframe tbody tr th:only-of-type {\n",
       "        vertical-align: middle;\n",
       "    }\n",
       "\n",
       "    .dataframe tbody tr th {\n",
       "        vertical-align: top;\n",
       "    }\n",
       "\n",
       "    .dataframe thead th {\n",
       "        text-align: right;\n",
       "    }\n",
       "</style>\n",
       "<table border=\"1\" class=\"dataframe\">\n",
       "  <thead>\n",
       "    <tr style=\"text-align: right;\">\n",
       "      <th></th>\n",
       "      <th>survived</th>\n",
       "      <th>pclass</th>\n",
       "      <th>sex</th>\n",
       "      <th>age</th>\n",
       "      <th>sibsp</th>\n",
       "      <th>parch</th>\n",
       "      <th>fare</th>\n",
       "      <th>embarked</th>\n",
       "      <th>class</th>\n",
       "      <th>who</th>\n",
       "      <th>adult_male</th>\n",
       "      <th>deck</th>\n",
       "      <th>embark_town</th>\n",
       "      <th>alive</th>\n",
       "      <th>alone</th>\n",
       "    </tr>\n",
       "  </thead>\n",
       "  <tbody>\n",
       "    <tr>\n",
       "      <th>0</th>\n",
       "      <td>0</td>\n",
       "      <td>3</td>\n",
       "      <td>male</td>\n",
       "      <td>22.0</td>\n",
       "      <td>1</td>\n",
       "      <td>0</td>\n",
       "      <td>7.2500</td>\n",
       "      <td>S</td>\n",
       "      <td>Third</td>\n",
       "      <td>man</td>\n",
       "      <td>True</td>\n",
       "      <td>NaN</td>\n",
       "      <td>Southampton</td>\n",
       "      <td>no</td>\n",
       "      <td>False</td>\n",
       "    </tr>\n",
       "    <tr>\n",
       "      <th>1</th>\n",
       "      <td>1</td>\n",
       "      <td>1</td>\n",
       "      <td>female</td>\n",
       "      <td>38.0</td>\n",
       "      <td>1</td>\n",
       "      <td>0</td>\n",
       "      <td>71.2833</td>\n",
       "      <td>C</td>\n",
       "      <td>First</td>\n",
       "      <td>woman</td>\n",
       "      <td>False</td>\n",
       "      <td>C</td>\n",
       "      <td>Cherbourg</td>\n",
       "      <td>yes</td>\n",
       "      <td>False</td>\n",
       "    </tr>\n",
       "    <tr>\n",
       "      <th>2</th>\n",
       "      <td>1</td>\n",
       "      <td>3</td>\n",
       "      <td>female</td>\n",
       "      <td>26.0</td>\n",
       "      <td>0</td>\n",
       "      <td>0</td>\n",
       "      <td>7.9250</td>\n",
       "      <td>S</td>\n",
       "      <td>Third</td>\n",
       "      <td>woman</td>\n",
       "      <td>False</td>\n",
       "      <td>NaN</td>\n",
       "      <td>Southampton</td>\n",
       "      <td>yes</td>\n",
       "      <td>True</td>\n",
       "    </tr>\n",
       "    <tr>\n",
       "      <th>3</th>\n",
       "      <td>1</td>\n",
       "      <td>1</td>\n",
       "      <td>female</td>\n",
       "      <td>35.0</td>\n",
       "      <td>1</td>\n",
       "      <td>0</td>\n",
       "      <td>53.1000</td>\n",
       "      <td>S</td>\n",
       "      <td>First</td>\n",
       "      <td>woman</td>\n",
       "      <td>False</td>\n",
       "      <td>C</td>\n",
       "      <td>Southampton</td>\n",
       "      <td>yes</td>\n",
       "      <td>False</td>\n",
       "    </tr>\n",
       "    <tr>\n",
       "      <th>4</th>\n",
       "      <td>0</td>\n",
       "      <td>3</td>\n",
       "      <td>male</td>\n",
       "      <td>35.0</td>\n",
       "      <td>0</td>\n",
       "      <td>0</td>\n",
       "      <td>8.0500</td>\n",
       "      <td>S</td>\n",
       "      <td>Third</td>\n",
       "      <td>man</td>\n",
       "      <td>True</td>\n",
       "      <td>NaN</td>\n",
       "      <td>Southampton</td>\n",
       "      <td>no</td>\n",
       "      <td>True</td>\n",
       "    </tr>\n",
       "  </tbody>\n",
       "</table>\n",
       "</div>"
      ],
      "text/plain": [
       "   survived  pclass     sex   age  sibsp  parch     fare embarked  class  \\\n",
       "0         0       3    male  22.0      1      0   7.2500        S  Third   \n",
       "1         1       1  female  38.0      1      0  71.2833        C  First   \n",
       "2         1       3  female  26.0      0      0   7.9250        S  Third   \n",
       "3         1       1  female  35.0      1      0  53.1000        S  First   \n",
       "4         0       3    male  35.0      0      0   8.0500        S  Third   \n",
       "\n",
       "     who  adult_male deck  embark_town alive  alone  \n",
       "0    man        True  NaN  Southampton    no  False  \n",
       "1  woman       False    C    Cherbourg   yes  False  \n",
       "2  woman       False  NaN  Southampton   yes   True  \n",
       "3  woman       False    C  Southampton   yes  False  \n",
       "4    man        True  NaN  Southampton    no   True  "
      ]
     },
     "execution_count": 7,
     "metadata": {},
     "output_type": "execute_result"
    }
   ],
   "source": [
    "data.head() #success! by the way, since i'm taking this from seaborn it's slightly different than the one we used in class\n"
   ]
  },
  {
   "cell_type": "code",
   "execution_count": 8,
   "metadata": {},
   "outputs": [
    {
     "name": "stdout",
     "output_type": "stream",
     "text": [
      "<class 'pandas.core.frame.DataFrame'>\n",
      "RangeIndex: 891 entries, 0 to 890\n",
      "Data columns (total 15 columns):\n",
      " #   Column       Non-Null Count  Dtype   \n",
      "---  ------       --------------  -----   \n",
      " 0   survived     891 non-null    int64   \n",
      " 1   pclass       891 non-null    int64   \n",
      " 2   sex          891 non-null    object  \n",
      " 3   age          714 non-null    float64 \n",
      " 4   sibsp        891 non-null    int64   \n",
      " 5   parch        891 non-null    int64   \n",
      " 6   fare         891 non-null    float64 \n",
      " 7   embarked     889 non-null    object  \n",
      " 8   class        891 non-null    category\n",
      " 9   who          891 non-null    object  \n",
      " 10  adult_male   891 non-null    bool    \n",
      " 11  deck         203 non-null    category\n",
      " 12  embark_town  889 non-null    object  \n",
      " 13  alive        891 non-null    object  \n",
      " 14  alone        891 non-null    bool    \n",
      "dtypes: bool(2), category(2), float64(2), int64(4), object(5)\n",
      "memory usage: 80.7+ KB\n"
     ]
    }
   ],
   "source": [
    "data.info() #missing data in Age, Embarked, Class, Deck, Embark Town"
   ]
  },
  {
   "attachments": {},
   "cell_type": "markdown",
   "metadata": {},
   "source": [
    "#### Cleaning and transforming data\n",
    "\n",
    "Let's get rid of thte deck column - not useful, too many missing values. We can also remove the adult_male column, since it's redundant to sex. We can remove 'alive' since we don't care how long survivors lived, and it's redundant to survive. We can remove 'alone'. Remove Embark_town since it's redundant with Embarked. We can fill in missing values for Age and for Embarked. Also let's get rid of \"who\", names won't be relevant here."
   ]
  },
  {
   "cell_type": "code",
   "execution_count": 9,
   "metadata": {},
   "outputs": [],
   "source": [
    "data.drop(['alive','alone','embark_town','who','adult_male','deck','class'], axis=1,inplace=True)"
   ]
  },
  {
   "cell_type": "code",
   "execution_count": 10,
   "metadata": {},
   "outputs": [
    {
     "data": {
      "text/html": [
       "<div>\n",
       "<style scoped>\n",
       "    .dataframe tbody tr th:only-of-type {\n",
       "        vertical-align: middle;\n",
       "    }\n",
       "\n",
       "    .dataframe tbody tr th {\n",
       "        vertical-align: top;\n",
       "    }\n",
       "\n",
       "    .dataframe thead th {\n",
       "        text-align: right;\n",
       "    }\n",
       "</style>\n",
       "<table border=\"1\" class=\"dataframe\">\n",
       "  <thead>\n",
       "    <tr style=\"text-align: right;\">\n",
       "      <th></th>\n",
       "      <th>survived</th>\n",
       "      <th>pclass</th>\n",
       "      <th>sex</th>\n",
       "      <th>age</th>\n",
       "      <th>sibsp</th>\n",
       "      <th>parch</th>\n",
       "      <th>fare</th>\n",
       "      <th>embarked</th>\n",
       "    </tr>\n",
       "  </thead>\n",
       "  <tbody>\n",
       "    <tr>\n",
       "      <th>0</th>\n",
       "      <td>0</td>\n",
       "      <td>3</td>\n",
       "      <td>male</td>\n",
       "      <td>22.0</td>\n",
       "      <td>1</td>\n",
       "      <td>0</td>\n",
       "      <td>7.2500</td>\n",
       "      <td>S</td>\n",
       "    </tr>\n",
       "    <tr>\n",
       "      <th>1</th>\n",
       "      <td>1</td>\n",
       "      <td>1</td>\n",
       "      <td>female</td>\n",
       "      <td>38.0</td>\n",
       "      <td>1</td>\n",
       "      <td>0</td>\n",
       "      <td>71.2833</td>\n",
       "      <td>C</td>\n",
       "    </tr>\n",
       "    <tr>\n",
       "      <th>2</th>\n",
       "      <td>1</td>\n",
       "      <td>3</td>\n",
       "      <td>female</td>\n",
       "      <td>26.0</td>\n",
       "      <td>0</td>\n",
       "      <td>0</td>\n",
       "      <td>7.9250</td>\n",
       "      <td>S</td>\n",
       "    </tr>\n",
       "    <tr>\n",
       "      <th>3</th>\n",
       "      <td>1</td>\n",
       "      <td>1</td>\n",
       "      <td>female</td>\n",
       "      <td>35.0</td>\n",
       "      <td>1</td>\n",
       "      <td>0</td>\n",
       "      <td>53.1000</td>\n",
       "      <td>S</td>\n",
       "    </tr>\n",
       "    <tr>\n",
       "      <th>4</th>\n",
       "      <td>0</td>\n",
       "      <td>3</td>\n",
       "      <td>male</td>\n",
       "      <td>35.0</td>\n",
       "      <td>0</td>\n",
       "      <td>0</td>\n",
       "      <td>8.0500</td>\n",
       "      <td>S</td>\n",
       "    </tr>\n",
       "    <tr>\n",
       "      <th>...</th>\n",
       "      <td>...</td>\n",
       "      <td>...</td>\n",
       "      <td>...</td>\n",
       "      <td>...</td>\n",
       "      <td>...</td>\n",
       "      <td>...</td>\n",
       "      <td>...</td>\n",
       "      <td>...</td>\n",
       "    </tr>\n",
       "    <tr>\n",
       "      <th>886</th>\n",
       "      <td>0</td>\n",
       "      <td>2</td>\n",
       "      <td>male</td>\n",
       "      <td>27.0</td>\n",
       "      <td>0</td>\n",
       "      <td>0</td>\n",
       "      <td>13.0000</td>\n",
       "      <td>S</td>\n",
       "    </tr>\n",
       "    <tr>\n",
       "      <th>887</th>\n",
       "      <td>1</td>\n",
       "      <td>1</td>\n",
       "      <td>female</td>\n",
       "      <td>19.0</td>\n",
       "      <td>0</td>\n",
       "      <td>0</td>\n",
       "      <td>30.0000</td>\n",
       "      <td>S</td>\n",
       "    </tr>\n",
       "    <tr>\n",
       "      <th>888</th>\n",
       "      <td>0</td>\n",
       "      <td>3</td>\n",
       "      <td>female</td>\n",
       "      <td>NaN</td>\n",
       "      <td>1</td>\n",
       "      <td>2</td>\n",
       "      <td>23.4500</td>\n",
       "      <td>S</td>\n",
       "    </tr>\n",
       "    <tr>\n",
       "      <th>889</th>\n",
       "      <td>1</td>\n",
       "      <td>1</td>\n",
       "      <td>male</td>\n",
       "      <td>26.0</td>\n",
       "      <td>0</td>\n",
       "      <td>0</td>\n",
       "      <td>30.0000</td>\n",
       "      <td>C</td>\n",
       "    </tr>\n",
       "    <tr>\n",
       "      <th>890</th>\n",
       "      <td>0</td>\n",
       "      <td>3</td>\n",
       "      <td>male</td>\n",
       "      <td>32.0</td>\n",
       "      <td>0</td>\n",
       "      <td>0</td>\n",
       "      <td>7.7500</td>\n",
       "      <td>Q</td>\n",
       "    </tr>\n",
       "  </tbody>\n",
       "</table>\n",
       "<p>891 rows × 8 columns</p>\n",
       "</div>"
      ],
      "text/plain": [
       "     survived  pclass     sex   age  sibsp  parch     fare embarked\n",
       "0           0       3    male  22.0      1      0   7.2500        S\n",
       "1           1       1  female  38.0      1      0  71.2833        C\n",
       "2           1       3  female  26.0      0      0   7.9250        S\n",
       "3           1       1  female  35.0      1      0  53.1000        S\n",
       "4           0       3    male  35.0      0      0   8.0500        S\n",
       "..        ...     ...     ...   ...    ...    ...      ...      ...\n",
       "886         0       2    male  27.0      0      0  13.0000        S\n",
       "887         1       1  female  19.0      0      0  30.0000        S\n",
       "888         0       3  female   NaN      1      2  23.4500        S\n",
       "889         1       1    male  26.0      0      0  30.0000        C\n",
       "890         0       3    male  32.0      0      0   7.7500        Q\n",
       "\n",
       "[891 rows x 8 columns]"
      ]
     },
     "execution_count": 10,
     "metadata": {},
     "output_type": "execute_result"
    }
   ],
   "source": [
    "data"
   ]
  },
  {
   "attachments": {},
   "cell_type": "markdown",
   "metadata": {},
   "source": [
    "We can fill in missing data for Age, using median by sex - this is probably the safest approach. For Embarked, we can just find the most popular value."
   ]
  },
  {
   "cell_type": "code",
   "execution_count": 11,
   "metadata": {},
   "outputs": [
    {
     "data": {
      "text/html": [
       "<div>\n",
       "<style scoped>\n",
       "    .dataframe tbody tr th:only-of-type {\n",
       "        vertical-align: middle;\n",
       "    }\n",
       "\n",
       "    .dataframe tbody tr th {\n",
       "        vertical-align: top;\n",
       "    }\n",
       "\n",
       "    .dataframe thead th {\n",
       "        text-align: right;\n",
       "    }\n",
       "</style>\n",
       "<table border=\"1\" class=\"dataframe\">\n",
       "  <thead>\n",
       "    <tr style=\"text-align: right;\">\n",
       "      <th></th>\n",
       "      <th>survived</th>\n",
       "      <th>pclass</th>\n",
       "      <th>sex</th>\n",
       "      <th>age</th>\n",
       "      <th>sibsp</th>\n",
       "      <th>parch</th>\n",
       "      <th>fare</th>\n",
       "    </tr>\n",
       "    <tr>\n",
       "      <th>embarked</th>\n",
       "      <th></th>\n",
       "      <th></th>\n",
       "      <th></th>\n",
       "      <th></th>\n",
       "      <th></th>\n",
       "      <th></th>\n",
       "      <th></th>\n",
       "    </tr>\n",
       "  </thead>\n",
       "  <tbody>\n",
       "    <tr>\n",
       "      <th>C</th>\n",
       "      <td>168</td>\n",
       "      <td>168</td>\n",
       "      <td>168</td>\n",
       "      <td>130</td>\n",
       "      <td>168</td>\n",
       "      <td>168</td>\n",
       "      <td>168</td>\n",
       "    </tr>\n",
       "    <tr>\n",
       "      <th>Q</th>\n",
       "      <td>77</td>\n",
       "      <td>77</td>\n",
       "      <td>77</td>\n",
       "      <td>28</td>\n",
       "      <td>77</td>\n",
       "      <td>77</td>\n",
       "      <td>77</td>\n",
       "    </tr>\n",
       "    <tr>\n",
       "      <th>S</th>\n",
       "      <td>644</td>\n",
       "      <td>644</td>\n",
       "      <td>644</td>\n",
       "      <td>554</td>\n",
       "      <td>644</td>\n",
       "      <td>644</td>\n",
       "      <td>644</td>\n",
       "    </tr>\n",
       "  </tbody>\n",
       "</table>\n",
       "</div>"
      ],
      "text/plain": [
       "          survived  pclass  sex  age  sibsp  parch  fare\n",
       "embarked                                                \n",
       "C              168     168  168  130    168    168   168\n",
       "Q               77      77   77   28     77     77    77\n",
       "S              644     644  644  554    644    644   644"
      ]
     },
     "execution_count": 11,
     "metadata": {},
     "output_type": "execute_result"
    }
   ],
   "source": [
    "data.groupby('embarked').count()"
   ]
  },
  {
   "cell_type": "code",
   "execution_count": 12,
   "metadata": {},
   "outputs": [],
   "source": [
    "data['age'] = data['age'].fillna(data.groupby('sex')['age'].transform('median'))"
   ]
  },
  {
   "cell_type": "code",
   "execution_count": 13,
   "metadata": {},
   "outputs": [],
   "source": [
    "data['embarked'] = data['embarked'].fillna('S')"
   ]
  },
  {
   "cell_type": "code",
   "execution_count": 14,
   "metadata": {},
   "outputs": [
    {
     "name": "stdout",
     "output_type": "stream",
     "text": [
      "<class 'pandas.core.frame.DataFrame'>\n",
      "RangeIndex: 891 entries, 0 to 890\n",
      "Data columns (total 8 columns):\n",
      " #   Column    Non-Null Count  Dtype  \n",
      "---  ------    --------------  -----  \n",
      " 0   survived  891 non-null    int64  \n",
      " 1   pclass    891 non-null    int64  \n",
      " 2   sex       891 non-null    object \n",
      " 3   age       891 non-null    float64\n",
      " 4   sibsp     891 non-null    int64  \n",
      " 5   parch     891 non-null    int64  \n",
      " 6   fare      891 non-null    float64\n",
      " 7   embarked  891 non-null    object \n",
      "dtypes: float64(2), int64(4), object(2)\n",
      "memory usage: 55.8+ KB\n"
     ]
    }
   ],
   "source": [
    "data.info()"
   ]
  },
  {
   "attachments": {},
   "cell_type": "markdown",
   "metadata": {},
   "source": [
    "Now let's make dummy variables for Embarked and Sex."
   ]
  },
  {
   "cell_type": "code",
   "execution_count": 15,
   "metadata": {},
   "outputs": [],
   "source": [
    "sex_dummies = pd.get_dummies(data['sex'])\n",
    "embarked_dummies = pd.get_dummies(data['embarked'])"
   ]
  },
  {
   "cell_type": "code",
   "execution_count": 16,
   "metadata": {},
   "outputs": [],
   "source": [
    "data = pd.concat([data,sex_dummies,embarked_dummies],axis=1)"
   ]
  },
  {
   "cell_type": "code",
   "execution_count": 17,
   "metadata": {},
   "outputs": [],
   "source": [
    "#drop old columns\n",
    "data.drop(['sex','embarked'],axis=1, inplace=True)"
   ]
  },
  {
   "cell_type": "code",
   "execution_count": 18,
   "metadata": {},
   "outputs": [
    {
     "data": {
      "text/plain": [
       "Index(['survived', 'pclass', 'age', 'sibsp', 'parch', 'fare', 'female', 'male',\n",
       "       'C', 'Q', 'S'],\n",
       "      dtype='object')"
      ]
     },
     "execution_count": 18,
     "metadata": {},
     "output_type": "execute_result"
    }
   ],
   "source": [
    "data.columns"
   ]
  },
  {
   "attachments": {},
   "cell_type": "markdown",
   "metadata": {},
   "source": [
    "Now we are ready. Let's try the model. Remember, we should convert our variables to numpy arrays."
   ]
  },
  {
   "cell_type": "code",
   "execution_count": 19,
   "metadata": {},
   "outputs": [],
   "source": [
    "x = np.array(data[['pclass', 'age', 'sibsp', 'parch', 'fare', 'female', 'male',\n",
    "       'C', 'Q', 'S']])\n",
    "y = np.array(data.survived)\n",
    " \n"
   ]
  },
  {
   "cell_type": "code",
   "execution_count": 20,
   "metadata": {},
   "outputs": [
    {
     "name": "stderr",
     "output_type": "stream",
     "text": [
      "/var/folders/y3/27ykk6jn6d9973zrtpqtdvy40000gn/T/ipykernel_20187/3806561667.py:18: RuntimeWarning: divide by zero encountered in log\n",
      "  return (-y * np.log(h) - (1-y) *np.log(1-h)).mean()\n",
      "/var/folders/y3/27ykk6jn6d9973zrtpqtdvy40000gn/T/ipykernel_20187/3806561667.py:18: RuntimeWarning: invalid value encountered in multiply\n",
      "  return (-y * np.log(h) - (1-y) *np.log(1-h)).mean()\n"
     ]
    },
    {
     "name": "stdout",
     "output_type": "stream",
     "text": [
      "finito!\n",
      "accuracy -> 0.7631874298540965\n"
     ]
    }
   ],
   "source": [
    "#create the object\n",
    "regressor = LogisticRegression(x,y)\n",
    " \n",
    "#fit the model, 0.1 learning rate, anad 5000 iterations (this is how we'll find max likelihood)\n",
    "regressor.fit(0.1 , 5000)\n",
    " \n",
    " \n",
    "y_pred = regressor.predict(x,0.5) #use 0.5 treshold\n",
    " \n",
    "print('accuracy -> {}'.format(sum(y_pred == y) / y.shape[0])) #print accuracy"
   ]
  },
  {
   "cell_type": "code",
   "execution_count": 21,
   "metadata": {},
   "outputs": [
    {
     "name": "stderr",
     "output_type": "stream",
     "text": [
      "/var/folders/y3/27ykk6jn6d9973zrtpqtdvy40000gn/T/ipykernel_20187/3806561667.py:18: RuntimeWarning: divide by zero encountered in log\n",
      "  return (-y * np.log(h) - (1-y) *np.log(1-h)).mean()\n",
      "/var/folders/y3/27ykk6jn6d9973zrtpqtdvy40000gn/T/ipykernel_20187/3806561667.py:18: RuntimeWarning: invalid value encountered in multiply\n",
      "  return (-y * np.log(h) - (1-y) *np.log(1-h)).mean()\n",
      "/var/folders/y3/27ykk6jn6d9973zrtpqtdvy40000gn/T/ipykernel_20187/3806561667.py:14: RuntimeWarning: overflow encountered in exp\n",
      "  return 1 / (1+np.exp(-z)) #sigmoid function\n"
     ]
    },
    {
     "name": "stdout",
     "output_type": "stream",
     "text": [
      "finito!\n",
      "accuracy -> 0.4051627384960718\n"
     ]
    }
   ],
   "source": [
    "#not good! Lets try different features\n",
    "x = np.array(data[['fare', 'female','age']])\n",
    "y = np.array(data.survived)\n",
    "\n",
    "#create the object\n",
    "regressor = LogisticRegression(x,y)\n",
    " \n",
    "#fit the model, 0.3 learning rate this time, anad 5000 iterations (this is how we'll find max likelihood)\n",
    "regressor.fit(0.3, 5000)\n",
    " \n",
    " \n",
    "y_pred = regressor.predict(x,0.5) #use 0.5 treshold\n",
    " \n",
    "print('accuracy -> {}'.format(sum(y_pred == y) / y.shape[0])) #print accuracy"
   ]
  },
  {
   "attachments": {},
   "cell_type": "markdown",
   "metadata": {},
   "source": [
    "The second model worked much better - I changed the learning rate to 0.3, and also reduced the number of input variables to Fare, Female (y/n), and Age. So... hopefully this gives you a good view of how we create a logistic regression. Of course we don't need to do this in the real world, so now let's use sklearn's regression and compare the results to Naive Bayes and KNN."
   ]
  },
  {
   "cell_type": "code",
   "execution_count": 22,
   "metadata": {},
   "outputs": [],
   "source": [
    "import statsmodels.api as sm\n",
    "from sklearn.linear_model import LogisticRegression\n",
    "from sklearn.naive_bayes import GaussianNB\n",
    "from sklearn.neighbors import KNeighborsClassifier\n",
    "from sklearn.model_selection import train_test_split\n",
    "from sklearn.metrics import accuracy_score, f1_score, precision_score, roc_curve, roc_auc_score, precision_recall_curve, confusion_matrix, recall_score\n"
   ]
  },
  {
   "cell_type": "code",
   "execution_count": 23,
   "metadata": {},
   "outputs": [],
   "source": [
    "# there are many more hyperparameters we can adjust in this version, \n",
    "# such as regularization terms (we'll cover this in a later module)\n",
    "# weights, solver type, etc. for now, we'll keep the default settings\n",
    "\n",
    "from sklearn.neighbors import KNeighborsClassifier\n",
    "\n",
    "\n",
    "log = LogisticRegression()\n",
    "nb = GaussianNB()\n",
    "knn = KNeighborsClassifier() #default neighbours is 5"
   ]
  },
  {
   "cell_type": "code",
   "execution_count": 24,
   "metadata": {},
   "outputs": [],
   "source": [
    "#split the data\n",
    "x_train, x_test, y_train, y_test = train_test_split(x,y, test_size=0.2)"
   ]
  },
  {
   "cell_type": "code",
   "execution_count": 25,
   "metadata": {},
   "outputs": [
    {
     "data": {
      "text/html": [
       "<style>#sk-container-id-1 {color: black;background-color: white;}#sk-container-id-1 pre{padding: 0;}#sk-container-id-1 div.sk-toggleable {background-color: white;}#sk-container-id-1 label.sk-toggleable__label {cursor: pointer;display: block;width: 100%;margin-bottom: 0;padding: 0.3em;box-sizing: border-box;text-align: center;}#sk-container-id-1 label.sk-toggleable__label-arrow:before {content: \"▸\";float: left;margin-right: 0.25em;color: #696969;}#sk-container-id-1 label.sk-toggleable__label-arrow:hover:before {color: black;}#sk-container-id-1 div.sk-estimator:hover label.sk-toggleable__label-arrow:before {color: black;}#sk-container-id-1 div.sk-toggleable__content {max-height: 0;max-width: 0;overflow: hidden;text-align: left;background-color: #f0f8ff;}#sk-container-id-1 div.sk-toggleable__content pre {margin: 0.2em;color: black;border-radius: 0.25em;background-color: #f0f8ff;}#sk-container-id-1 input.sk-toggleable__control:checked~div.sk-toggleable__content {max-height: 200px;max-width: 100%;overflow: auto;}#sk-container-id-1 input.sk-toggleable__control:checked~label.sk-toggleable__label-arrow:before {content: \"▾\";}#sk-container-id-1 div.sk-estimator input.sk-toggleable__control:checked~label.sk-toggleable__label {background-color: #d4ebff;}#sk-container-id-1 div.sk-label input.sk-toggleable__control:checked~label.sk-toggleable__label {background-color: #d4ebff;}#sk-container-id-1 input.sk-hidden--visually {border: 0;clip: rect(1px 1px 1px 1px);clip: rect(1px, 1px, 1px, 1px);height: 1px;margin: -1px;overflow: hidden;padding: 0;position: absolute;width: 1px;}#sk-container-id-1 div.sk-estimator {font-family: monospace;background-color: #f0f8ff;border: 1px dotted black;border-radius: 0.25em;box-sizing: border-box;margin-bottom: 0.5em;}#sk-container-id-1 div.sk-estimator:hover {background-color: #d4ebff;}#sk-container-id-1 div.sk-parallel-item::after {content: \"\";width: 100%;border-bottom: 1px solid gray;flex-grow: 1;}#sk-container-id-1 div.sk-label:hover label.sk-toggleable__label {background-color: #d4ebff;}#sk-container-id-1 div.sk-serial::before {content: \"\";position: absolute;border-left: 1px solid gray;box-sizing: border-box;top: 0;bottom: 0;left: 50%;z-index: 0;}#sk-container-id-1 div.sk-serial {display: flex;flex-direction: column;align-items: center;background-color: white;padding-right: 0.2em;padding-left: 0.2em;position: relative;}#sk-container-id-1 div.sk-item {position: relative;z-index: 1;}#sk-container-id-1 div.sk-parallel {display: flex;align-items: stretch;justify-content: center;background-color: white;position: relative;}#sk-container-id-1 div.sk-item::before, #sk-container-id-1 div.sk-parallel-item::before {content: \"\";position: absolute;border-left: 1px solid gray;box-sizing: border-box;top: 0;bottom: 0;left: 50%;z-index: -1;}#sk-container-id-1 div.sk-parallel-item {display: flex;flex-direction: column;z-index: 1;position: relative;background-color: white;}#sk-container-id-1 div.sk-parallel-item:first-child::after {align-self: flex-end;width: 50%;}#sk-container-id-1 div.sk-parallel-item:last-child::after {align-self: flex-start;width: 50%;}#sk-container-id-1 div.sk-parallel-item:only-child::after {width: 0;}#sk-container-id-1 div.sk-dashed-wrapped {border: 1px dashed gray;margin: 0 0.4em 0.5em 0.4em;box-sizing: border-box;padding-bottom: 0.4em;background-color: white;}#sk-container-id-1 div.sk-label label {font-family: monospace;font-weight: bold;display: inline-block;line-height: 1.2em;}#sk-container-id-1 div.sk-label-container {text-align: center;}#sk-container-id-1 div.sk-container {/* jupyter's `normalize.less` sets `[hidden] { display: none; }` but bootstrap.min.css set `[hidden] { display: none !important; }` so we also need the `!important` here to be able to override the default hidden behavior on the sphinx rendered scikit-learn.org. See: https://github.com/scikit-learn/scikit-learn/issues/21755 */display: inline-block !important;position: relative;}#sk-container-id-1 div.sk-text-repr-fallback {display: none;}</style><div id=\"sk-container-id-1\" class=\"sk-top-container\"><div class=\"sk-text-repr-fallback\"><pre>KNeighborsClassifier()</pre><b>In a Jupyter environment, please rerun this cell to show the HTML representation or trust the notebook. <br />On GitHub, the HTML representation is unable to render, please try loading this page with nbviewer.org.</b></div><div class=\"sk-container\" hidden><div class=\"sk-item\"><div class=\"sk-estimator sk-toggleable\"><input class=\"sk-toggleable__control sk-hidden--visually\" id=\"sk-estimator-id-1\" type=\"checkbox\" checked><label for=\"sk-estimator-id-1\" class=\"sk-toggleable__label sk-toggleable__label-arrow\">KNeighborsClassifier</label><div class=\"sk-toggleable__content\"><pre>KNeighborsClassifier()</pre></div></div></div></div></div>"
      ],
      "text/plain": [
       "KNeighborsClassifier()"
      ]
     },
     "execution_count": 25,
     "metadata": {},
     "output_type": "execute_result"
    }
   ],
   "source": [
    "log.fit(x_train,y_train)\n",
    "nb.fit(x_train,y_train)\n",
    "knn.fit(x_train,y_train)"
   ]
  },
  {
   "attachments": {},
   "cell_type": "markdown",
   "metadata": {},
   "source": [
    "We've spoken about classification models in the past and optimizing for the threshold (i.e., the default is 50%, but what if we wanted higher thresholds and they were more accurate?). In the example below, if I use the predict() function, I will basically get the 0/1 outputs. However, I can use a predict_proba() function so I can see the actual probabilities that the model is predicting. This will help me find an optimal threshold."
   ]
  },
  {
   "cell_type": "code",
   "execution_count": 26,
   "metadata": {},
   "outputs": [],
   "source": [
    "yhat_log = log.predict_proba(x_test)\n",
    "yhat_nb = nb.predict_proba(x_test)\n",
    "yhat_knn = knn.predict(x_test)"
   ]
  },
  {
   "attachments": {},
   "cell_type": "markdown",
   "metadata": {},
   "source": [
    "In the next cell, for each observation, we can see the probability that the observation is a 1 and the probability that it's a 0. For example, the first entry has a 73% chance of being a 0 (dead), and a 27% chance of being a 1 (alive)."
   ]
  },
  {
   "cell_type": "code",
   "execution_count": 27,
   "metadata": {},
   "outputs": [
    {
     "data": {
      "text/plain": [
       "array([[0.18065302, 0.81934698],\n",
       "       [0.83282647, 0.16717353],\n",
       "       [0.63085806, 0.36914194],\n",
       "       [0.25938028, 0.74061972],\n",
       "       [0.73753545, 0.26246455],\n",
       "       [0.30842969, 0.69157031],\n",
       "       [0.32802622, 0.67197378],\n",
       "       [0.2626069 , 0.7373931 ],\n",
       "       [0.30529983, 0.69470017],\n",
       "       [0.8734155 , 0.1265845 ],\n",
       "       [0.3055831 , 0.6944169 ],\n",
       "       [0.83997641, 0.16002359],\n",
       "       [0.30548847, 0.69451153],\n",
       "       [0.82594512, 0.17405488],\n",
       "       [0.75621406, 0.24378594],\n",
       "       [0.2294372 , 0.7705628 ],\n",
       "       [0.3427254 , 0.6572746 ],\n",
       "       [0.86089763, 0.13910237],\n",
       "       [0.84536848, 0.15463152],\n",
       "       [0.18342442, 0.81657558],\n",
       "       [0.81839507, 0.18160493],\n",
       "       [0.80992709, 0.19007291],\n",
       "       [0.21534813, 0.78465187],\n",
       "       [0.82903794, 0.17096206],\n",
       "       [0.12476017, 0.87523983],\n",
       "       [0.82294837, 0.17705163],\n",
       "       [0.81996782, 0.18003218],\n",
       "       [0.84536848, 0.15463152],\n",
       "       [0.7712451 , 0.2287549 ],\n",
       "       [0.88657084, 0.11342916],\n",
       "       [0.84024335, 0.15975665],\n",
       "       [0.81824051, 0.18175949],\n",
       "       [0.70379808, 0.29620192],\n",
       "       [0.82846573, 0.17153427],\n",
       "       [0.73763077, 0.26236923],\n",
       "       [0.82244395, 0.17755605],\n",
       "       [0.33489438, 0.66510562],\n",
       "       [0.77858475, 0.22141525],\n",
       "       [0.7574246 , 0.2425754 ],\n",
       "       [0.84024335, 0.15975665],\n",
       "       [0.84312319, 0.15687681],\n",
       "       [0.31676008, 0.68323992],\n",
       "       [0.82459191, 0.17540809],\n",
       "       [0.84462999, 0.15537001],\n",
       "       [0.86789385, 0.13210615],\n",
       "       [0.78976002, 0.21023998],\n",
       "       [0.30675343, 0.69324657],\n",
       "       [0.00846855, 0.99153145],\n",
       "       [0.86471123, 0.13528877],\n",
       "       [0.83514411, 0.16485589],\n",
       "       [0.84052241, 0.15947759],\n",
       "       [0.75268658, 0.24731342],\n",
       "       [0.84870389, 0.15129611],\n",
       "       [0.30265601, 0.69734399],\n",
       "       [0.83997641, 0.16002359],\n",
       "       [0.01670574, 0.98329426],\n",
       "       [0.30745055, 0.69254945],\n",
       "       [0.84024335, 0.15975665],\n",
       "       [0.82591231, 0.17408769],\n",
       "       [0.86918242, 0.13081758],\n",
       "       [0.25040449, 0.74959551],\n",
       "       [0.84061836, 0.15938164],\n",
       "       [0.30293666, 0.69706334],\n",
       "       [0.80517189, 0.19482811],\n",
       "       [0.64409453, 0.35590547],\n",
       "       [0.83093781, 0.16906219],\n",
       "       [0.10644914, 0.89355086],\n",
       "       [0.80489648, 0.19510352],\n",
       "       [0.84024335, 0.15975665],\n",
       "       [0.38765334, 0.61234666],\n",
       "       [0.81635168, 0.18364832],\n",
       "       [0.31652204, 0.68347796],\n",
       "       [0.8418728 , 0.1581272 ],\n",
       "       [0.24205542, 0.75794458],\n",
       "       [0.32839335, 0.67160665],\n",
       "       [0.33728798, 0.66271202],\n",
       "       [0.22978327, 0.77021673],\n",
       "       [0.82885519, 0.17114481],\n",
       "       [0.80323008, 0.19676992],\n",
       "       [0.85343492, 0.14656508],\n",
       "       [0.82738312, 0.17261688],\n",
       "       [0.30610968, 0.69389032],\n",
       "       [0.80531125, 0.19468875],\n",
       "       [0.8502013 , 0.1497987 ],\n",
       "       [0.10439854, 0.89560146],\n",
       "       [0.36771635, 0.63228365],\n",
       "       [0.84053862, 0.15946138],\n",
       "       [0.0754406 , 0.9245594 ],\n",
       "       [0.23048249, 0.76951751],\n",
       "       [0.82856106, 0.17143894],\n",
       "       [0.3112711 , 0.6887289 ],\n",
       "       [0.32802622, 0.67197378],\n",
       "       [0.84024335, 0.15975665],\n",
       "       [0.30385011, 0.69614989],\n",
       "       [0.8214853 , 0.1785147 ],\n",
       "       [0.24292165, 0.75707835],\n",
       "       [0.21115394, 0.78884606],\n",
       "       [0.72056008, 0.27943992],\n",
       "       [0.83507577, 0.16492423],\n",
       "       [0.28013526, 0.71986474],\n",
       "       [0.55356327, 0.44643673],\n",
       "       [0.82482159, 0.17517841],\n",
       "       [0.29382846, 0.70617154],\n",
       "       [0.835362  , 0.164638  ],\n",
       "       [0.83671647, 0.16328353],\n",
       "       [0.7918479 , 0.2081521 ],\n",
       "       [0.19502282, 0.80497718],\n",
       "       [0.80745988, 0.19254012],\n",
       "       [0.32873681, 0.67126319],\n",
       "       [0.70554949, 0.29445051],\n",
       "       [0.15560307, 0.84439693],\n",
       "       [0.83923449, 0.16076551],\n",
       "       [0.81948634, 0.18051366],\n",
       "       [0.85669819, 0.14330181],\n",
       "       [0.21819809, 0.78180191],\n",
       "       [0.25829777, 0.74170223],\n",
       "       [0.90045638, 0.09954362],\n",
       "       [0.82947508, 0.17052492],\n",
       "       [0.31099416, 0.68900584],\n",
       "       [0.82547365, 0.17452635],\n",
       "       [0.33359447, 0.66640553],\n",
       "       [0.83160055, 0.16839945],\n",
       "       [0.85343492, 0.14656508],\n",
       "       [0.28357004, 0.71642996],\n",
       "       [0.70978267, 0.29021733],\n",
       "       [0.85412794, 0.14587206],\n",
       "       [0.82884751, 0.17115249],\n",
       "       [0.2854064 , 0.7145936 ],\n",
       "       [0.86541023, 0.13458977],\n",
       "       [0.30039646, 0.69960354],\n",
       "       [0.85365191, 0.14634809],\n",
       "       [0.311675  , 0.688325  ],\n",
       "       [0.25199815, 0.74800185],\n",
       "       [0.29414948, 0.70585052],\n",
       "       [0.82752899, 0.17247101],\n",
       "       [0.84049543, 0.15950457],\n",
       "       [0.32394939, 0.67605061],\n",
       "       [0.88112415, 0.11887585],\n",
       "       [0.01722282, 0.98277718],\n",
       "       [0.84084068, 0.15915932],\n",
       "       [0.7103187 , 0.2896813 ],\n",
       "       [0.81466398, 0.18533602],\n",
       "       [0.81687418, 0.18312582],\n",
       "       [0.85691222, 0.14308778],\n",
       "       [0.79986509, 0.20013491],\n",
       "       [0.83103014, 0.16896986],\n",
       "       [0.85849754, 0.14150246],\n",
       "       [0.14629745, 0.85370255],\n",
       "       [0.24410604, 0.75589396],\n",
       "       [0.33940888, 0.66059112],\n",
       "       [0.84049543, 0.15950457],\n",
       "       [0.82382368, 0.17617632],\n",
       "       [0.29765691, 0.70234309],\n",
       "       [0.08855568, 0.91144432],\n",
       "       [0.82025758, 0.17974242],\n",
       "       [0.84098047, 0.15901953],\n",
       "       [0.83856028, 0.16143972],\n",
       "       [0.32844082, 0.67155918],\n",
       "       [0.17540835, 0.82459165],\n",
       "       [0.18356868, 0.81643132],\n",
       "       [0.81897502, 0.18102498],\n",
       "       [0.83312719, 0.16687281],\n",
       "       [0.02943994, 0.97056006],\n",
       "       [0.74104603, 0.25895397],\n",
       "       [0.20682326, 0.79317674],\n",
       "       [0.27096581, 0.72903419],\n",
       "       [0.29472696, 0.70527304],\n",
       "       [0.73784046, 0.26215954],\n",
       "       [0.65961061, 0.34038939],\n",
       "       [0.81757482, 0.18242518],\n",
       "       [0.80872253, 0.19127747],\n",
       "       [0.87527088, 0.12472912],\n",
       "       [0.2276205 , 0.7723795 ],\n",
       "       [0.82937954, 0.17062046],\n",
       "       [0.67849913, 0.32150087],\n",
       "       [0.22217575, 0.77782425],\n",
       "       [0.85223636, 0.14776364],\n",
       "       [0.83389065, 0.16610935],\n",
       "       [0.87624657, 0.12375343]])"
      ]
     },
     "execution_count": 27,
     "metadata": {},
     "output_type": "execute_result"
    }
   ],
   "source": [
    "yhat_log"
   ]
  },
  {
   "attachments": {},
   "cell_type": "markdown",
   "metadata": {},
   "source": [
    "Let's do a quick comparison to the predict function: we can see below that the same first observation was naturally classified as a 0. "
   ]
  },
  {
   "cell_type": "code",
   "execution_count": 28,
   "metadata": {},
   "outputs": [
    {
     "data": {
      "text/plain": [
       "array([1, 0, 0, 1, 0, 1, 1, 1, 1, 0, 1, 0, 1, 0, 0, 1, 1, 0, 0, 1, 0, 0,\n",
       "       1, 0, 1, 0, 0, 0, 0, 0, 0, 0, 0, 0, 0, 0, 1, 0, 0, 0, 0, 1, 0, 0,\n",
       "       0, 0, 1, 1, 0, 0, 0, 0, 0, 1, 0, 1, 1, 0, 0, 0, 1, 0, 1, 0, 0, 0,\n",
       "       1, 0, 0, 1, 0, 1, 0, 1, 1, 1, 1, 0, 0, 0, 0, 1, 0, 0, 1, 1, 0, 1,\n",
       "       1, 0, 1, 1, 0, 1, 0, 1, 1, 0, 0, 1, 0, 0, 1, 0, 0, 0, 1, 0, 1, 0,\n",
       "       1, 0, 0, 0, 1, 1, 0, 0, 1, 0, 1, 0, 0, 1, 0, 0, 0, 1, 0, 1, 0, 1,\n",
       "       1, 1, 0, 0, 1, 0, 1, 0, 0, 0, 0, 0, 0, 0, 0, 1, 1, 1, 0, 0, 1, 1,\n",
       "       0, 0, 0, 1, 1, 1, 0, 0, 1, 0, 1, 1, 1, 0, 0, 0, 0, 0, 1, 0, 0, 1,\n",
       "       0, 0, 0])"
      ]
     },
     "execution_count": 28,
     "metadata": {},
     "output_type": "execute_result"
    }
   ],
   "source": [
    "log.predict(x_test)"
   ]
  },
  {
   "attachments": {},
   "cell_type": "markdown",
   "metadata": {},
   "source": [
    "Moving on. I'm going to isolate only the probabilities that something is a 1 (alive). "
   ]
  },
  {
   "cell_type": "code",
   "execution_count": 29,
   "metadata": {},
   "outputs": [
    {
     "data": {
      "text/plain": [
       "array([0.81934698, 0.16717353, 0.36914194, 0.74061972, 0.26246455,\n",
       "       0.69157031, 0.67197378, 0.7373931 , 0.69470017, 0.1265845 ,\n",
       "       0.6944169 , 0.16002359, 0.69451153, 0.17405488, 0.24378594,\n",
       "       0.7705628 , 0.6572746 , 0.13910237, 0.15463152, 0.81657558,\n",
       "       0.18160493, 0.19007291, 0.78465187, 0.17096206, 0.87523983,\n",
       "       0.17705163, 0.18003218, 0.15463152, 0.2287549 , 0.11342916,\n",
       "       0.15975665, 0.18175949, 0.29620192, 0.17153427, 0.26236923,\n",
       "       0.17755605, 0.66510562, 0.22141525, 0.2425754 , 0.15975665,\n",
       "       0.15687681, 0.68323992, 0.17540809, 0.15537001, 0.13210615,\n",
       "       0.21023998, 0.69324657, 0.99153145, 0.13528877, 0.16485589,\n",
       "       0.15947759, 0.24731342, 0.15129611, 0.69734399, 0.16002359,\n",
       "       0.98329426, 0.69254945, 0.15975665, 0.17408769, 0.13081758,\n",
       "       0.74959551, 0.15938164, 0.69706334, 0.19482811, 0.35590547,\n",
       "       0.16906219, 0.89355086, 0.19510352, 0.15975665, 0.61234666,\n",
       "       0.18364832, 0.68347796, 0.1581272 , 0.75794458, 0.67160665,\n",
       "       0.66271202, 0.77021673, 0.17114481, 0.19676992, 0.14656508,\n",
       "       0.17261688, 0.69389032, 0.19468875, 0.1497987 , 0.89560146,\n",
       "       0.63228365, 0.15946138, 0.9245594 , 0.76951751, 0.17143894,\n",
       "       0.6887289 , 0.67197378, 0.15975665, 0.69614989, 0.1785147 ,\n",
       "       0.75707835, 0.78884606, 0.27943992, 0.16492423, 0.71986474,\n",
       "       0.44643673, 0.17517841, 0.70617154, 0.164638  , 0.16328353,\n",
       "       0.2081521 , 0.80497718, 0.19254012, 0.67126319, 0.29445051,\n",
       "       0.84439693, 0.16076551, 0.18051366, 0.14330181, 0.78180191,\n",
       "       0.74170223, 0.09954362, 0.17052492, 0.68900584, 0.17452635,\n",
       "       0.66640553, 0.16839945, 0.14656508, 0.71642996, 0.29021733,\n",
       "       0.14587206, 0.17115249, 0.7145936 , 0.13458977, 0.69960354,\n",
       "       0.14634809, 0.688325  , 0.74800185, 0.70585052, 0.17247101,\n",
       "       0.15950457, 0.67605061, 0.11887585, 0.98277718, 0.15915932,\n",
       "       0.2896813 , 0.18533602, 0.18312582, 0.14308778, 0.20013491,\n",
       "       0.16896986, 0.14150246, 0.85370255, 0.75589396, 0.66059112,\n",
       "       0.15950457, 0.17617632, 0.70234309, 0.91144432, 0.17974242,\n",
       "       0.15901953, 0.16143972, 0.67155918, 0.82459165, 0.81643132,\n",
       "       0.18102498, 0.16687281, 0.97056006, 0.25895397, 0.79317674,\n",
       "       0.72903419, 0.70527304, 0.26215954, 0.34038939, 0.18242518,\n",
       "       0.19127747, 0.12472912, 0.7723795 , 0.17062046, 0.32150087,\n",
       "       0.77782425, 0.14776364, 0.16610935, 0.12375343])"
      ]
     },
     "execution_count": 29,
     "metadata": {},
     "output_type": "execute_result"
    }
   ],
   "source": [
    "yhat_log[:,1]"
   ]
  },
  {
   "attachments": {},
   "cell_type": "markdown",
   "metadata": {},
   "source": [
    "Now we can use the roc_curve() function to plot these. A True Positive will be anything over 50%, because this would be classified as a 1. A False Positive will be anything where the prediction was over 50% but actually the output should have been a 0. You can print out each element to see what it looks like."
   ]
  },
  {
   "cell_type": "code",
   "execution_count": 30,
   "metadata": {},
   "outputs": [],
   "source": [
    "fpr, tpr, thresholds = roc_curve(y_test, yhat_log[:,1])"
   ]
  },
  {
   "cell_type": "code",
   "execution_count": 31,
   "metadata": {},
   "outputs": [
    {
     "data": {
      "text/plain": [
       "array([0.        , 0.        , 0.        , 0.01801802, 0.01801802,\n",
       "       0.02702703, 0.02702703, 0.03603604, 0.03603604, 0.04504505,\n",
       "       0.04504505, 0.05405405, 0.05405405, 0.06306306, 0.06306306,\n",
       "       0.07207207, 0.07207207, 0.08108108, 0.08108108, 0.09009009,\n",
       "       0.09009009, 0.10810811, 0.10810811, 0.11711712, 0.11711712,\n",
       "       0.12612613, 0.12612613, 0.15315315, 0.15315315, 0.17117117,\n",
       "       0.17117117, 0.17117117, 0.17117117, 0.18018018, 0.18018018,\n",
       "       0.18918919, 0.18918919, 0.1981982 , 0.1981982 , 0.20720721,\n",
       "       0.20720721, 0.22522523, 0.22522523, 0.23423423, 0.23423423,\n",
       "       0.27027027, 0.27027027, 0.27927928, 0.27927928, 0.28828829,\n",
       "       0.28828829, 0.32432432, 0.32432432, 0.33333333, 0.33333333,\n",
       "       0.36936937, 0.36936937, 0.37837838, 0.37837838, 0.41441441,\n",
       "       0.41441441, 0.42342342, 0.42342342, 0.51351351, 0.51351351,\n",
       "       0.55855856, 0.55855856, 0.58558559, 0.58558559, 0.64864865,\n",
       "       0.64864865, 0.67567568, 0.69369369, 0.72972973, 0.74774775,\n",
       "       0.81981982, 0.83783784, 0.86486486, 0.88288288, 0.88288288,\n",
       "       0.92792793, 0.92792793, 0.99099099, 0.99099099, 1.        ])"
      ]
     },
     "execution_count": 31,
     "metadata": {},
     "output_type": "execute_result"
    }
   ],
   "source": [
    "fpr"
   ]
  },
  {
   "cell_type": "code",
   "execution_count": 32,
   "metadata": {},
   "outputs": [
    {
     "data": {
      "text/plain": [
       "array([0.        , 0.01470588, 0.17647059, 0.17647059, 0.20588235,\n",
       "       0.20588235, 0.22058824, 0.22058824, 0.23529412, 0.23529412,\n",
       "       0.26470588, 0.26470588, 0.29411765, 0.29411765, 0.30882353,\n",
       "       0.30882353, 0.38235294, 0.38235294, 0.39705882, 0.39705882,\n",
       "       0.47058824, 0.47058824, 0.48529412, 0.48529412, 0.51470588,\n",
       "       0.51470588, 0.52941176, 0.52941176, 0.55882353, 0.55882353,\n",
       "       0.57352941, 0.60294118, 0.63235294, 0.63235294, 0.64705882,\n",
       "       0.64705882, 0.69117647, 0.69117647, 0.70588235, 0.70588235,\n",
       "       0.72058824, 0.72058824, 0.73529412, 0.73529412, 0.75      ,\n",
       "       0.75      , 0.76470588, 0.76470588, 0.77941176, 0.77941176,\n",
       "       0.79411765, 0.79411765, 0.80882353, 0.80882353, 0.82352941,\n",
       "       0.82352941, 0.83823529, 0.83823529, 0.85294118, 0.85294118,\n",
       "       0.86764706, 0.86764706, 0.88235294, 0.88235294, 0.89705882,\n",
       "       0.89705882, 0.91176471, 0.91176471, 0.92647059, 0.92647059,\n",
       "       0.94117647, 0.94117647, 0.94117647, 0.95588235, 0.95588235,\n",
       "       0.95588235, 0.95588235, 0.95588235, 0.95588235, 0.97058824,\n",
       "       0.97058824, 0.98529412, 0.98529412, 1.        , 1.        ])"
      ]
     },
     "execution_count": 32,
     "metadata": {},
     "output_type": "execute_result"
    }
   ],
   "source": [
    "tpr"
   ]
  },
  {
   "cell_type": "code",
   "execution_count": 33,
   "metadata": {},
   "outputs": [
    {
     "data": {
      "text/plain": [
       "array([1.99153145, 0.99153145, 0.82459165, 0.81657558, 0.80497718,\n",
       "       0.79317674, 0.78884606, 0.78465187, 0.78180191, 0.77782425,\n",
       "       0.7705628 , 0.77021673, 0.75794458, 0.75707835, 0.75589396,\n",
       "       0.74959551, 0.72903419, 0.71986474, 0.71642996, 0.7145936 ,\n",
       "       0.69960354, 0.69706334, 0.69614989, 0.69470017, 0.6944169 ,\n",
       "       0.69389032, 0.69324657, 0.68900584, 0.688325  , 0.68323992,\n",
       "       0.67605061, 0.67197378, 0.67155918, 0.67126319, 0.66640553,\n",
       "       0.66510562, 0.6572746 , 0.63228365, 0.61234666, 0.44643673,\n",
       "       0.36914194, 0.34038939, 0.32150087, 0.29620192, 0.29445051,\n",
       "       0.26246455, 0.26236923, 0.26215954, 0.25895397, 0.24731342,\n",
       "       0.24378594, 0.21023998, 0.2081521 , 0.20013491, 0.19676992,\n",
       "       0.19254012, 0.19127747, 0.19007291, 0.18533602, 0.18175949,\n",
       "       0.18160493, 0.18102498, 0.18051366, 0.17408769, 0.17405488,\n",
       "       0.17115249, 0.17114481, 0.17052492, 0.16906219, 0.16485589,\n",
       "       0.164638  , 0.16076551, 0.16002359, 0.15975665, 0.15950457,\n",
       "       0.15537001, 0.15463152, 0.14776364, 0.14656508, 0.14634809,\n",
       "       0.13910237, 0.13528877, 0.11887585, 0.11342916, 0.09954362])"
      ]
     },
     "execution_count": 33,
     "metadata": {},
     "output_type": "execute_result"
    }
   ],
   "source": [
    "thresholds"
   ]
  },
  {
   "cell_type": "code",
   "execution_count": 34,
   "metadata": {},
   "outputs": [
    {
     "data": {
      "text/plain": [
       "Text(0, 0.5, 'True Positive Rate')"
      ]
     },
     "execution_count": 34,
     "metadata": {},
     "output_type": "execute_result"
    },
    {
     "data": {
      "image/png": "[encoded data removed]",
      "text/plain": [
       "<Figure size 640x480 with 1 Axes>"
      ]
     },
     "metadata": {},
     "output_type": "display_data"
    }
   ],
   "source": [
    "import matplotlib.pyplot as plt\n",
    "plt.plot(fpr,tpr)\n",
    "plt.xlabel('False Positive Rate')\n",
    "plt.ylabel('True Positive Rate')"
   ]
  },
  {
   "attachments": {},
   "cell_type": "markdown",
   "metadata": {},
   "source": [
    "Ideally we want this curve to be towards the top left; but in a non-ideal world, we want to find the optimal threshold. One way we can do this is by calculating the geometric mean (G-mean) which will find the balance between Sensitivity and Specificity. As a refresher:\n",
    "\n",
    "Sensitivity = True Positive Rate \\\n",
    "Specificity = 1 - False Positive Rate\n",
    "\n",
    "In other words:\n",
    "\n",
    "Sensitivity = TP / (TP + FN) \\\n",
    "Specificity = TN / (FP + TN)\n",
    "\n",
    "To calculate the G-mean, we simply take the square root of the Sensitivity multiplied by the Specificity."
   ]
  },
  {
   "cell_type": "code",
   "execution_count": 35,
   "metadata": {},
   "outputs": [
    {
     "data": {
      "text/plain": [
       "array([0.        , 0.12126781, 0.42008403, 0.41628228, 0.44963625,\n",
       "       0.44756895, 0.46327788, 0.46112808, 0.47625104, 0.47402034,\n",
       "       0.5027745 , 0.5003973 , 0.52746507, 0.52494732, 0.53791093,\n",
       "       0.53531858, 0.59564752, 0.59274898, 0.60404045, 0.60107217,\n",
       "       0.6543645 , 0.64785325, 0.65789808, 0.65456693, 0.67411053,\n",
       "       0.67066238, 0.68017579, 0.669575  , 0.68792292, 0.68056524,\n",
       "       0.6894619 , 0.70691939, 0.72395604, 0.72001075, 0.72833485,\n",
       "       0.72432195, 0.74860761, 0.74443706, 0.75231492, 0.74807649,\n",
       "       0.75582879, 0.74719046, 0.75477635, 0.75037528, 0.75784189,\n",
       "       0.73979544, 0.74701313, 0.74238762, 0.74949197, 0.74479291,\n",
       "       0.75178643, 0.73250664, 0.739258  , 0.73431307, 0.74095857,\n",
       "       0.72065447, 0.72706042, 0.72184845, 0.72815292, 0.70673196,\n",
       "       0.71279844, 0.70729412, 0.71326295, 0.65517386, 0.66061108,\n",
       "       0.62928447, 0.63442157, 0.61469377, 0.61963115, 0.5705407 ,\n",
       "       0.57505098, 0.55249111, 0.53692484, 0.50827806, 0.49104325,\n",
       "       0.41500729, 0.39371049, 0.35940686, 0.33458958, 0.33715352,\n",
       "       0.26448498, 0.26648112, 0.0942153 , 0.0949158 , 0.        ])"
      ]
     },
     "execution_count": 35,
     "metadata": {},
     "output_type": "execute_result"
    }
   ],
   "source": [
    "gmeans = np.sqrt(tpr*(1-fpr))\n",
    "gmeans"
   ]
  },
  {
   "cell_type": "code",
   "execution_count": 36,
   "metadata": {},
   "outputs": [
    {
     "name": "stdout",
     "output_type": "stream",
     "text": [
      "0.29445050500818387\n",
      "0.7578418860978353\n"
     ]
    }
   ],
   "source": [
    "#find the index with the highest gmean\n",
    "\n",
    "print(thresholds[np.argmax(gmeans)])\n",
    "print(gmeans[np.argmax(gmeans)])\n"
   ]
  },
  {
   "attachments": {},
   "cell_type": "markdown",
   "metadata": {},
   "source": [
    "Now for this model, we can conclude that the best threshold is 61%, with a geometric mean of 81%. So how do we actually implement this?\n",
    "\n",
    "Unfortunately, sklearn models don't have a threshold parameter as a hyperparameter. But, we can simply use the predict_proba() function, then assign a class based on the optimal threshold, and go from there. \n",
    "\n",
    "Now let's repeat the process for NB."
   ]
  },
  {
   "cell_type": "code",
   "execution_count": 37,
   "metadata": {},
   "outputs": [
    {
     "name": "stdout",
     "output_type": "stream",
     "text": [
      "0.43931862657482634\n",
      "0.7591518989789662\n"
     ]
    }
   ],
   "source": [
    "fpr_nb, tpr_nb, thresholds_nb = roc_curve(y_test, yhat_nb[:,1])\n",
    "gmeans_nb = np.sqrt(tpr_nb*(1-fpr_nb))\n",
    "print(thresholds_nb[np.argmax(gmeans_nb)])\n",
    "print(gmeans_nb[np.argmax(gmeans_nb)])"
   ]
  },
  {
   "cell_type": "code",
   "execution_count": 38,
   "metadata": {},
   "outputs": [
    {
     "data": {
      "text/plain": [
       "array([0.        , 0.12126781, 0.21004201, 0.20909374, 0.24144065,\n",
       "       0.24034069, 0.43328034, 0.43128823, 0.46327788, 0.46112808,\n",
       "       0.55845384, 0.55583812, 0.56833042, 0.56294328, 0.57505098,\n",
       "       0.57227963, 0.60699421, 0.60404045, 0.61512469, 0.61210194,\n",
       "       0.6335857 , 0.62410508, 0.65456693, 0.65121874, 0.66101206,\n",
       "       0.65759595, 0.6671964 , 0.65668871, 0.66600391, 0.65152383,\n",
       "       0.67812751, 0.69529801, 0.70372617, 0.69976149, 0.73232575,\n",
       "       0.72815292, 0.7591519 , 0.74594825, 0.7533708 , 0.73979544,\n",
       "       0.74701313, 0.7377331 , 0.74479291, 0.73530472, 0.74220914,\n",
       "       0.72760688, 0.73431307, 0.68289728, 0.70127449, 0.66759342,\n",
       "       0.67332394, 0.6556792 , 0.66121245, 0.63671454, 0.64199857,\n",
       "       0.62928447, 0.58260421, 0.58736024, 0.56599449, 0.5705407 ,\n",
       "       0.54049086, 0.54476358, 0.53692484, 0.54110331, 0.50827806,\n",
       "       0.51217296, 0.47680708, 0.45810143, 0.4484561 , 0.41067499,\n",
       "       0.38845965, 0.29793495, 0.26648112, 0.24927027, 0.2511236 ,\n",
       "       0.        ])"
      ]
     },
     "execution_count": 38,
     "metadata": {},
     "output_type": "execute_result"
    }
   ],
   "source": [
    "gmeans_nb"
   ]
  },
  {
   "cell_type": "code",
   "execution_count": 39,
   "metadata": {},
   "outputs": [
    {
     "data": {
      "text/plain": [
       "array([0.        , 0.        , 0.        , 0.00900901, 0.00900901,\n",
       "       0.01801802, 0.01801802, 0.02702703, 0.02702703, 0.03603604,\n",
       "       0.03603604, 0.04504505, 0.04504505, 0.06306306, 0.06306306,\n",
       "       0.07207207, 0.07207207, 0.08108108, 0.08108108, 0.09009009,\n",
       "       0.09009009, 0.11711712, 0.11711712, 0.12612613, 0.12612613,\n",
       "       0.13513514, 0.13513514, 0.16216216, 0.16216216, 0.1981982 ,\n",
       "       0.1981982 , 0.1981982 , 0.1981982 , 0.20720721, 0.20720721,\n",
       "       0.21621622, 0.21621622, 0.24324324, 0.24324324, 0.27027027,\n",
       "       0.27027027, 0.28828829, 0.28828829, 0.30630631, 0.30630631,\n",
       "       0.33333333, 0.33333333, 0.42342342, 0.42342342, 0.47747748,\n",
       "       0.47747748, 0.5045045 , 0.5045045 , 0.54054054, 0.54054054,\n",
       "       0.55855856, 0.62162162, 0.62162162, 0.64864865, 0.64864865,\n",
       "       0.68468468, 0.68468468, 0.69369369, 0.69369369, 0.72972973,\n",
       "       0.72972973, 0.76576577, 0.78378378, 0.79279279, 0.82882883,\n",
       "       0.84684685, 0.90990991, 0.92792793, 0.93693694, 0.93693694,\n",
       "       1.        ])"
      ]
     },
     "execution_count": 39,
     "metadata": {},
     "output_type": "execute_result"
    }
   ],
   "source": [
    "fpr_nb"
   ]
  },
  {
   "cell_type": "code",
   "execution_count": 40,
   "metadata": {},
   "outputs": [
    {
     "data": {
      "text/plain": [
       "Text(0, 0.5, 'True Positive Rate')"
      ]
     },
     "execution_count": 40,
     "metadata": {},
     "output_type": "execute_result"
    },
    {
     "data": {
      "image/png": "[encoded data removed]",
      "text/plain": [
       "<Figure size 640x480 with 1 Axes>"
      ]
     },
     "metadata": {},
     "output_type": "display_data"
    }
   ],
   "source": [
    "import matplotlib.pyplot as plt\n",
    "plt.plot(fpr_nb,tpr_nb)\n",
    "plt.xlabel('False Positive Rate')\n",
    "plt.ylabel('True Positive Rate')"
   ]
  },
  {
   "cell_type": "code",
   "execution_count": 41,
   "metadata": {},
   "outputs": [
    {
     "data": {
      "text/plain": [
       "<matplotlib.legend.Legend at 0x169feffa0>"
      ]
     },
     "execution_count": 41,
     "metadata": {},
     "output_type": "execute_result"
    },
    {
     "data": {
      "image/png": "[encoded data removed]",
      "text/plain": [
       "<Figure size 640x480 with 1 Axes>"
      ]
     },
     "metadata": {},
     "output_type": "display_data"
    }
   ],
   "source": [
    "#now let's plot both models on the same plot so we can see how they compare\n",
    "import matplotlib.pyplot as plt\n",
    "plt.plot(fpr,tpr, label='log_reg')\n",
    "plt.plot(fpr_nb,tpr_nb, label='nb')\n",
    "plt.xlabel('False Positive Rate')\n",
    "plt.ylabel('True Positive Rate')\n",
    "plt.legend()"
   ]
  },
  {
   "attachments": {},
   "cell_type": "markdown",
   "metadata": {},
   "source": [
    "The Logistic Regression is VERY slightly better than Naive Bayes for this problem. And once again, we have not done any tuning to these models, but likely we would want to lean towards tho logistic regression.\n",
    "\n",
    "Now, we cannot use the same method to evaluate KNN, simply because it's not a probability-based model - it uses distance. While we want to find the optimal probability threshold for NB or Logistic Regression, for KNN we would be looking for the optimal number of neighbours. To compare it to these two models though, we could use the confusion matrix, recall, precision, and F1 score. And the roc_curve which is based on predicted values, rather than probabilities."
   ]
  },
  {
   "cell_type": "code",
   "execution_count": 42,
   "metadata": {},
   "outputs": [
    {
     "data": {
      "text/plain": [
       "<matplotlib.legend.Legend at 0x169ce1510>"
      ]
     },
     "execution_count": 42,
     "metadata": {},
     "output_type": "execute_result"
    },
    {
     "data": {
      "image/png": "[encoded data removed]",
      "text/plain": [
       "<Figure size 640x480 with 1 Axes>"
      ]
     },
     "metadata": {},
     "output_type": "display_data"
    }
   ],
   "source": [
    "fpr_knn, tpr_knn, thresholds_knn = roc_curve(y_test, yhat_knn)\n",
    "plt.plot(fpr_knn,tpr_knn, label='knn')\n",
    "plt.legend()"
   ]
  },
  {
   "cell_type": "code",
   "execution_count": 43,
   "metadata": {},
   "outputs": [
    {
     "name": "stdout",
     "output_type": "stream",
     "text": [
      "knn F1:  0.5611510791366907\n",
      "knn precision:  0.5492957746478874\n",
      "knn precision:  0.5735294117647058\n",
      "knn precision:  0.659217877094972\n"
     ]
    }
   ],
   "source": [
    "print(\"knn F1: \", f1_score(y_test,yhat_knn))\n",
    "print(\"knn precision: \", precision_score(y_test,yhat_knn))\n",
    "print(\"knn precision: \", recall_score(y_test,yhat_knn))\n",
    "print(\"knn precision: \", accuracy_score(y_test,yhat_knn))"
   ]
  },
  {
   "attachments": {},
   "cell_type": "markdown",
   "metadata": {},
   "source": [
    "Overall this model performed the worst, so... we should just scrap it. AND THAT'S IT! I hope this was helpful."
   ]
  }
 ],
 "metadata": {
  "kernelspec": {
   "display_name": "Python 3.7.13 ('base')",
   "language": "python",
   "name": "python3"
  },
  "language_info": {
   "codemirror_mode": {
    "name": "ipython",
    "version": 3
   },
   "file_extension": ".py",
   "mimetype": "text/x-python",
   "name": "python",
   "nbconvert_exporter": "python",
   "pygments_lexer": "ipython3",
   "version": "3.10.9"
  },
  "orig_nbformat": 4,
  "vscode": {
   "interpreter": {
    "hash": "ec34e64f2b95dc7183eda31f4b1ab04e3712d1753bd3e78e25e6efc4f82ffea6"
   }
  }
 },
 "nbformat": 4,
 "nbformat_minor": 2
}
